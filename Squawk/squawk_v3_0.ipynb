{
  "cells": [
    {
      "cell_type": "code",
      "execution_count": null,
      "id": "827f7624",
      "metadata": {
        "id": "827f7624"
      },
      "outputs": [],
      "source": [
        "import warnings\n",
        "import numpy as np\n",
        "import pandas as pd\n",
        "import seaborn as sn\n",
        "import matplotlib\n",
        "import matplotlib.pyplot as plt\n",
        "from tensorflow.python.keras.utils import np_utils\n",
        "from tensorflow.keras.models import load_model, Sequential, Model\n",
        "from sklearn.metrics import confusion_matrix\n",
        "# from tensorflow.keras.models import Sequential \n",
        "# from tensorflow.keras.models import Model\n",
        "from tensorflow.keras.layers import Dense, Dropout, Activation, Flatten, LSTM \n",
        "from tensorflow.keras.optimizers import SGD, Adam, RMSprop\n",
        "from sklearn.model_selection import train_test_split"
      ]
    },
    {
      "cell_type": "code",
      "execution_count": null,
      "id": "b38d7a26",
      "metadata": {
        "id": "b38d7a26"
      },
      "outputs": [],
      "source": [
        "warnings.filterwarnings('ignore')\n",
        "matplotlib.style.use('ggplot')"
      ]
    },
    {
      "cell_type": "markdown",
      "id": "465ef178",
      "metadata": {
        "id": "465ef178"
      },
      "source": [
        "# Просто функции\n",
        "## (ﾉ◕ヮ◕)ﾉ*:･ﾟ✧"
      ]
    },
    {
      "cell_type": "code",
      "execution_count": null,
      "id": "2d871741",
      "metadata": {
        "id": "2d871741"
      },
      "outputs": [],
      "source": [
        "def to_Bin(number): # лютый хардкод (╯°□°）╯︵ ┻━┻, ужас, потом переделать \n",
        "    number = str(number)\n",
        "    binNumber = list('0000000000000')\n",
        "\n",
        "    dictOfRule = {\n",
        "        '0' : [0, 0, 0],\n",
        "        '1' : [1, 0, 0],\n",
        "        '2' : [0, 1, 0],\n",
        "        '3' : [1, 1, 0],\n",
        "        '4' : [0, 0, 1],\n",
        "        '5' : [1, 0, 1],\n",
        "        '6' : [0, 1, 1],\n",
        "        '7' : [1, 1, 1]\n",
        "    }\n",
        "    while(len(number)<4):\n",
        "        number = '0' + number\n",
        "\n",
        "    binNumber[0] = dictOfRule[number[2]][0]\n",
        "    binNumber[1] = dictOfRule[number[0]][0]\n",
        "    binNumber[2] = dictOfRule[number[2]][1]\n",
        "    binNumber[3] = dictOfRule[number[0]][1]\n",
        "    binNumber[4] = dictOfRule[number[2]][2]\n",
        "    binNumber[5] = dictOfRule[number[0]][2]\n",
        "    binNumber[6] = 0\n",
        "    binNumber[7] = dictOfRule[number[1]][0]\n",
        "    binNumber[8] = dictOfRule[number[3]][0]\n",
        "    binNumber[9] = dictOfRule[number[1]][1]\n",
        "    binNumber[10] = dictOfRule[number[3]][1]\n",
        "    binNumber[11] = dictOfRule[number[1]][2]\n",
        "    binNumber[12] = dictOfRule[number[3]][2]\n",
        "\n",
        "    bin = str()\n",
        "    for i in binNumber:\n",
        "        bin = bin + str(i)\n",
        "    bin = list(bin)\n",
        "    bin.insert(0,'1')\n",
        "    bin.append('1')\n",
        "    \n",
        "    return bin\n",
        "\n",
        "def to_Dex(input):\n",
        "\n",
        "    '''Функция выполняет декодирование двоичного сигнала сквока и возвращает десятичное число\\n\n",
        "\n",
        "    Parameters\n",
        "    ----------\n",
        "        input : dtype = int, двоичное число\\n'''\n",
        "\n",
        "    bin = str()\n",
        "    input = str(input)\n",
        "    \n",
        "    input = list(input)\n",
        "    input.pop(0)\n",
        "    input.pop(-1)\n",
        "    input = ''.join(input)\n",
        "        \n",
        "    n1 = int(input[1])*1 + int(input[3])*2 + int(input[5])*4\n",
        "    n2 = int(input[7])*1 + int(input[9])*2 + int(input[11])*4\n",
        "    n3 = int(input[0])*1 + int(input[2])*2 + int(input[4])*4\n",
        "    n4 = int(input[8])*1 + int(input[10])*2 + int(input[12])*4\n",
        "    \n",
        "    bin = int(str(n1) + str(n2) + str(n3) + str(n4))\n",
        "\n",
        "    return bin\n",
        "\n",
        "def plotPred(listOfInd, dataTest, dataPred):\n",
        "    \n",
        "    if (type(listOfInd)!=type(list())):\n",
        "        listOfInd = list(listOfInd)\n",
        "    lenght = len(listOfInd)\n",
        "    n1 = 0\n",
        "    n2 = 0\n",
        "    \n",
        "    fig = plt.figure(figsize=(5.33*lenght,8))    \n",
        "    \n",
        "    for i in range(1,lenght*2+1):\n",
        "        exec('ax'+str(i)+' = fig.add_subplot(2,'+str(lenght)+','+str(i)+')')\n",
        "    \n",
        "    for i in range(1,lenght+1):\n",
        "        exec('ax'+str(i)+'.set_yscale(\\'log\\')')    \n",
        "    \n",
        "    for i in range(1,lenght*2+1):\n",
        "        if (i<=lenght):\n",
        "            exec('ax'+str(i)+'.bar(range(dataPred[0].shape[0]),dataPred['+str(listOfInd[n1])+'], width=0.3, edgecolor=\"white\", linewidth=1)')\n",
        "            exec('ax'+str(i)+'.set_title(\\'Предсказанные импульсы\\')')\n",
        "            n1 += 1\n",
        "        else:\n",
        "            exec('ax'+str(i)+'.plot(dataTest['+str(listOfInd[n2])+'])')\n",
        "            exec('ax'+str(i)+'.set_title(\\'Реальный сигнал\\')')\n",
        "            n2 += 1\n",
        "            \n",
        "def single_predict(n, data, sense):\n",
        "    \n",
        "    \n",
        "    X = np.array([data.iloc[n,1:86]])\n",
        "    \n",
        "    xt = (X.T[:,:] - X.T[:,:].mean())/ X.T[:,:].std()\n",
        "    yt = np.array(to_Bin(int(data.iloc[n,0]))).astype(float)\n",
        "    \n",
        "    xt = xt.reshape(1,-1)\n",
        "    \n",
        "    bin_pred = nn.predict(xt,verbose=0)\n",
        "\n",
        "    \n",
        "    lim = eval('1.0e-'+str(sense))\n",
        "    bin_pred[np.where(bin_pred<lim)] = 0 \n",
        "    bin_pred[np.where(bin_pred>=lim)] = 1\n",
        "\n",
        "    rs_predictions = bin_pred.reshape(-1,1)\n",
        "    rs_y_test = yt.reshape(-1,1)\n",
        "\n",
        "    plotPred([0], xt, bin_pred)\n",
        "    \n",
        "    bin_pred = bin_pred.astype(int).astype(str).reshape(-1)    \n",
        "    bin_pred = ''.join(bin_pred)\n",
        "    print(\"Реальный сквок: {0}\\nПредсказанный сквок: {1}\".format(int(data.iloc[n,0]),to_Dex(bin_pred)))    \n",
        "    \n",
        "    cm = confusion_matrix(rs_predictions, rs_y_test)\n",
        "\n",
        "    figure = plt.figure(figsize=(5, 4))\n",
        "    ax = sn.heatmap(cm, annot=True,fmt='g',cmap=plt.cm.Blues)\n",
        "    plt.tight_layout()\n",
        "    plt.title('Confusion matrix')\n",
        "    plt.ylabel('True label')\n",
        "    plt.xlabel('Predicted label')\n",
        "\n",
        "def single_predictYON(n, data):\n",
        "    \n",
        "    n_classes = 2 # кол-во используемых классов \n",
        "    \n",
        "    X = np.array([data.iloc[n,1:]])\n",
        "    Y = np.array([data.iloc[n,0]]).astype(int)\n",
        "    data.iloc[n,1:].plot()\n",
        "\n",
        "    xt = (X.T[:,:] - X.T[:,:].mean())/ X.T[:,:].std()\n",
        "    yt = np_utils.to_categorical(Y, n_classes) \n",
        "\n",
        "    xt = xt.reshape(1,-1)\n",
        "\n",
        "    predictions = nnYON.predict(xt,verbose=0) \n",
        "\n",
        "    pred = np.argmax(predictions, axis = 1)\n",
        "    target_test = np.argmax(yt, axis = 1)\n",
        "\n",
        "    print(\"Есть ли тут сигнал сквока\\n0 - нет, 1 - есть\\n\"\n",
        "        \"Реальное значение: {0}\\n\"\n",
        "        \"Значение предикта: {1}\\n\"\n",
        "        \n",
        "        .format(target_test[0],pred[0]))\n"
      ]
    },
    {
      "cell_type": "code",
      "execution_count": null,
      "id": "31f21470",
      "metadata": {
        "id": "31f21470"
      },
      "outputs": [],
      "source": [
        "# ------------------------------------------------------------------------------------------------ #"
      ]
    },
    {
      "cell_type": "markdown",
      "id": "3d457779",
      "metadata": {
        "id": "3d457779"
      },
      "source": [
        "# Танцы с *датафреймом* \n",
        "## (╬▔皿▔)╯"
      ]
    },
    {
      "cell_type": "code",
      "execution_count": null,
      "id": "614d745c",
      "metadata": {
        "id": "614d745c"
      },
      "outputs": [],
      "source": [
        "dft = pd.read_csv('../data/out/dfEdited.csv')\n",
        "dataAC = pd.read_csv('../data/detection/DataSet_AC_sig_pom_title.csv')\n",
        "dft = dft.drop('Unnamed: 0', axis=1)"
      ]
    },
    {
      "cell_type": "code",
      "execution_count": null,
      "id": "fbe7b235",
      "metadata": {
        "id": "fbe7b235",
        "outputId": "fd183e44-9b45-41b5-9e51-a9c048b1a465"
      },
      "outputs": [
        {
          "data": {
            "text/html": [
              "<div>\n",
              "<style scoped>\n",
              "    .dataframe tbody tr th:only-of-type {\n",
              "        vertical-align: middle;\n",
              "    }\n",
              "\n",
              "    .dataframe tbody tr th {\n",
              "        vertical-align: top;\n",
              "    }\n",
              "\n",
              "    .dataframe thead th {\n",
              "        text-align: right;\n",
              "    }\n",
              "</style>\n",
              "<table border=\"1\" class=\"dataframe\">\n",
              "  <thead>\n",
              "    <tr style=\"text-align: right;\">\n",
              "      <th></th>\n",
              "      <th>label</th>\n",
              "      <th>sample1</th>\n",
              "      <th>sample2</th>\n",
              "      <th>sample3</th>\n",
              "      <th>sample4</th>\n",
              "      <th>sample5</th>\n",
              "      <th>sample6</th>\n",
              "      <th>sample7</th>\n",
              "      <th>sample8</th>\n",
              "      <th>sample9</th>\n",
              "      <th>...</th>\n",
              "      <th>sample76</th>\n",
              "      <th>sample77</th>\n",
              "      <th>sample78</th>\n",
              "      <th>sample79</th>\n",
              "      <th>sample80</th>\n",
              "      <th>sample81</th>\n",
              "      <th>sample82</th>\n",
              "      <th>sample83</th>\n",
              "      <th>sample84</th>\n",
              "      <th>sample85</th>\n",
              "    </tr>\n",
              "  </thead>\n",
              "  <tbody>\n",
              "    <tr>\n",
              "      <th>0</th>\n",
              "      <td>0</td>\n",
              "      <td>537.90</td>\n",
              "      <td>1647.9</td>\n",
              "      <td>396.92</td>\n",
              "      <td>97.252</td>\n",
              "      <td>81.320</td>\n",
              "      <td>86.279</td>\n",
              "      <td>941.60</td>\n",
              "      <td>13.892</td>\n",
              "      <td>64.661</td>\n",
              "      <td>...</td>\n",
              "      <td>226.210</td>\n",
              "      <td>74.673</td>\n",
              "      <td>158.620</td>\n",
              "      <td>37.656</td>\n",
              "      <td>20.248</td>\n",
              "      <td>81.615</td>\n",
              "      <td>297.470</td>\n",
              "      <td>1581.6</td>\n",
              "      <td>672.33</td>\n",
              "      <td>143.850</td>\n",
              "    </tr>\n",
              "    <tr>\n",
              "      <th>1</th>\n",
              "      <td>0</td>\n",
              "      <td>212.90</td>\n",
              "      <td>1657.5</td>\n",
              "      <td>1134.00</td>\n",
              "      <td>91.082</td>\n",
              "      <td>151.400</td>\n",
              "      <td>55.902</td>\n",
              "      <td>434.19</td>\n",
              "      <td>41.485</td>\n",
              "      <td>44.385</td>\n",
              "      <td>...</td>\n",
              "      <td>83.217</td>\n",
              "      <td>67.676</td>\n",
              "      <td>46.098</td>\n",
              "      <td>91.482</td>\n",
              "      <td>40.012</td>\n",
              "      <td>31.064</td>\n",
              "      <td>81.615</td>\n",
              "      <td>1394.2</td>\n",
              "      <td>1494.40</td>\n",
              "      <td>53.085</td>\n",
              "    </tr>\n",
              "    <tr>\n",
              "      <th>2</th>\n",
              "      <td>0</td>\n",
              "      <td>105.22</td>\n",
              "      <td>1385.6</td>\n",
              "      <td>1053.30</td>\n",
              "      <td>125.210</td>\n",
              "      <td>18.248</td>\n",
              "      <td>51.856</td>\n",
              "      <td>265.71</td>\n",
              "      <td>48.104</td>\n",
              "      <td>75.027</td>\n",
              "      <td>...</td>\n",
              "      <td>51.624</td>\n",
              "      <td>90.918</td>\n",
              "      <td>45.044</td>\n",
              "      <td>63.253</td>\n",
              "      <td>69.116</td>\n",
              "      <td>63.159</td>\n",
              "      <td>76.164</td>\n",
              "      <td>1134.3</td>\n",
              "      <td>1245.20</td>\n",
              "      <td>90.609</td>\n",
              "    </tr>\n",
              "  </tbody>\n",
              "</table>\n",
              "<p>3 rows × 86 columns</p>\n",
              "</div>"
            ],
            "text/plain": [
              "   label  sample1  sample2  sample3  sample4  sample5  sample6  sample7  \\\n",
              "0      0   537.90   1647.9   396.92   97.252   81.320   86.279   941.60   \n",
              "1      0   212.90   1657.5  1134.00   91.082  151.400   55.902   434.19   \n",
              "2      0   105.22   1385.6  1053.30  125.210   18.248   51.856   265.71   \n",
              "\n",
              "   sample8  sample9  ...  sample76  sample77  sample78  sample79  sample80  \\\n",
              "0   13.892   64.661  ...   226.210    74.673   158.620    37.656    20.248   \n",
              "1   41.485   44.385  ...    83.217    67.676    46.098    91.482    40.012   \n",
              "2   48.104   75.027  ...    51.624    90.918    45.044    63.253    69.116   \n",
              "\n",
              "   sample81  sample82  sample83  sample84  sample85  \n",
              "0    81.615   297.470    1581.6    672.33   143.850  \n",
              "1    31.064    81.615    1394.2   1494.40    53.085  \n",
              "2    63.159    76.164    1134.3   1245.20    90.609  \n",
              "\n",
              "[3 rows x 86 columns]"
            ]
          },
          "execution_count": 6,
          "metadata": {},
          "output_type": "execute_result"
        }
      ],
      "source": [
        "dft.head(3)"
      ]
    },
    {
      "cell_type": "code",
      "execution_count": null,
      "id": "7b308769",
      "metadata": {
        "id": "7b308769"
      },
      "outputs": [],
      "source": [
        "valuesList = list()\n",
        "for i in dft['label']:\n",
        "    valuesList.append(to_Bin(i))\n",
        "    \n",
        "labels = list()\n",
        "for i in range(15):\n",
        "    labels.append('x'+str(i))"
      ]
    },
    {
      "cell_type": "code",
      "execution_count": null,
      "id": "aa1322c4",
      "metadata": {
        "scrolled": true,
        "id": "aa1322c4",
        "outputId": "a5015228-30dc-423a-b741-139f456fafcb"
      },
      "outputs": [
        {
          "data": {
            "text/html": [
              "<div>\n",
              "<style scoped>\n",
              "    .dataframe tbody tr th:only-of-type {\n",
              "        vertical-align: middle;\n",
              "    }\n",
              "\n",
              "    .dataframe tbody tr th {\n",
              "        vertical-align: top;\n",
              "    }\n",
              "\n",
              "    .dataframe thead th {\n",
              "        text-align: right;\n",
              "    }\n",
              "</style>\n",
              "<table border=\"1\" class=\"dataframe\">\n",
              "  <thead>\n",
              "    <tr style=\"text-align: right;\">\n",
              "      <th></th>\n",
              "      <th>label</th>\n",
              "      <th>sample1</th>\n",
              "      <th>sample2</th>\n",
              "      <th>sample3</th>\n",
              "      <th>sample4</th>\n",
              "      <th>sample5</th>\n",
              "      <th>sample6</th>\n",
              "      <th>sample7</th>\n",
              "      <th>sample8</th>\n",
              "      <th>sample9</th>\n",
              "      <th>...</th>\n",
              "      <th>x5</th>\n",
              "      <th>x6</th>\n",
              "      <th>x7</th>\n",
              "      <th>x8</th>\n",
              "      <th>x9</th>\n",
              "      <th>x10</th>\n",
              "      <th>x11</th>\n",
              "      <th>x12</th>\n",
              "      <th>x13</th>\n",
              "      <th>x14</th>\n",
              "    </tr>\n",
              "  </thead>\n",
              "  <tbody>\n",
              "    <tr>\n",
              "      <th>0</th>\n",
              "      <td>0</td>\n",
              "      <td>537.900</td>\n",
              "      <td>1647.90</td>\n",
              "      <td>396.92</td>\n",
              "      <td>97.252</td>\n",
              "      <td>81.320</td>\n",
              "      <td>86.279</td>\n",
              "      <td>941.600</td>\n",
              "      <td>13.892</td>\n",
              "      <td>64.661</td>\n",
              "      <td>...</td>\n",
              "      <td>0</td>\n",
              "      <td>0</td>\n",
              "      <td>0</td>\n",
              "      <td>0</td>\n",
              "      <td>0</td>\n",
              "      <td>0</td>\n",
              "      <td>0</td>\n",
              "      <td>0</td>\n",
              "      <td>0</td>\n",
              "      <td>1</td>\n",
              "    </tr>\n",
              "    <tr>\n",
              "      <th>1</th>\n",
              "      <td>0</td>\n",
              "      <td>212.900</td>\n",
              "      <td>1657.50</td>\n",
              "      <td>1134.00</td>\n",
              "      <td>91.082</td>\n",
              "      <td>151.400</td>\n",
              "      <td>55.902</td>\n",
              "      <td>434.190</td>\n",
              "      <td>41.485</td>\n",
              "      <td>44.385</td>\n",
              "      <td>...</td>\n",
              "      <td>0</td>\n",
              "      <td>0</td>\n",
              "      <td>0</td>\n",
              "      <td>0</td>\n",
              "      <td>0</td>\n",
              "      <td>0</td>\n",
              "      <td>0</td>\n",
              "      <td>0</td>\n",
              "      <td>0</td>\n",
              "      <td>1</td>\n",
              "    </tr>\n",
              "    <tr>\n",
              "      <th>2</th>\n",
              "      <td>0</td>\n",
              "      <td>105.220</td>\n",
              "      <td>1385.60</td>\n",
              "      <td>1053.30</td>\n",
              "      <td>125.210</td>\n",
              "      <td>18.248</td>\n",
              "      <td>51.856</td>\n",
              "      <td>265.710</td>\n",
              "      <td>48.104</td>\n",
              "      <td>75.027</td>\n",
              "      <td>...</td>\n",
              "      <td>0</td>\n",
              "      <td>0</td>\n",
              "      <td>0</td>\n",
              "      <td>0</td>\n",
              "      <td>0</td>\n",
              "      <td>0</td>\n",
              "      <td>0</td>\n",
              "      <td>0</td>\n",
              "      <td>0</td>\n",
              "      <td>1</td>\n",
              "    </tr>\n",
              "    <tr>\n",
              "      <th>3</th>\n",
              "      <td>0</td>\n",
              "      <td>123.490</td>\n",
              "      <td>1548.10</td>\n",
              "      <td>1051.50</td>\n",
              "      <td>122.070</td>\n",
              "      <td>44.944</td>\n",
              "      <td>87.235</td>\n",
              "      <td>397.850</td>\n",
              "      <td>51.865</td>\n",
              "      <td>36.674</td>\n",
              "      <td>...</td>\n",
              "      <td>0</td>\n",
              "      <td>0</td>\n",
              "      <td>0</td>\n",
              "      <td>0</td>\n",
              "      <td>0</td>\n",
              "      <td>0</td>\n",
              "      <td>0</td>\n",
              "      <td>0</td>\n",
              "      <td>0</td>\n",
              "      <td>1</td>\n",
              "    </tr>\n",
              "    <tr>\n",
              "      <th>4</th>\n",
              "      <td>0</td>\n",
              "      <td>238.450</td>\n",
              "      <td>1584.00</td>\n",
              "      <td>833.78</td>\n",
              "      <td>108.240</td>\n",
              "      <td>33.838</td>\n",
              "      <td>128.320</td>\n",
              "      <td>528.780</td>\n",
              "      <td>107.840</td>\n",
              "      <td>86.023</td>\n",
              "      <td>...</td>\n",
              "      <td>0</td>\n",
              "      <td>0</td>\n",
              "      <td>0</td>\n",
              "      <td>0</td>\n",
              "      <td>0</td>\n",
              "      <td>0</td>\n",
              "      <td>0</td>\n",
              "      <td>0</td>\n",
              "      <td>0</td>\n",
              "      <td>1</td>\n",
              "    </tr>\n",
              "    <tr>\n",
              "      <th>...</th>\n",
              "      <td>...</td>\n",
              "      <td>...</td>\n",
              "      <td>...</td>\n",
              "      <td>...</td>\n",
              "      <td>...</td>\n",
              "      <td>...</td>\n",
              "      <td>...</td>\n",
              "      <td>...</td>\n",
              "      <td>...</td>\n",
              "      <td>...</td>\n",
              "      <td>...</td>\n",
              "      <td>...</td>\n",
              "      <td>...</td>\n",
              "      <td>...</td>\n",
              "      <td>...</td>\n",
              "      <td>...</td>\n",
              "      <td>...</td>\n",
              "      <td>...</td>\n",
              "      <td>...</td>\n",
              "      <td>...</td>\n",
              "      <td>...</td>\n",
              "    </tr>\n",
              "    <tr>\n",
              "      <th>2655995</th>\n",
              "      <td>7624</td>\n",
              "      <td>105.690</td>\n",
              "      <td>424.29</td>\n",
              "      <td>227.78</td>\n",
              "      <td>71.169</td>\n",
              "      <td>8.544</td>\n",
              "      <td>29.069</td>\n",
              "      <td>71.021</td>\n",
              "      <td>43.186</td>\n",
              "      <td>23.854</td>\n",
              "      <td>...</td>\n",
              "      <td>0</td>\n",
              "      <td>1</td>\n",
              "      <td>0</td>\n",
              "      <td>0</td>\n",
              "      <td>0</td>\n",
              "      <td>1</td>\n",
              "      <td>0</td>\n",
              "      <td>1</td>\n",
              "      <td>1</td>\n",
              "      <td>1</td>\n",
              "    </tr>\n",
              "    <tr>\n",
              "      <th>2655996</th>\n",
              "      <td>7624</td>\n",
              "      <td>63.561</td>\n",
              "      <td>346.14</td>\n",
              "      <td>405.28</td>\n",
              "      <td>61.555</td>\n",
              "      <td>13.342</td>\n",
              "      <td>51.923</td>\n",
              "      <td>90.139</td>\n",
              "      <td>60.141</td>\n",
              "      <td>30.150</td>\n",
              "      <td>...</td>\n",
              "      <td>0</td>\n",
              "      <td>1</td>\n",
              "      <td>0</td>\n",
              "      <td>0</td>\n",
              "      <td>0</td>\n",
              "      <td>1</td>\n",
              "      <td>0</td>\n",
              "      <td>1</td>\n",
              "      <td>1</td>\n",
              "      <td>1</td>\n",
              "    </tr>\n",
              "    <tr>\n",
              "      <th>2655997</th>\n",
              "      <td>7624</td>\n",
              "      <td>33.615</td>\n",
              "      <td>379.60</td>\n",
              "      <td>305.98</td>\n",
              "      <td>57.940</td>\n",
              "      <td>90.139</td>\n",
              "      <td>40.706</td>\n",
              "      <td>110.570</td>\n",
              "      <td>62.394</td>\n",
              "      <td>35.468</td>\n",
              "      <td>...</td>\n",
              "      <td>0</td>\n",
              "      <td>1</td>\n",
              "      <td>0</td>\n",
              "      <td>0</td>\n",
              "      <td>0</td>\n",
              "      <td>1</td>\n",
              "      <td>0</td>\n",
              "      <td>1</td>\n",
              "      <td>1</td>\n",
              "      <td>1</td>\n",
              "    </tr>\n",
              "    <tr>\n",
              "      <th>2655998</th>\n",
              "      <td>7624</td>\n",
              "      <td>71.610</td>\n",
              "      <td>409.27</td>\n",
              "      <td>355.83</td>\n",
              "      <td>32.202</td>\n",
              "      <td>44.147</td>\n",
              "      <td>27.000</td>\n",
              "      <td>103.310</td>\n",
              "      <td>52.240</td>\n",
              "      <td>63.789</td>\n",
              "      <td>...</td>\n",
              "      <td>0</td>\n",
              "      <td>1</td>\n",
              "      <td>0</td>\n",
              "      <td>0</td>\n",
              "      <td>0</td>\n",
              "      <td>1</td>\n",
              "      <td>0</td>\n",
              "      <td>1</td>\n",
              "      <td>1</td>\n",
              "      <td>1</td>\n",
              "    </tr>\n",
              "    <tr>\n",
              "      <th>2655999</th>\n",
              "      <td>7624</td>\n",
              "      <td>119.920</td>\n",
              "      <td>441.37</td>\n",
              "      <td>326.08</td>\n",
              "      <td>10.050</td>\n",
              "      <td>47.381</td>\n",
              "      <td>70.725</td>\n",
              "      <td>69.971</td>\n",
              "      <td>21.024</td>\n",
              "      <td>53.235</td>\n",
              "      <td>...</td>\n",
              "      <td>0</td>\n",
              "      <td>1</td>\n",
              "      <td>0</td>\n",
              "      <td>0</td>\n",
              "      <td>0</td>\n",
              "      <td>1</td>\n",
              "      <td>0</td>\n",
              "      <td>1</td>\n",
              "      <td>1</td>\n",
              "      <td>1</td>\n",
              "    </tr>\n",
              "  </tbody>\n",
              "</table>\n",
              "<p>2656000 rows × 101 columns</p>\n",
              "</div>"
            ],
            "text/plain": [
              "         label  sample1  sample2  sample3  sample4  sample5  sample6  sample7  \\\n",
              "0            0  537.900  1647.90   396.92   97.252   81.320   86.279  941.600   \n",
              "1            0  212.900  1657.50  1134.00   91.082  151.400   55.902  434.190   \n",
              "2            0  105.220  1385.60  1053.30  125.210   18.248   51.856  265.710   \n",
              "3            0  123.490  1548.10  1051.50  122.070   44.944   87.235  397.850   \n",
              "4            0  238.450  1584.00   833.78  108.240   33.838  128.320  528.780   \n",
              "...        ...      ...      ...      ...      ...      ...      ...      ...   \n",
              "2655995   7624  105.690   424.29   227.78   71.169    8.544   29.069   71.021   \n",
              "2655996   7624   63.561   346.14   405.28   61.555   13.342   51.923   90.139   \n",
              "2655997   7624   33.615   379.60   305.98   57.940   90.139   40.706  110.570   \n",
              "2655998   7624   71.610   409.27   355.83   32.202   44.147   27.000  103.310   \n",
              "2655999   7624  119.920   441.37   326.08   10.050   47.381   70.725   69.971   \n",
              "\n",
              "         sample8  sample9  ...  x5  x6  x7  x8  x9  x10  x11  x12  x13  x14  \n",
              "0         13.892   64.661  ...   0   0   0   0   0    0    0    0    0    1  \n",
              "1         41.485   44.385  ...   0   0   0   0   0    0    0    0    0    1  \n",
              "2         48.104   75.027  ...   0   0   0   0   0    0    0    0    0    1  \n",
              "3         51.865   36.674  ...   0   0   0   0   0    0    0    0    0    1  \n",
              "4        107.840   86.023  ...   0   0   0   0   0    0    0    0    0    1  \n",
              "...          ...      ...  ...  ..  ..  ..  ..  ..  ...  ...  ...  ...  ...  \n",
              "2655995   43.186   23.854  ...   0   1   0   0   0    1    0    1    1    1  \n",
              "2655996   60.141   30.150  ...   0   1   0   0   0    1    0    1    1    1  \n",
              "2655997   62.394   35.468  ...   0   1   0   0   0    1    0    1    1    1  \n",
              "2655998   52.240   63.789  ...   0   1   0   0   0    1    0    1    1    1  \n",
              "2655999   21.024   53.235  ...   0   1   0   0   0    1    0    1    1    1  \n",
              "\n",
              "[2656000 rows x 101 columns]"
            ]
          },
          "execution_count": 8,
          "metadata": {},
          "output_type": "execute_result"
        }
      ],
      "source": [
        "dft[labels] = valuesList\n",
        "dft"
      ]
    },
    {
      "cell_type": "code",
      "execution_count": null,
      "id": "ae7a2e2d",
      "metadata": {
        "id": "ae7a2e2d"
      },
      "outputs": [],
      "source": [
        "# --------------------------------------------------------------------- #"
      ]
    },
    {
      "cell_type": "markdown",
      "id": "a231cc25",
      "metadata": {
        "id": "a231cc25"
      },
      "source": [
        "# Классификатор **\"Свой - Чужой\"**\n",
        "\n",
        "## 〜(￣▽￣〜) . . . (〜￣▽￣)〜"
      ]
    },
    {
      "cell_type": "code",
      "execution_count": null,
      "id": "e029897e",
      "metadata": {
        "id": "e029897e",
        "outputId": "f78c8a9f-b235-4a13-fa06-f71b15b8545a"
      },
      "outputs": [
        {
          "data": {
            "text/html": [
              "<div>\n",
              "<style scoped>\n",
              "    .dataframe tbody tr th:only-of-type {\n",
              "        vertical-align: middle;\n",
              "    }\n",
              "\n",
              "    .dataframe tbody tr th {\n",
              "        vertical-align: top;\n",
              "    }\n",
              "\n",
              "    .dataframe thead th {\n",
              "        text-align: right;\n",
              "    }\n",
              "</style>\n",
              "<table border=\"1\" class=\"dataframe\">\n",
              "  <thead>\n",
              "    <tr style=\"text-align: right;\">\n",
              "      <th></th>\n",
              "      <th>label</th>\n",
              "      <th>sample1</th>\n",
              "      <th>sample2</th>\n",
              "      <th>sample3</th>\n",
              "      <th>sample4</th>\n",
              "      <th>sample5</th>\n",
              "      <th>sample6</th>\n",
              "      <th>sample7</th>\n",
              "      <th>sample8</th>\n",
              "      <th>sample9</th>\n",
              "      <th>...</th>\n",
              "      <th>sample76</th>\n",
              "      <th>sample77</th>\n",
              "      <th>sample78</th>\n",
              "      <th>sample79</th>\n",
              "      <th>sample80</th>\n",
              "      <th>sample81</th>\n",
              "      <th>sample82</th>\n",
              "      <th>sample83</th>\n",
              "      <th>sample84</th>\n",
              "      <th>sample85</th>\n",
              "    </tr>\n",
              "  </thead>\n",
              "  <tbody>\n",
              "    <tr>\n",
              "      <th>0</th>\n",
              "      <td>0</td>\n",
              "      <td>-0.45757</td>\n",
              "      <td>-0.58749</td>\n",
              "      <td>1.27100</td>\n",
              "      <td>0.13010</td>\n",
              "      <td>-1.00130</td>\n",
              "      <td>-0.22555</td>\n",
              "      <td>1.51220</td>\n",
              "      <td>0.65994</td>\n",
              "      <td>-1.0259</td>\n",
              "      <td>...</td>\n",
              "      <td>-0.345290</td>\n",
              "      <td>1.956800</td>\n",
              "      <td>0.011627</td>\n",
              "      <td>-0.60047</td>\n",
              "      <td>-0.44952</td>\n",
              "      <td>1.64720</td>\n",
              "      <td>0.30326</td>\n",
              "      <td>-0.71368</td>\n",
              "      <td>-0.55759</td>\n",
              "      <td>1.64480</td>\n",
              "    </tr>\n",
              "    <tr>\n",
              "      <th>1</th>\n",
              "      <td>0</td>\n",
              "      <td>-0.60022</td>\n",
              "      <td>1.25520</td>\n",
              "      <td>0.11619</td>\n",
              "      <td>-1.01340</td>\n",
              "      <td>-0.23887</td>\n",
              "      <td>1.49600</td>\n",
              "      <td>0.64517</td>\n",
              "      <td>-1.03790</td>\n",
              "      <td>-1.0318</td>\n",
              "      <td>...</td>\n",
              "      <td>1.939900</td>\n",
              "      <td>-0.002086</td>\n",
              "      <td>-0.613170</td>\n",
              "      <td>-0.46248</td>\n",
              "      <td>1.63090</td>\n",
              "      <td>0.28907</td>\n",
              "      <td>-0.72620</td>\n",
              "      <td>-0.57037</td>\n",
              "      <td>1.62840</td>\n",
              "      <td>0.69345</td>\n",
              "    </tr>\n",
              "    <tr>\n",
              "      <th>2</th>\n",
              "      <td>0</td>\n",
              "      <td>1.25440</td>\n",
              "      <td>0.12221</td>\n",
              "      <td>-1.00060</td>\n",
              "      <td>-0.23073</td>\n",
              "      <td>1.49380</td>\n",
              "      <td>0.64802</td>\n",
              "      <td>-1.02500</td>\n",
              "      <td>-1.01890</td>\n",
              "      <td>-1.1094</td>\n",
              "      <td>...</td>\n",
              "      <td>0.004642</td>\n",
              "      <td>-0.602790</td>\n",
              "      <td>-0.452990</td>\n",
              "      <td>1.62780</td>\n",
              "      <td>0.29406</td>\n",
              "      <td>-0.71513</td>\n",
              "      <td>-0.56023</td>\n",
              "      <td>1.62540</td>\n",
              "      <td>0.69601</td>\n",
              "      <td>-1.16070</td>\n",
              "    </tr>\n",
              "  </tbody>\n",
              "</table>\n",
              "<p>3 rows × 86 columns</p>\n",
              "</div>"
            ],
            "text/plain": [
              "   label  sample1  sample2  sample3  sample4  sample5  sample6  sample7  \\\n",
              "0      0 -0.45757 -0.58749  1.27100  0.13010 -1.00130 -0.22555  1.51220   \n",
              "1      0 -0.60022  1.25520  0.11619 -1.01340 -0.23887  1.49600  0.64517   \n",
              "2      0  1.25440  0.12221 -1.00060 -0.23073  1.49380  0.64802 -1.02500   \n",
              "\n",
              "   sample8  sample9  ...  sample76  sample77  sample78  sample79  sample80  \\\n",
              "0  0.65994  -1.0259  ... -0.345290  1.956800  0.011627  -0.60047  -0.44952   \n",
              "1 -1.03790  -1.0318  ...  1.939900 -0.002086 -0.613170  -0.46248   1.63090   \n",
              "2 -1.01890  -1.1094  ...  0.004642 -0.602790 -0.452990   1.62780   0.29406   \n",
              "\n",
              "   sample81  sample82  sample83  sample84  sample85  \n",
              "0   1.64720   0.30326  -0.71368  -0.55759   1.64480  \n",
              "1   0.28907  -0.72620  -0.57037   1.62840   0.69345  \n",
              "2  -0.71513  -0.56023   1.62540   0.69601  -1.16070  \n",
              "\n",
              "[3 rows x 86 columns]"
            ]
          },
          "execution_count": 10,
          "metadata": {},
          "output_type": "execute_result"
        }
      ],
      "source": [
        "dataAC.head(3)"
      ]
    },
    {
      "cell_type": "code",
      "execution_count": null,
      "id": "851fb96c",
      "metadata": {
        "id": "851fb96c",
        "outputId": "a768cd5d-f498-45e3-c1a5-c8164834b887"
      },
      "outputs": [
        {
          "name": "stdout",
          "output_type": "stream",
          "text": [
            "(88000, 85) (88000,)\n"
          ]
        }
      ],
      "source": [
        "X_data = dataAC.iloc[:,1:86].values\n",
        "Y_data = dataAC.iloc[:,0].values\n",
        "\n",
        "X_data = X_data.astype('float32')\n",
        "Y_data = Y_data.astype('float32')\n",
        "\n",
        "print(X_data.shape, Y_data.shape)"
      ]
    },
    {
      "cell_type": "code",
      "execution_count": null,
      "id": "007e1194",
      "metadata": {
        "id": "007e1194"
      },
      "outputs": [],
      "source": [
        "X_train, X_test, y_train, y_test = train_test_split(X_data, Y_data, random_state=42)"
      ]
    },
    {
      "cell_type": "code",
      "execution_count": null,
      "id": "058094e3",
      "metadata": {
        "id": "058094e3"
      },
      "outputs": [],
      "source": [
        "\n",
        "# нормализация \n",
        "X_train_norm = (X_train.T[:,:] - X_train.T[:,:].mean())/ X_train.T[:,:].std()\n",
        "X_test_norm = (X_test.T[:,:] - X_test.T[:,:].mean())/ X_test.T[:,:].std()\n",
        "\n",
        "X_train_norm = X_train_norm.T\n",
        "X_test_norm = X_test_norm.T\n",
        "\n",
        "# бинарное кодирование предикторов\n",
        "n_classes = 2\n",
        "y_train_bin = np_utils.to_categorical(y_train, n_classes) \n",
        "y_test_bin = np_utils.to_categorical(y_test, n_classes) "
      ]
    },
    {
      "cell_type": "code",
      "execution_count": null,
      "id": "628f49c0",
      "metadata": {
        "id": "628f49c0",
        "outputId": "9852019e-4a6e-4816-9ec0-70e742f8582a"
      },
      "outputs": [
        {
          "name": "stdout",
          "output_type": "stream",
          "text": [
            "Model: \"sequential\"\n",
            "_________________________________________________________________\n",
            "Layer (type)                 Output Shape              Param #   \n",
            "=================================================================\n",
            "dense (Dense)                (None, 85)                7310      \n",
            "_________________________________________________________________\n",
            "dropout (Dropout)            (None, 85)                0         \n",
            "_________________________________________________________________\n",
            "dense_1 (Dense)              (None, 2)                 172       \n",
            "=================================================================\n",
            "Total params: 7,482\n",
            "Trainable params: 7,482\n",
            "Non-trainable params: 0\n",
            "_________________________________________________________________\n"
          ]
        }
      ],
      "source": [
        "try:\n",
        "    del(nnYON, modelYON)\n",
        "    print(\"deleted\")\n",
        "except:\n",
        "    None\n",
        "\n",
        "modelYON = Sequential()\n",
        "modelYON.add(Dense(85, activation='softsign', input_dim=85)) # 256\n",
        "modelYON.add(Dropout(0.5))\n",
        "modelYON.add(Dense(2, activation='softmax'))\n",
        "modelYON.compile(loss=\"binary_crossentropy\", # categorical_crossentropy binary_crossentropy\n",
        "              optimizer=Adam(learning_rate=0.001),\n",
        "              metrics=['accuracy'])\n",
        "\n",
        "modelYON.summary()"
      ]
    },
    {
      "cell_type": "code",
      "execution_count": null,
      "id": "2e1b3fc7",
      "metadata": {
        "id": "2e1b3fc7",
        "outputId": "456bd0b6-f508-482e-dca6-afcb41b7b9d6"
      },
      "outputs": [
        {
          "name": "stdout",
          "output_type": "stream",
          "text": [
            "Epoch 1/3\n",
            "528/528 [==============================] - 3s 2ms/step - loss: 0.1880 - accuracy: 0.9268 - val_loss: 0.0247 - val_accuracy: 0.9987\n",
            "Epoch 2/3\n",
            "528/528 [==============================] - 1s 1ms/step - loss: 0.0154 - accuracy: 0.9986 - val_loss: 0.0054 - val_accuracy: 0.9997\n",
            "Epoch 3/3\n",
            "528/528 [==============================] - 1s 1ms/step - loss: 0.0052 - accuracy: 0.9995 - val_loss: 0.0028 - val_accuracy: 0.9997\n"
          ]
        },
        {
          "data": {
            "image/png": "[encoded data removed]",
            "text/plain": [
              "<Figure size 864x432 with 2 Axes>"
            ]
          },
          "metadata": {},
          "output_type": "display_data"
        }
      ],
      "source": [
        "np.random.seed(1337) \n",
        "nnYON = modelYON.fit(X_train_norm, y_train_bin, batch_size=100, epochs = 3, verbose = 1, validation_split = 0.2)\n",
        "\n",
        "fig, (ax1, ax2) = plt.subplots(nrows=1, ncols=2, figsize=(12,6))\n",
        "\n",
        "ax1.plot(nnYON.history['loss'])\n",
        "ax1.set_title('loss')\n",
        "ax1.set_xlabel('epoch')\n",
        "ax1.set_ylabel('value')\n",
        "\n",
        "ax2.plot(nnYON.history['val_accuracy'])\n",
        "ax2.set_title('val_accuracy')\n",
        "ax2.set_xlabel('epoch')\n",
        "ax2.set_ylim(-0.05, 1.05)\n",
        "ax2.set_ylabel('value')\n",
        "\n",
        "plt.show()"
      ]
    },
    {
      "cell_type": "code",
      "execution_count": null,
      "id": "3549e94d",
      "metadata": {
        "id": "3549e94d",
        "outputId": "ea4e9375-67d2-48d3-9d95-46e50a9c3791"
      },
      "outputs": [
        {
          "name": "stdout",
          "output_type": "stream",
          "text": [
            "688/688 [==============================] - 0s 398us/step\n"
          ]
        }
      ],
      "source": [
        "predictions = modelYON.predict(X_test_norm,verbose=1) \n",
        "\n",
        "pred = np.argmax(predictions, axis = 1)\n",
        "target_test = np.argmax(y_test_bin, axis = 1)\n"
      ]
    },
    {
      "cell_type": "code",
      "execution_count": null,
      "id": "f31cab4a",
      "metadata": {
        "id": "f31cab4a",
        "outputId": "7ee91fdd-f9aa-4202-cba2-48b93cab8380"
      },
      "outputs": [
        {
          "name": "stdout",
          "output_type": "stream",
          "text": [
            "Кол-во значений на предикте: 22000\n"
          ]
        },
        {
          "data": {
            "image/png": "[encoded data removed]",
            "text/plain": [
              "<Figure size 360x288 with 2 Axes>"
            ]
          },
          "metadata": {},
          "output_type": "display_data"
        }
      ],
      "source": [
        "cm = confusion_matrix(pred, target_test)\n",
        "print(\"Кол-во значений на предикте: {}\".format(target_test.shape[0]))\n",
        "figure = plt.figure(figsize=(5, 4))\n",
        "ax = sn.heatmap(cm, annot=True,fmt='g',cmap=plt.cm.Blues)\n",
        "plt.tight_layout()\n",
        "plt.ylabel('True label')\n",
        "plt.xlabel('Predicted label')\n",
        "plt.title('Confusion matrix')\n",
        "plt.show()"
      ]
    },
    {
      "cell_type": "code",
      "execution_count": null,
      "id": "fd61de24",
      "metadata": {
        "id": "fd61de24"
      },
      "outputs": [],
      "source": [
        "del(X_data, Y_data, X_train, X_test, y_train, y_test, X_train_norm, X_test_norm, y_train_bin, y_test_bin, predictions, pred, target_test)"
      ]
    },
    {
      "cell_type": "code",
      "execution_count": null,
      "id": "5d6d76e3",
      "metadata": {
        "id": "5d6d76e3"
      },
      "outputs": [],
      "source": [
        "# nnYON.save('.\\\\saved_model\\\\nnYON')"
      ]
    },
    {
      "cell_type": "code",
      "execution_count": null,
      "id": "cc18234c",
      "metadata": {
        "id": "cc18234c"
      },
      "outputs": [],
      "source": [
        "# --------------------------------------------------------------------------- #"
      ]
    },
    {
      "cell_type": "markdown",
      "id": "12b8c92e",
      "metadata": {
        "id": "12b8c92e"
      },
      "source": [
        "# ***Нейронка***\n",
        "## (。_ 。)"
      ]
    },
    {
      "cell_type": "code",
      "execution_count": null,
      "id": "58637479",
      "metadata": {
        "id": "58637479"
      },
      "outputs": [],
      "source": [
        "n_classes = 1328 # кол-во используемых классов (max=1328)"
      ]
    },
    {
      "cell_type": "code",
      "execution_count": null,
      "id": "32a03a2b",
      "metadata": {
        "id": "32a03a2b"
      },
      "outputs": [],
      "source": [
        "X_data = dft.iloc[:n_classes*2000,1:86].values\n",
        "Y_data = dft.iloc[:n_classes*2000,86:].values"
      ]
    },
    {
      "cell_type": "code",
      "execution_count": null,
      "id": "cac59a33",
      "metadata": {
        "id": "cac59a33"
      },
      "outputs": [],
      "source": [
        "X_data = X_data.astype('float32')\n",
        "Y_data = Y_data.astype('float32')"
      ]
    },
    {
      "cell_type": "code",
      "execution_count": null,
      "id": "0991e568",
      "metadata": {
        "id": "0991e568",
        "outputId": "12042ff3-4638-45b5-bd91-1b6e8c6d0c45"
      },
      "outputs": [
        {
          "name": "stdout",
          "output_type": "stream",
          "text": [
            "(2656000, 85) (2656000, 15)\n"
          ]
        }
      ],
      "source": [
        "print(X_data.shape, Y_data.shape)"
      ]
    },
    {
      "cell_type": "code",
      "execution_count": null,
      "id": "7f2048ca",
      "metadata": {
        "id": "7f2048ca"
      },
      "outputs": [],
      "source": [
        "X_train, X_test, y_train, y_test = train_test_split(X_data, Y_data, random_state=42)"
      ]
    },
    {
      "cell_type": "code",
      "execution_count": null,
      "id": "6936e24b",
      "metadata": {
        "id": "6936e24b"
      },
      "outputs": [],
      "source": [
        "X_train_norm = (X_train.T[:,:] - X_train.T[:,:].mean())/ X_train.T[:,:].std()\n",
        "X_test_norm = (X_test.T[:,:] - X_test.T[:,:].mean())/ X_test.T[:,:].std()\n",
        "\n",
        "X_train_norm = X_train_norm.T\n",
        "X_test_norm = X_test_norm.T"
      ]
    },
    {
      "cell_type": "code",
      "execution_count": null,
      "id": "d923be75",
      "metadata": {
        "id": "d923be75",
        "outputId": "c48d7d11-b6e6-4727-fc9f-1c8214f20b7a"
      },
      "outputs": [
        {
          "name": "stdout",
          "output_type": "stream",
          "text": [
            "Model: \"sequential_7\"\n",
            "_________________________________________________________________\n",
            "Layer (type)                 Output Shape              Param #   \n",
            "=================================================================\n",
            "dense_20 (Dense)             (None, 85)                7310      \n",
            "_________________________________________________________________\n",
            "dropout_13 (Dropout)         (None, 85)                0         \n",
            "_________________________________________________________________\n",
            "dense_21 (Dense)             (None, 250)               21500     \n",
            "_________________________________________________________________\n",
            "dropout_14 (Dropout)         (None, 250)               0         \n",
            "_________________________________________________________________\n",
            "dense_22 (Dense)             (None, 15)                3765      \n",
            "=================================================================\n",
            "Total params: 32,575\n",
            "Trainable params: 32,575\n",
            "Non-trainable params: 0\n",
            "_________________________________________________________________\n"
          ]
        }
      ],
      "source": [
        "try:\n",
        "    del(nn, model)\n",
        "    print(\"deleted\")\n",
        "except:\n",
        "    None\n",
        "\n",
        "model = Sequential()\n",
        "model.add(Dense(85, activation='softsign', input_dim=85)) # 256\n",
        "model.add(Dropout(0.5))\n",
        "model.add(Dense(250, activation='softsign'))\n",
        "model.add(Dropout(0.5))\n",
        "model.add(Dense(15, activation='softmax'))\n",
        "model.compile(loss=\"binary_crossentropy\", # categorical_crossentropy binary_crossentropy\n",
        "              optimizer=Adam(learning_rate=0.0008),\n",
        "              metrics=['accuracy'])\n",
        "\n",
        "model.summary()"
      ]
    },
    {
      "cell_type": "code",
      "execution_count": null,
      "id": "7ea11129",
      "metadata": {
        "id": "7ea11129",
        "outputId": "2bbebf3b-3fe7-46c3-c613-161dd91aedcf"
      },
      "outputs": [
        {
          "name": "stdout",
          "output_type": "stream",
          "text": [
            "Epoch 1/10\n",
            "3188/3188 [==============================] - 17s 5ms/step - loss: 0.0473 - accuracy: 0.1494 - val_loss: 1.7445e-04 - val_accuracy: 0.1980\n",
            "Epoch 2/10\n",
            "3188/3188 [==============================] - 15s 5ms/step - loss: 0.0098 - accuracy: 0.1229 - val_loss: 3.4761e-05 - val_accuracy: 0.3552\n",
            "Epoch 3/10\n",
            "3188/3188 [==============================] - 16s 5ms/step - loss: 0.0056 - accuracy: 0.1422 - val_loss: 2.4438e-05 - val_accuracy: 0.5164\n",
            "Epoch 4/10\n",
            "3188/3188 [==============================] - 18s 6ms/step - loss: 0.0043 - accuracy: 0.1887 - val_loss: 3.1532e-05 - val_accuracy: 0.7527\n",
            "Epoch 5/10\n",
            "3188/3188 [==============================] - 15s 5ms/step - loss: 0.0037 - accuracy: 0.2427 - val_loss: 1.9721e-05 - val_accuracy: 0.8210\n",
            "Epoch 6/10\n",
            "3188/3188 [==============================] - 16s 5ms/step - loss: 0.0034 - accuracy: 0.2882 - val_loss: 2.6085e-05 - val_accuracy: 0.7270\n",
            "Epoch 7/10\n",
            "3188/3188 [==============================] - 16s 5ms/step - loss: 0.0032 - accuracy: 0.2944 - val_loss: 1.9470e-05 - val_accuracy: 0.6558\n",
            "Epoch 8/10\n",
            "3188/3188 [==============================] - 18s 6ms/step - loss: 0.0030 - accuracy: 0.3399 - val_loss: 2.2799e-05 - val_accuracy: 0.6770\n",
            "Epoch 9/10\n",
            "3188/3188 [==============================] - 18s 6ms/step - loss: 0.0029 - accuracy: 0.3615 - val_loss: 3.7086e-05 - val_accuracy: 0.7050\n",
            "Epoch 10/10\n",
            "3188/3188 [==============================] - 18s 6ms/step - loss: 0.0028 - accuracy: 0.3999 - val_loss: 1.9446e-05 - val_accuracy: 0.6642\n"
          ]
        },
        {
          "data": {
            "image/png": "[encoded data removed]",
            "text/plain": [
              "<Figure size 864x432 with 2 Axes>"
            ]
          },
          "metadata": {},
          "output_type": "display_data"
        }
      ],
      "source": [
        "np.random.seed(1337) \n",
        "nn = model.fit(X_train_norm, y_train, batch_size=500, epochs = 10, verbose = 1, validation_split = 0.2)\n",
        "\n",
        "fig, (ax1, ax2) = plt.subplots(nrows=1, ncols=2, figsize=(12,6))\n",
        "\n",
        "ax1.plot(nn.history['loss'])\n",
        "ax1.set_title('loss')\n",
        "ax1.set_xlabel('epoch')\n",
        "ax1.set_ylabel('value')\n",
        "\n",
        "ax2.plot(nn.history['val_accuracy'])\n",
        "ax2.set_title('val_accuracy')\n",
        "ax2.set_xlabel('epoch')\n",
        "ax2.set_ylim(-0.05,1.05)\n",
        "ax2.set_ylabel('value')\n",
        "\n",
        "plt.show()"
      ]
    },
    {
      "cell_type": "code",
      "execution_count": null,
      "id": "ff834806",
      "metadata": {
        "id": "ff834806",
        "outputId": "24288273-58d8-41c6-9fb0-31504b0a3a5e"
      },
      "outputs": [
        {
          "name": "stdout",
          "output_type": "stream",
          "text": [
            "20750/20750 [==============================] - 15s 710us/step\n"
          ]
        }
      ],
      "source": [
        "predictions = model.predict(X_test_norm,verbose=1) "
      ]
    },
    {
      "cell_type": "code",
      "execution_count": null,
      "id": "0ee99534",
      "metadata": {
        "id": "0ee99534"
      },
      "outputs": [],
      "source": [
        "backup = predictions.copy()"
      ]
    },
    {
      "cell_type": "code",
      "execution_count": null,
      "id": "0fc6a4a2",
      "metadata": {
        "id": "0fc6a4a2"
      },
      "outputs": [],
      "source": [
        "predictions = backup.copy()"
      ]
    },
    {
      "cell_type": "code",
      "execution_count": null,
      "id": "e8e4940f",
      "metadata": {
        "id": "e8e4940f"
      },
      "outputs": [],
      "source": [
        "# plotPred([0, 3000, 6000, 9000, 12000], X_test_norm, predictions)"
      ]
    },
    {
      "cell_type": "code",
      "execution_count": null,
      "id": "8001742d",
      "metadata": {
        "id": "8001742d",
        "outputId": "524ee8c6-6b99-46e0-deef-787e253e0aff"
      },
      "outputs": [
        {
          "data": {
            "text/plain": [
              "array([1., 0., 0., 1., 1., 0., 1., 0., 0., 1., 1., 1., 1., 0., 1.],\n",
              "      dtype=float32)"
            ]
          },
          "execution_count": 184,
          "metadata": {},
          "output_type": "execute_result"
        }
      ],
      "source": [
        "lim = 1.0e-14\n",
        "predictions[np.where(predictions<lim)] = 0 \n",
        "predictions[np.where(predictions>=lim)] = 1\n",
        "predictions[0]"
      ]
    },
    {
      "cell_type": "code",
      "execution_count": null,
      "id": "148599f9",
      "metadata": {
        "id": "148599f9"
      },
      "outputs": [],
      "source": [
        "# plotPred([9000,12000,15000], X_test_norm, predictions)"
      ]
    },
    {
      "cell_type": "code",
      "execution_count": null,
      "id": "226bae86",
      "metadata": {
        "id": "226bae86"
      },
      "outputs": [],
      "source": [
        "rs_predictions = predictions.reshape(-1,1)\n",
        "rs_y_test = y_test.reshape(-1,1)"
      ]
    },
    {
      "cell_type": "code",
      "execution_count": null,
      "id": "a4cfaf27",
      "metadata": {
        "id": "a4cfaf27",
        "outputId": "2775d49a-5d75-440f-9f7c-04893990093b"
      },
      "outputs": [
        {
          "name": "stdout",
          "output_type": "stream",
          "text": [
            "Кол-во значений на предикте: 9960000\n",
            "Точность модели: 99.998926%\n"
          ]
        },
        {
          "data": {
            "image/png": "[encoded data removed]",
            "text/plain": [
              "<Figure size 360x288 with 2 Axes>"
            ]
          },
          "metadata": {},
          "output_type": "display_data"
        }
      ],
      "source": [
        "cm = confusion_matrix(rs_predictions, rs_y_test)\n",
        "print(\"Кол-во значений на предикте: {0}\\n\"\n",
        "    \"Точность модели: {1:0.6%}\"\n",
        "    .format(rs_y_test.shape[0],\n",
        "    1 - (cm.item(1)+cm.item(2))/(cm.item(0)+cm.item(3))))\n",
        "figure = plt.figure(figsize=(5, 4))\n",
        "ax = sn.heatmap(cm, annot=True,fmt='g',cmap=plt.cm.Blues)\n",
        "plt.tight_layout()\n",
        "plt.ylabel('True label')\n",
        "plt.xlabel('Predicted label')\n",
        "plt.title('Confusion matrix')\n",
        "plt.show()"
      ]
    },
    {
      "cell_type": "code",
      "execution_count": null,
      "id": "068852c1",
      "metadata": {
        "id": "068852c1"
      },
      "outputs": [],
      "source": [
        "# del(X_data, Y_data, X_train, X_test, y_train, y_test, X_train_norm, X_test_norm, predictions, lim, rs_predictions, rs_y_test)"
      ]
    },
    {
      "cell_type": "code",
      "execution_count": null,
      "id": "ee54c5d8",
      "metadata": {
        "id": "ee54c5d8"
      },
      "outputs": [],
      "source": [
        "# nn.save('.\\\\saved_model\\\\nn')"
      ]
    },
    {
      "cell_type": "code",
      "execution_count": null,
      "id": "bdbae991",
      "metadata": {
        "id": "bdbae991"
      },
      "outputs": [],
      "source": [
        "# --------------------------------------------------------------------------- #"
      ]
    },
    {
      "cell_type": "markdown",
      "id": "d0bd691a",
      "metadata": {
        "id": "d0bd691a"
      },
      "source": [
        "# ***Тесты***\n",
        "## (°ー°〃)"
      ]
    },
    {
      "cell_type": "markdown",
      "id": "a0dab9bf",
      "metadata": {
        "id": "a0dab9bf"
      },
      "source": [
        "> тест классификатора **\"Свой - Чужой\"**"
      ]
    },
    {
      "cell_type": "code",
      "execution_count": null,
      "id": "56484c67",
      "metadata": {
        "id": "56484c67",
        "outputId": "123019fe-3b1e-43d1-cad3-7e7b4d7cd1da"
      },
      "outputs": [
        {
          "data": {
            "text/html": [
              "<div>\n",
              "<style scoped>\n",
              "    .dataframe tbody tr th:only-of-type {\n",
              "        vertical-align: middle;\n",
              "    }\n",
              "\n",
              "    .dataframe tbody tr th {\n",
              "        vertical-align: top;\n",
              "    }\n",
              "\n",
              "    .dataframe thead th {\n",
              "        text-align: right;\n",
              "    }\n",
              "</style>\n",
              "<table border=\"1\" class=\"dataframe\">\n",
              "  <thead>\n",
              "    <tr style=\"text-align: right;\">\n",
              "      <th></th>\n",
              "      <th>label</th>\n",
              "      <th>sample1</th>\n",
              "      <th>sample2</th>\n",
              "      <th>sample3</th>\n",
              "      <th>sample4</th>\n",
              "      <th>sample5</th>\n",
              "      <th>sample6</th>\n",
              "      <th>sample7</th>\n",
              "      <th>sample8</th>\n",
              "      <th>sample9</th>\n",
              "      <th>...</th>\n",
              "      <th>sample76</th>\n",
              "      <th>sample77</th>\n",
              "      <th>sample78</th>\n",
              "      <th>sample79</th>\n",
              "      <th>sample80</th>\n",
              "      <th>sample81</th>\n",
              "      <th>sample82</th>\n",
              "      <th>sample83</th>\n",
              "      <th>sample84</th>\n",
              "      <th>sample85</th>\n",
              "    </tr>\n",
              "  </thead>\n",
              "  <tbody>\n",
              "    <tr>\n",
              "      <th>0</th>\n",
              "      <td>0</td>\n",
              "      <td>1.63140</td>\n",
              "      <td>-0.23386</td>\n",
              "      <td>-1.01240</td>\n",
              "      <td>-0.98238</td>\n",
              "      <td>-0.91513</td>\n",
              "      <td>-0.48375</td>\n",
              "      <td>1.26820</td>\n",
              "      <td>0.59675</td>\n",
              "      <td>1.11280</td>\n",
              "      <td>...</td>\n",
              "      <td>-1.4546</td>\n",
              "      <td>-0.61705</td>\n",
              "      <td>0.13272</td>\n",
              "      <td>1.59060</td>\n",
              "      <td>0.5119</td>\n",
              "      <td>0.91648</td>\n",
              "      <td>-0.80255</td>\n",
              "      <td>-1.0909</td>\n",
              "      <td>-0.67221</td>\n",
              "      <td>1.30030</td>\n",
              "    </tr>\n",
              "    <tr>\n",
              "      <th>1</th>\n",
              "      <td>0</td>\n",
              "      <td>0.52446</td>\n",
              "      <td>-1.11860</td>\n",
              "      <td>-0.72705</td>\n",
              "      <td>1.00580</td>\n",
              "      <td>0.57021</td>\n",
              "      <td>-0.78624</td>\n",
              "      <td>-0.86641</td>\n",
              "      <td>1.35130</td>\n",
              "      <td>0.37971</td>\n",
              "      <td>...</td>\n",
              "      <td>1.3879</td>\n",
              "      <td>0.69198</td>\n",
              "      <td>-1.09930</td>\n",
              "      <td>-0.53294</td>\n",
              "      <td>1.3618</td>\n",
              "      <td>0.65013</td>\n",
              "      <td>-1.37160</td>\n",
              "      <td>-0.5493</td>\n",
              "      <td>1.57250</td>\n",
              "      <td>0.23054</td>\n",
              "    </tr>\n",
              "    <tr>\n",
              "      <th>2</th>\n",
              "      <td>0</td>\n",
              "      <td>1.00850</td>\n",
              "      <td>1.03030</td>\n",
              "      <td>0.57576</td>\n",
              "      <td>-0.97689</td>\n",
              "      <td>-0.84913</td>\n",
              "      <td>1.15220</td>\n",
              "      <td>0.68773</td>\n",
              "      <td>-1.19360</td>\n",
              "      <td>-0.75509</td>\n",
              "      <td>...</td>\n",
              "      <td>-1.1038</td>\n",
              "      <td>-0.90482</td>\n",
              "      <td>-1.04870</td>\n",
              "      <td>-0.78170</td>\n",
              "      <td>1.0791</td>\n",
              "      <td>1.07380</td>\n",
              "      <td>1.11080</td>\n",
              "      <td>0.4517</td>\n",
              "      <td>-1.13850</td>\n",
              "      <td>-1.11160</td>\n",
              "    </tr>\n",
              "  </tbody>\n",
              "</table>\n",
              "<p>3 rows × 86 columns</p>\n",
              "</div>"
            ],
            "text/plain": [
              "   label  sample1  sample2  sample3  sample4  sample5  sample6  sample7  \\\n",
              "0      0  1.63140 -0.23386 -1.01240 -0.98238 -0.91513 -0.48375  1.26820   \n",
              "1      0  0.52446 -1.11860 -0.72705  1.00580  0.57021 -0.78624 -0.86641   \n",
              "2      0  1.00850  1.03030  0.57576 -0.97689 -0.84913  1.15220  0.68773   \n",
              "\n",
              "   sample8  sample9  ...  sample76  sample77  sample78  sample79  sample80  \\\n",
              "0  0.59675  1.11280  ...   -1.4546  -0.61705   0.13272   1.59060    0.5119   \n",
              "1  1.35130  0.37971  ...    1.3879   0.69198  -1.09930  -0.53294    1.3618   \n",
              "2 -1.19360 -0.75509  ...   -1.1038  -0.90482  -1.04870  -0.78170    1.0791   \n",
              "\n",
              "   sample81  sample82  sample83  sample84  sample85  \n",
              "0   0.91648  -0.80255   -1.0909  -0.67221   1.30030  \n",
              "1   0.65013  -1.37160   -0.5493   1.57250   0.23054  \n",
              "2   1.07380   1.11080    0.4517  -1.13850  -1.11160  \n",
              "\n",
              "[3 rows x 86 columns]"
            ]
          },
          "execution_count": 38,
          "metadata": {},
          "output_type": "execute_result"
        }
      ],
      "source": [
        "data7dB = pd.read_csv('../data/detection/DataSet_Det7dB.csv')\n",
        "data7dB.head(3)"
      ]
    },
    {
      "cell_type": "code",
      "execution_count": null,
      "id": "dd3ad4cb",
      "metadata": {
        "id": "dd3ad4cb",
        "outputId": "25381da3-1c88-4815-d137-28ba43d5d9f2"
      },
      "outputs": [
        {
          "name": "stdout",
          "output_type": "stream",
          "text": [
            "Model: \"sequential\"\n",
            "_________________________________________________________________\n",
            "Layer (type)                 Output Shape              Param #   \n",
            "=================================================================\n",
            "dense (Dense)                (None, 85)                7310      \n",
            "_________________________________________________________________\n",
            "dropout (Dropout)            (None, 85)                0         \n",
            "_________________________________________________________________\n",
            "dense_1 (Dense)              (None, 2)                 172       \n",
            "=================================================================\n",
            "Total params: 7,482\n",
            "Trainable params: 7,482\n",
            "Non-trainable params: 0\n",
            "_________________________________________________________________\n"
          ]
        }
      ],
      "source": [
        "nnYON = load_model('../data/saved_model/nnYON')\n",
        "nnYON.summary()"
      ]
    },
    {
      "cell_type": "code",
      "execution_count": null,
      "id": "311596f9",
      "metadata": {
        "id": "311596f9",
        "outputId": "59e777c0-4803-4c6a-c1fe-54a11d616f6a"
      },
      "outputs": [
        {
          "name": "stdout",
          "output_type": "stream",
          "text": [
            "Есть ли тут сигнал сквока\n",
            "0 - нет, 1 - есть\n",
            "Реальное значение: 1\n",
            "Значение предикта: 1\n",
            "\n"
          ]
        },
        {
          "data": {
            "image/png": "[encoded data removed]",
            "text/plain": [
              "<Figure size 432x288 with 1 Axes>"
            ]
          },
          "metadata": {},
          "output_type": "display_data"
        }
      ],
      "source": [
        "single_predictYON(3888, data7dB)"
      ]
    },
    {
      "cell_type": "markdown",
      "id": "df3edc2d",
      "metadata": {
        "id": "df3edc2d"
      },
      "source": [
        "> тест ***нейронки***"
      ]
    },
    {
      "cell_type": "code",
      "execution_count": null,
      "id": "74425069",
      "metadata": {
        "id": "74425069",
        "outputId": "00443ddb-932e-4b25-cb9e-7d4ac4e189ea"
      },
      "outputs": [
        {
          "data": {
            "text/html": [
              "<div>\n",
              "<style scoped>\n",
              "    .dataframe tbody tr th:only-of-type {\n",
              "        vertical-align: middle;\n",
              "    }\n",
              "\n",
              "    .dataframe tbody tr th {\n",
              "        vertical-align: top;\n",
              "    }\n",
              "\n",
              "    .dataframe thead th {\n",
              "        text-align: right;\n",
              "    }\n",
              "</style>\n",
              "<table border=\"1\" class=\"dataframe\">\n",
              "  <thead>\n",
              "    <tr style=\"text-align: right;\">\n",
              "      <th></th>\n",
              "      <th>label</th>\n",
              "      <th>sample1</th>\n",
              "      <th>sample2</th>\n",
              "      <th>sample3</th>\n",
              "      <th>sample4</th>\n",
              "      <th>sample5</th>\n",
              "      <th>sample6</th>\n",
              "      <th>sample7</th>\n",
              "      <th>sample8</th>\n",
              "      <th>sample9</th>\n",
              "      <th>...</th>\n",
              "      <th>sample76</th>\n",
              "      <th>sample77</th>\n",
              "      <th>sample78</th>\n",
              "      <th>sample79</th>\n",
              "      <th>sample80</th>\n",
              "      <th>sample81</th>\n",
              "      <th>sample82</th>\n",
              "      <th>sample83</th>\n",
              "      <th>sample84</th>\n",
              "      <th>sample85</th>\n",
              "    </tr>\n",
              "  </thead>\n",
              "  <tbody>\n",
              "    <tr>\n",
              "      <th>0</th>\n",
              "      <td>0.0</td>\n",
              "      <td>1010.00</td>\n",
              "      <td>1660.2</td>\n",
              "      <td>272.16</td>\n",
              "      <td>53.413</td>\n",
              "      <td>25.495</td>\n",
              "      <td>21.954</td>\n",
              "      <td>13.892</td>\n",
              "      <td>64.661</td>\n",
              "      <td>19.026</td>\n",
              "      <td>...</td>\n",
              "      <td>74.673</td>\n",
              "      <td>158.62</td>\n",
              "      <td>37.656</td>\n",
              "      <td>56.036</td>\n",
              "      <td>44.777</td>\n",
              "      <td>55.073</td>\n",
              "      <td>179.81</td>\n",
              "      <td>1510.9</td>\n",
              "      <td>987.69</td>\n",
              "      <td>40.46</td>\n",
              "    </tr>\n",
              "    <tr>\n",
              "      <th>1</th>\n",
              "      <td>4.0</td>\n",
              "      <td>568.92</td>\n",
              "      <td>1836.9</td>\n",
              "      <td>632.66</td>\n",
              "      <td>53.413</td>\n",
              "      <td>25.495</td>\n",
              "      <td>21.954</td>\n",
              "      <td>13.892</td>\n",
              "      <td>64.661</td>\n",
              "      <td>19.026</td>\n",
              "      <td>...</td>\n",
              "      <td>1049.400</td>\n",
              "      <td>1505.50</td>\n",
              "      <td>145.990</td>\n",
              "      <td>56.036</td>\n",
              "      <td>44.777</td>\n",
              "      <td>55.073</td>\n",
              "      <td>495.36</td>\n",
              "      <td>1768.1</td>\n",
              "      <td>720.47</td>\n",
              "      <td>40.46</td>\n",
              "    </tr>\n",
              "    <tr>\n",
              "      <th>2</th>\n",
              "      <td>400.0</td>\n",
              "      <td>733.03</td>\n",
              "      <td>1641.2</td>\n",
              "      <td>389.38</td>\n",
              "      <td>53.413</td>\n",
              "      <td>25.495</td>\n",
              "      <td>21.954</td>\n",
              "      <td>13.892</td>\n",
              "      <td>64.661</td>\n",
              "      <td>19.026</td>\n",
              "      <td>...</td>\n",
              "      <td>74.673</td>\n",
              "      <td>158.62</td>\n",
              "      <td>37.656</td>\n",
              "      <td>56.036</td>\n",
              "      <td>44.777</td>\n",
              "      <td>55.073</td>\n",
              "      <td>256.09</td>\n",
              "      <td>1673.3</td>\n",
              "      <td>986.88</td>\n",
              "      <td>40.46</td>\n",
              "    </tr>\n",
              "  </tbody>\n",
              "</table>\n",
              "<p>3 rows × 86 columns</p>\n",
              "</div>"
            ],
            "text/plain": [
              "   label  sample1  sample2  sample3  sample4  sample5  sample6  sample7  \\\n",
              "0    0.0  1010.00   1660.2   272.16   53.413   25.495   21.954   13.892   \n",
              "1    4.0   568.92   1836.9   632.66   53.413   25.495   21.954   13.892   \n",
              "2  400.0   733.03   1641.2   389.38   53.413   25.495   21.954   13.892   \n",
              "\n",
              "   sample8  sample9  ...  sample76  sample77  sample78  sample79  sample80  \\\n",
              "0   64.661   19.026  ...    74.673    158.62    37.656    56.036    44.777   \n",
              "1   64.661   19.026  ...  1049.400   1505.50   145.990    56.036    44.777   \n",
              "2   64.661   19.026  ...    74.673    158.62    37.656    56.036    44.777   \n",
              "\n",
              "   sample81  sample82  sample83  sample84  sample85  \n",
              "0    55.073    179.81    1510.9    987.69     40.46  \n",
              "1    55.073    495.36    1768.1    720.47     40.46  \n",
              "2    55.073    256.09    1673.3    986.88     40.46  \n",
              "\n",
              "[3 rows x 86 columns]"
            ]
          },
          "execution_count": 41,
          "metadata": {},
          "output_type": "execute_result"
        }
      ],
      "source": [
        "data_x1 = pd.read_csv('../data/out/Squawk_x1.csv')\n",
        "data_x1.head(3)"
      ]
    },
    {
      "cell_type": "code",
      "execution_count": null,
      "id": "9b71c629",
      "metadata": {
        "id": "9b71c629",
        "outputId": "7581208f-8db7-4675-d813-7e36896305eb"
      },
      "outputs": [
        {
          "data": {
            "text/html": [
              "<div>\n",
              "<style scoped>\n",
              "    .dataframe tbody tr th:only-of-type {\n",
              "        vertical-align: middle;\n",
              "    }\n",
              "\n",
              "    .dataframe tbody tr th {\n",
              "        vertical-align: top;\n",
              "    }\n",
              "\n",
              "    .dataframe thead th {\n",
              "        text-align: right;\n",
              "    }\n",
              "</style>\n",
              "<table border=\"1\" class=\"dataframe\">\n",
              "  <thead>\n",
              "    <tr style=\"text-align: right;\">\n",
              "      <th></th>\n",
              "      <th>label</th>\n",
              "      <th>sample1</th>\n",
              "      <th>sample2</th>\n",
              "      <th>sample3</th>\n",
              "      <th>sample4</th>\n",
              "      <th>sample5</th>\n",
              "      <th>sample6</th>\n",
              "      <th>sample7</th>\n",
              "      <th>sample8</th>\n",
              "      <th>sample9</th>\n",
              "      <th>...</th>\n",
              "      <th>sample76</th>\n",
              "      <th>sample77</th>\n",
              "      <th>sample78</th>\n",
              "      <th>sample79</th>\n",
              "      <th>sample80</th>\n",
              "      <th>sample81</th>\n",
              "      <th>sample82</th>\n",
              "      <th>sample83</th>\n",
              "      <th>sample84</th>\n",
              "      <th>sample85</th>\n",
              "    </tr>\n",
              "  </thead>\n",
              "  <tbody>\n",
              "    <tr>\n",
              "      <th>0</th>\n",
              "      <td>0</td>\n",
              "      <td>537.90</td>\n",
              "      <td>1647.9</td>\n",
              "      <td>396.92</td>\n",
              "      <td>97.252</td>\n",
              "      <td>81.320</td>\n",
              "      <td>86.279</td>\n",
              "      <td>941.60</td>\n",
              "      <td>13.892</td>\n",
              "      <td>64.661</td>\n",
              "      <td>...</td>\n",
              "      <td>226.210</td>\n",
              "      <td>74.673</td>\n",
              "      <td>158.620</td>\n",
              "      <td>37.656</td>\n",
              "      <td>20.248</td>\n",
              "      <td>81.615</td>\n",
              "      <td>297.470</td>\n",
              "      <td>1581.6</td>\n",
              "      <td>672.33</td>\n",
              "      <td>143.850</td>\n",
              "    </tr>\n",
              "    <tr>\n",
              "      <th>1</th>\n",
              "      <td>0</td>\n",
              "      <td>212.90</td>\n",
              "      <td>1657.5</td>\n",
              "      <td>1134.00</td>\n",
              "      <td>91.082</td>\n",
              "      <td>151.400</td>\n",
              "      <td>55.902</td>\n",
              "      <td>434.19</td>\n",
              "      <td>41.485</td>\n",
              "      <td>44.385</td>\n",
              "      <td>...</td>\n",
              "      <td>83.217</td>\n",
              "      <td>67.676</td>\n",
              "      <td>46.098</td>\n",
              "      <td>91.482</td>\n",
              "      <td>40.012</td>\n",
              "      <td>31.064</td>\n",
              "      <td>81.615</td>\n",
              "      <td>1394.2</td>\n",
              "      <td>1494.40</td>\n",
              "      <td>53.085</td>\n",
              "    </tr>\n",
              "    <tr>\n",
              "      <th>2</th>\n",
              "      <td>0</td>\n",
              "      <td>105.22</td>\n",
              "      <td>1385.6</td>\n",
              "      <td>1053.30</td>\n",
              "      <td>125.210</td>\n",
              "      <td>18.248</td>\n",
              "      <td>51.856</td>\n",
              "      <td>265.71</td>\n",
              "      <td>48.104</td>\n",
              "      <td>75.027</td>\n",
              "      <td>...</td>\n",
              "      <td>51.624</td>\n",
              "      <td>90.918</td>\n",
              "      <td>45.044</td>\n",
              "      <td>63.253</td>\n",
              "      <td>69.116</td>\n",
              "      <td>63.159</td>\n",
              "      <td>76.164</td>\n",
              "      <td>1134.3</td>\n",
              "      <td>1245.20</td>\n",
              "      <td>90.609</td>\n",
              "    </tr>\n",
              "  </tbody>\n",
              "</table>\n",
              "<p>3 rows × 86 columns</p>\n",
              "</div>"
            ],
            "text/plain": [
              "   label  sample1  sample2  sample3  sample4  sample5  sample6  sample7  \\\n",
              "0      0   537.90   1647.9   396.92   97.252   81.320   86.279   941.60   \n",
              "1      0   212.90   1657.5  1134.00   91.082  151.400   55.902   434.19   \n",
              "2      0   105.22   1385.6  1053.30  125.210   18.248   51.856   265.71   \n",
              "\n",
              "   sample8  sample9  ...  sample76  sample77  sample78  sample79  sample80  \\\n",
              "0   13.892   64.661  ...   226.210    74.673   158.620    37.656    20.248   \n",
              "1   41.485   44.385  ...    83.217    67.676    46.098    91.482    40.012   \n",
              "2   48.104   75.027  ...    51.624    90.918    45.044    63.253    69.116   \n",
              "\n",
              "   sample81  sample82  sample83  sample84  sample85  \n",
              "0    81.615   297.470    1581.6    672.33   143.850  \n",
              "1    31.064    81.615    1394.2   1494.40    53.085  \n",
              "2    63.159    76.164    1134.3   1245.20    90.609  \n",
              "\n",
              "[3 rows x 86 columns]"
            ]
          },
          "execution_count": 42,
          "metadata": {},
          "output_type": "execute_result"
        }
      ],
      "source": [
        "dft = pd.read_csv('../data/out/dfEdited.csv')\n",
        "dft = dft.drop('Unnamed: 0', axis=1)\n",
        "dft.head(3)"
      ]
    },
    {
      "cell_type": "code",
      "execution_count": null,
      "id": "70d2f73c",
      "metadata": {
        "id": "70d2f73c",
        "outputId": "c77805d5-b0ec-4b33-d83b-fe1c2b603e92"
      },
      "outputs": [
        {
          "name": "stdout",
          "output_type": "stream",
          "text": [
            "Model: \"sequential_1\"\n",
            "_________________________________________________________________\n",
            "Layer (type)                 Output Shape              Param #   \n",
            "=================================================================\n",
            "dense_2 (Dense)              (None, 85)                7310      \n",
            "_________________________________________________________________\n",
            "dropout_1 (Dropout)          (None, 85)                0         \n",
            "_________________________________________________________________\n",
            "dense_3 (Dense)              (None, 250)               21500     \n",
            "_________________________________________________________________\n",
            "dropout_2 (Dropout)          (None, 250)               0         \n",
            "_________________________________________________________________\n",
            "dense_4 (Dense)              (None, 15)                3765      \n",
            "=================================================================\n",
            "Total params: 32,575\n",
            "Trainable params: 32,575\n",
            "Non-trainable params: 0\n",
            "_________________________________________________________________\n"
          ]
        }
      ],
      "source": [
        "nn = load_model('../data/saved_model/nn')\n",
        "nn.summary()"
      ]
    },
    {
      "cell_type": "code",
      "execution_count": null,
      "id": "19bf95de",
      "metadata": {
        "id": "19bf95de",
        "outputId": "c6f28fb2-1cd7-46cd-ff0b-fb3b25123305"
      },
      "outputs": [
        {
          "name": "stdout",
          "output_type": "stream",
          "text": [
            "Кол-во сквоковов используемых в обучении: 1328\n",
            "Кол-во сквоков НЕ используемых в обучении: 2768\n"
          ]
        }
      ],
      "source": [
        "trainSq = list(dft['label'].unique())\n",
        "allSq = list(data_x1['label'].astype(int).unique())\n",
        "noneUse = allSq.copy()\n",
        "for i in range(len(trainSq)):\n",
        "    for j in range(len(trainSq)):\n",
        "        if i == j:\n",
        "            noneUse.pop(i)\n",
        "            \n",
        "print(\"Кол-во сквоковов используемых в обучении: {0}\\n\"\n",
        "    \"Кол-во сквоков НЕ используемых в обучении: {1}\"\n",
        "      .format(4096-len(noneUse), len(noneUse)))"
      ]
    },
    {
      "cell_type": "code",
      "execution_count": null,
      "id": "5bfa5c96",
      "metadata": {
        "id": "5bfa5c96",
        "outputId": "12cc84e8-b0f1-4b3f-fc05-2c855b67d0bc"
      },
      "outputs": [
        {
          "name": "stdout",
          "output_type": "stream",
          "text": [
            "Реальный сквок: 1652\n",
            "Предсказанный сквок: 1652\n"
          ]
        },
        {
          "data": {
            "image/png": "[encoded data removed]",
            "text/plain": [
              "<Figure size 1152x576 with 2 Axes>"
            ]
          },
          "metadata": {},
          "output_type": "display_data"
        },
        {
          "data": {
            "image/png": "[encoded data removed]",
            "text/plain": [
              "<Figure size 360x288 with 2 Axes>"
            ]
          },
          "metadata": {},
          "output_type": "display_data"
        }
      ],
      "source": [
        "n = 606           # выбор от 0 до 2767 (ТОЛЬКО не исп. сквоки)\n",
        "\n",
        "single_predict(data_x1.loc[data_x1['label']==noneUse[n]].index[0] #data_x1.loc[data_x1['label']==noneUse[n]].index.asof(noneUse[n]\n",
        "               , data_x1, sense=18)  \n",
        "\n",
        "# single_predict(0, data_x1) # выбор от 0 до 4095 (все исп. сквоки)"
      ]
    },
    {
      "cell_type": "code",
      "execution_count": null,
      "id": "a7ff6fba",
      "metadata": {
        "id": "a7ff6fba"
      },
      "outputs": [],
      "source": []
    }
  ],
  "metadata": {
    "kernelspec": {
      "display_name": "Python 3 (ipykernel)",
      "language": "python",
      "name": "python3"
    },
    "language_info": {
      "codemirror_mode": {
        "name": "ipython",
        "version": 3
      },
      "file_extension": ".py",
      "mimetype": "text/x-python",
      "name": "python",
      "nbconvert_exporter": "python",
      "pygments_lexer": "ipython3",
      "version": "3.6.8"
    },
    "colab": {
      "provenance": []
    }
  },
  "nbformat": 4,
  "nbformat_minor": 5
}