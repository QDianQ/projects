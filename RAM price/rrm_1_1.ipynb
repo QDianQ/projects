{
  "cells": [
    {
      "cell_type": "markdown",
      "id": "e1ce1c70-55bc-42e7-bb72-1d6ef226e3d3",
      "metadata": {
        "id": "e1ce1c70-55bc-42e7-bb72-1d6ef226e3d3"
      },
      "source": [
        "# RamPrice"
      ]
    },
    {
      "cell_type": "code",
      "execution_count": null,
      "id": "6fbcddcc-d0f4-4e84-99db-821e5ee384b6",
      "metadata": {
        "id": "6fbcddcc-d0f4-4e84-99db-821e5ee384b6"
      },
      "outputs": [],
      "source": [
        "import pandas as pd\n",
        "from datetime import date\n",
        "import numpy as np\n",
        "import matplotlib.pyplot as plt"
      ]
    },
    {
      "cell_type": "code",
      "execution_count": null,
      "id": "ba214f14-b6ab-4e4c-ba54-3346dabdd8cc",
      "metadata": {
        "id": "ba214f14-b6ab-4e4c-ba54-3346dabdd8cc"
      },
      "outputs": [],
      "source": [
        "# Чтобы ошибки не мозолили глаза\n",
        "import warnings\n",
        "warnings.filterwarnings('ignore')"
      ]
    },
    {
      "cell_type": "code",
      "execution_count": null,
      "id": "e6e0def6-01ae-4275-8f96-48d53c30e134",
      "metadata": {
        "id": "e6e0def6-01ae-4275-8f96-48d53c30e134",
        "tags": []
      },
      "outputs": [],
      "source": [
        "def pandas_info(data):\n",
        "    '''\n",
        "    список всех данных в пандасе\n",
        "    '''\n",
        "    print(*[data.info(), data.describe(), data.index], sep=\"\\n-----------------------\\n\")"
      ]
    },
    {
      "cell_type": "code",
      "execution_count": null,
      "id": "27079ad7-20d3-4f05-ad1c-b46f05963ab7",
      "metadata": {
        "tags": [],
        "id": "27079ad7-20d3-4f05-ad1c-b46f05963ab7"
      },
      "outputs": [],
      "source": [
        "def create_posix(data, freq=None):\n",
        "    data_freq = pd.date_range(start=data.index.min(), end=data.index.max(), freq=freq)\n",
        "    data_posix = np.array(data_freq.astype(int) // 10 ** 9).reshape(-1,1)\n",
        "    return data_posix\n",
        "\n",
        "# Функция разделения на обуч. и тестовые выборки\n",
        "def train_test_split_dt(data_posix, data_pd, year, freq=None):\n",
        "\n",
        "    X_all = data_posix.loc[data_pd.index]\n",
        "    X_all = create_posix(X_all, freq)\n",
        "\n",
        "    y_all = data_pd.loc[data_pd.index]\n",
        "    y_all = np.array(y_all).reshape(-1, data_pd.shape[1])\n",
        "    y_all = y_all[:-1]\n",
        "\n",
        "    X_train = data_posix.loc[data_pd.index < year]\n",
        "    X_train = create_posix(X_train, freq)\n",
        "\n",
        "    y_train = data_pd.loc[data_pd.index < year]\n",
        "    y_train = np.array(y_train).reshape(-1, data_pd.shape[1])\n",
        "    y_train = y_train[:-1]\n",
        "\n",
        "    X_test = data_posix.loc[data_pd.index > year]\n",
        "    X_test = create_posix(X_test, freq)\n",
        "#     X_test = np.array(X_test.index).reshape(-1,1)\n",
        "\n",
        "    y_test = data_pd.loc[data_pd.index > year]\n",
        "    y_test = np.array(y_test).reshape(-1, data_pd.shape[1])\n",
        "    y_test = y_test[:-1]\n",
        "    return X_train, y_train, X_test, y_test, X_all, y_all"
      ]
    },
    {
      "cell_type": "code",
      "execution_count": null,
      "id": "e798648e-61a4-4a47-8032-5ea86d846d4d",
      "metadata": {
        "id": "e798648e-61a4-4a47-8032-5ea86d846d4d"
      },
      "outputs": [],
      "source": [
        "data = pd.read_csv('BigRamPrice2.csv', sep=';')\n",
        "#, 'tupe_ram', 'max_stick', 'maks_desktop_gb']\n",
        "data_1 = data.loc[:,'Date':'processnodes(nm)'].copy()\n",
        "data_2 = data.loc[:,'tupe_ram':'maks_desktop_gb'].copy()\n",
        "\n",
        "data = pd.concat([data_1, data_2], axis=1)"
      ]
    },
    {
      "cell_type": "code",
      "execution_count": null,
      "id": "9198dfba-5060-4bcb-8325-e76aa944920c",
      "metadata": {
        "colab": {
          "base_uri": "https://localhost:8080/"
        },
        "id": "9198dfba-5060-4bcb-8325-e76aa944920c",
        "outputId": "974fed44-6b55-4317-d2c8-f72796709abe"
      },
      "outputs": [
        {
          "name": "stdout",
          "output_type": "stream",
          "text": [
            "<class 'pandas.core.frame.DataFrame'>\n",
            "RangeIndex: 670 entries, 0 to 669\n",
            "Data columns (total 7 columns):\n",
            " #   Column            Non-Null Count  Dtype  \n",
            "---  ------            --------------  -----  \n",
            " 0   Date              670 non-null    object \n",
            " 1   price_ram         670 non-null    float64\n",
            " 2   Price_gold        670 non-null    float64\n",
            " 3   processnodes(nm)  670 non-null    int64  \n",
            " 4   tupe_ram          214 non-null    float64\n",
            " 5   max_stick         214 non-null    float64\n",
            " 6   maks_desktop_gb   214 non-null    float64\n",
            "dtypes: float64(5), int64(1), object(1)\n",
            "memory usage: 36.8+ KB\n",
            "None\n",
            "-----------------------\n",
            "          price_ram   Price_gold  processnodes(nm)    tupe_ram   max_stick  \\\n",
            "count  6.700000e+02   670.000000        670.000000  214.000000  214.000000   \n",
            "mean   5.528262e+05   407.063288       3073.673134    2.317757    7.158879   \n",
            "std    1.209703e+06   400.669376       3872.270711    0.993860    8.983187   \n",
            "min    3.700000e-03    34.946000         14.000000    1.000000    1.000000   \n",
            "25%    2.007500e-01   114.597250        130.000000    1.000000    1.000000   \n",
            "50%    1.881250e+02   341.756000        800.000000    2.000000    2.000000   \n",
            "75%    3.198722e+05   434.059000       7500.000000    3.000000    8.000000   \n",
            "max    5.242880e+06  1780.648000      10000.000000    4.000000   32.000000   \n",
            "\n",
            "       maks_desktop_gb  \n",
            "count       214.000000  \n",
            "mean         28.635514  \n",
            "std          35.932747  \n",
            "min           4.000000  \n",
            "25%           4.000000  \n",
            "50%           8.000000  \n",
            "75%          32.000000  \n",
            "max         128.000000  \n",
            "-----------------------\n",
            "RangeIndex(start=0, stop=670, step=1)\n"
          ]
        }
      ],
      "source": [
        "pandas_info(data)"
      ]
    },
    {
      "cell_type": "code",
      "execution_count": null,
      "id": "-rrfKYKvTe5P",
      "metadata": {
        "colab": {
          "base_uri": "https://localhost:8080/",
          "height": 617
        },
        "id": "-rrfKYKvTe5P",
        "outputId": "d6fca825-8c48-46d0-ca6d-effc7daa4175"
      },
      "outputs": [
        {
          "data": {
            "text/html": [
              "<div>\n",
              "<style scoped>\n",
              "    .dataframe tbody tr th:only-of-type {\n",
              "        vertical-align: middle;\n",
              "    }\n",
              "\n",
              "    .dataframe tbody tr th {\n",
              "        vertical-align: top;\n",
              "    }\n",
              "\n",
              "    .dataframe thead th {\n",
              "        text-align: right;\n",
              "    }\n",
              "</style>\n",
              "<table border=\"1\" class=\"dataframe\">\n",
              "  <thead>\n",
              "    <tr style=\"text-align: right;\">\n",
              "      <th></th>\n",
              "      <th>Date</th>\n",
              "      <th>price_ram</th>\n",
              "      <th>Price_gold</th>\n",
              "      <th>processnodes(nm)</th>\n",
              "      <th>tupe_ram</th>\n",
              "      <th>max_stick</th>\n",
              "      <th>maks_desktop_gb</th>\n",
              "    </tr>\n",
              "  </thead>\n",
              "  <tbody>\n",
              "    <tr>\n",
              "      <th>0</th>\n",
              "      <td>1960-01</td>\n",
              "      <td>5.242880e+06</td>\n",
              "      <td>35.090</td>\n",
              "      <td>10000</td>\n",
              "      <td>NaN</td>\n",
              "      <td>NaN</td>\n",
              "      <td>NaN</td>\n",
              "    </tr>\n",
              "    <tr>\n",
              "      <th>1</th>\n",
              "      <td>1960-02</td>\n",
              "      <td>5.199539e+06</td>\n",
              "      <td>35.090</td>\n",
              "      <td>10000</td>\n",
              "      <td>NaN</td>\n",
              "      <td>NaN</td>\n",
              "      <td>NaN</td>\n",
              "    </tr>\n",
              "    <tr>\n",
              "      <th>2</th>\n",
              "      <td>1960-03</td>\n",
              "      <td>5.156198e+06</td>\n",
              "      <td>35.090</td>\n",
              "      <td>10000</td>\n",
              "      <td>NaN</td>\n",
              "      <td>NaN</td>\n",
              "      <td>NaN</td>\n",
              "    </tr>\n",
              "    <tr>\n",
              "      <th>3</th>\n",
              "      <td>1960-04</td>\n",
              "      <td>5.112857e+06</td>\n",
              "      <td>35.110</td>\n",
              "      <td>10000</td>\n",
              "      <td>NaN</td>\n",
              "      <td>NaN</td>\n",
              "      <td>NaN</td>\n",
              "    </tr>\n",
              "    <tr>\n",
              "      <th>4</th>\n",
              "      <td>1960-05</td>\n",
              "      <td>5.069515e+06</td>\n",
              "      <td>35.100</td>\n",
              "      <td>10000</td>\n",
              "      <td>NaN</td>\n",
              "      <td>NaN</td>\n",
              "      <td>NaN</td>\n",
              "    </tr>\n",
              "    <tr>\n",
              "      <th>...</th>\n",
              "      <td>...</td>\n",
              "      <td>...</td>\n",
              "      <td>...</td>\n",
              "      <td>...</td>\n",
              "      <td>...</td>\n",
              "      <td>...</td>\n",
              "      <td>...</td>\n",
              "    </tr>\n",
              "    <tr>\n",
              "      <th>665</th>\n",
              "      <td>2015-06</td>\n",
              "      <td>5.050000e-03</td>\n",
              "      <td>1182.248</td>\n",
              "      <td>14</td>\n",
              "      <td>4.0</td>\n",
              "      <td>32.0</td>\n",
              "      <td>128.0</td>\n",
              "    </tr>\n",
              "    <tr>\n",
              "      <th>666</th>\n",
              "      <td>2015-07</td>\n",
              "      <td>4.500000e-03</td>\n",
              "      <td>1131.580</td>\n",
              "      <td>14</td>\n",
              "      <td>4.0</td>\n",
              "      <td>32.0</td>\n",
              "      <td>128.0</td>\n",
              "    </tr>\n",
              "    <tr>\n",
              "      <th>667</th>\n",
              "      <td>2015-08</td>\n",
              "      <td>4.400000e-03</td>\n",
              "      <td>1117.525</td>\n",
              "      <td>14</td>\n",
              "      <td>4.0</td>\n",
              "      <td>32.0</td>\n",
              "      <td>128.0</td>\n",
              "    </tr>\n",
              "    <tr>\n",
              "      <th>668</th>\n",
              "      <td>2015-09</td>\n",
              "      <td>4.300000e-03</td>\n",
              "      <td>1124.905</td>\n",
              "      <td>14</td>\n",
              "      <td>4.0</td>\n",
              "      <td>32.0</td>\n",
              "      <td>128.0</td>\n",
              "    </tr>\n",
              "    <tr>\n",
              "      <th>669</th>\n",
              "      <td>2015-10</td>\n",
              "      <td>3.800000e-03</td>\n",
              "      <td>1157.123</td>\n",
              "      <td>14</td>\n",
              "      <td>4.0</td>\n",
              "      <td>32.0</td>\n",
              "      <td>128.0</td>\n",
              "    </tr>\n",
              "  </tbody>\n",
              "</table>\n",
              "<p>670 rows × 7 columns</p>\n",
              "</div>"
            ],
            "text/plain": [
              "        Date     price_ram  Price_gold  processnodes(nm)  tupe_ram  max_stick  \\\n",
              "0    1960-01  5.242880e+06      35.090             10000       NaN        NaN   \n",
              "1    1960-02  5.199539e+06      35.090             10000       NaN        NaN   \n",
              "2    1960-03  5.156198e+06      35.090             10000       NaN        NaN   \n",
              "3    1960-04  5.112857e+06      35.110             10000       NaN        NaN   \n",
              "4    1960-05  5.069515e+06      35.100             10000       NaN        NaN   \n",
              "..       ...           ...         ...               ...       ...        ...   \n",
              "665  2015-06  5.050000e-03    1182.248                14       4.0       32.0   \n",
              "666  2015-07  4.500000e-03    1131.580                14       4.0       32.0   \n",
              "667  2015-08  4.400000e-03    1117.525                14       4.0       32.0   \n",
              "668  2015-09  4.300000e-03    1124.905                14       4.0       32.0   \n",
              "669  2015-10  3.800000e-03    1157.123                14       4.0       32.0   \n",
              "\n",
              "     maks_desktop_gb  \n",
              "0                NaN  \n",
              "1                NaN  \n",
              "2                NaN  \n",
              "3                NaN  \n",
              "4                NaN  \n",
              "..               ...  \n",
              "665            128.0  \n",
              "666            128.0  \n",
              "667            128.0  \n",
              "668            128.0  \n",
              "669            128.0  \n",
              "\n",
              "[670 rows x 7 columns]"
            ]
          },
          "execution_count": 7,
          "metadata": {},
          "output_type": "execute_result"
        }
      ],
      "source": [
        "data"
      ]
    },
    {
      "cell_type": "markdown",
      "id": "LSsG2HtrT0wf",
      "metadata": {
        "id": "LSsG2HtrT0wf"
      },
      "source": [
        "# Сократим данные\n",
        "В данных много Nan и старых данных до 2000 года, поэтому отбросим их.\n",
        "\n",
        "Это позволит избавиться от старых данных, которые будут портить прогноз"
      ]
    },
    {
      "cell_type": "code",
      "execution_count": null,
      "id": "8n-QwwL-Tz9v",
      "metadata": {
        "id": "8n-QwwL-Tz9v"
      },
      "outputs": [],
      "source": [
        "data = data.dropna()\n",
        "data = data.drop(['max_stick'], axis=1)"
      ]
    },
    {
      "cell_type": "code",
      "execution_count": null,
      "id": "524d53b7-6d04-4af4-bc60-844ad78c49ba",
      "metadata": {
        "id": "524d53b7-6d04-4af4-bc60-844ad78c49ba",
        "outputId": "17724524-85b6-4e02-b8b9-fc78171cd2a4"
      },
      "outputs": [
        {
          "data": {
            "text/html": [
              "<div>\n",
              "<style scoped>\n",
              "    .dataframe tbody tr th:only-of-type {\n",
              "        vertical-align: middle;\n",
              "    }\n",
              "\n",
              "    .dataframe tbody tr th {\n",
              "        vertical-align: top;\n",
              "    }\n",
              "\n",
              "    .dataframe thead th {\n",
              "        text-align: right;\n",
              "    }\n",
              "</style>\n",
              "<table border=\"1\" class=\"dataframe\">\n",
              "  <thead>\n",
              "    <tr style=\"text-align: right;\">\n",
              "      <th></th>\n",
              "      <th>Date</th>\n",
              "      <th>price_ram</th>\n",
              "      <th>Price_gold</th>\n",
              "      <th>processnodes(nm)</th>\n",
              "      <th>tupe_ram</th>\n",
              "      <th>maks_desktop_gb</th>\n",
              "    </tr>\n",
              "  </thead>\n",
              "  <tbody>\n",
              "    <tr>\n",
              "      <th>456</th>\n",
              "      <td>1998-01</td>\n",
              "      <td>0.91000</td>\n",
              "      <td>289.264</td>\n",
              "      <td>250</td>\n",
              "      <td>1.0</td>\n",
              "      <td>4.0</td>\n",
              "    </tr>\n",
              "    <tr>\n",
              "      <th>457</th>\n",
              "      <td>1998-02</td>\n",
              "      <td>0.94000</td>\n",
              "      <td>297.743</td>\n",
              "      <td>250</td>\n",
              "      <td>1.0</td>\n",
              "      <td>4.0</td>\n",
              "    </tr>\n",
              "    <tr>\n",
              "      <th>458</th>\n",
              "      <td>1998-03</td>\n",
              "      <td>0.97000</td>\n",
              "      <td>295.870</td>\n",
              "      <td>250</td>\n",
              "      <td>1.0</td>\n",
              "      <td>4.0</td>\n",
              "    </tr>\n",
              "    <tr>\n",
              "      <th>459</th>\n",
              "      <td>1998-04</td>\n",
              "      <td>1.22000</td>\n",
              "      <td>308.558</td>\n",
              "      <td>250</td>\n",
              "      <td>1.0</td>\n",
              "      <td>4.0</td>\n",
              "    </tr>\n",
              "    <tr>\n",
              "      <th>460</th>\n",
              "      <td>1998-05</td>\n",
              "      <td>1.19000</td>\n",
              "      <td>298.971</td>\n",
              "      <td>250</td>\n",
              "      <td>1.0</td>\n",
              "      <td>4.0</td>\n",
              "    </tr>\n",
              "    <tr>\n",
              "      <th>...</th>\n",
              "      <td>...</td>\n",
              "      <td>...</td>\n",
              "      <td>...</td>\n",
              "      <td>...</td>\n",
              "      <td>...</td>\n",
              "      <td>...</td>\n",
              "    </tr>\n",
              "    <tr>\n",
              "      <th>665</th>\n",
              "      <td>2015-06</td>\n",
              "      <td>0.00505</td>\n",
              "      <td>1182.248</td>\n",
              "      <td>14</td>\n",
              "      <td>4.0</td>\n",
              "      <td>128.0</td>\n",
              "    </tr>\n",
              "    <tr>\n",
              "      <th>666</th>\n",
              "      <td>2015-07</td>\n",
              "      <td>0.00450</td>\n",
              "      <td>1131.580</td>\n",
              "      <td>14</td>\n",
              "      <td>4.0</td>\n",
              "      <td>128.0</td>\n",
              "    </tr>\n",
              "    <tr>\n",
              "      <th>667</th>\n",
              "      <td>2015-08</td>\n",
              "      <td>0.00440</td>\n",
              "      <td>1117.525</td>\n",
              "      <td>14</td>\n",
              "      <td>4.0</td>\n",
              "      <td>128.0</td>\n",
              "    </tr>\n",
              "    <tr>\n",
              "      <th>668</th>\n",
              "      <td>2015-09</td>\n",
              "      <td>0.00430</td>\n",
              "      <td>1124.905</td>\n",
              "      <td>14</td>\n",
              "      <td>4.0</td>\n",
              "      <td>128.0</td>\n",
              "    </tr>\n",
              "    <tr>\n",
              "      <th>669</th>\n",
              "      <td>2015-10</td>\n",
              "      <td>0.00380</td>\n",
              "      <td>1157.123</td>\n",
              "      <td>14</td>\n",
              "      <td>4.0</td>\n",
              "      <td>128.0</td>\n",
              "    </tr>\n",
              "  </tbody>\n",
              "</table>\n",
              "<p>214 rows × 6 columns</p>\n",
              "</div>"
            ],
            "text/plain": [
              "        Date  price_ram  Price_gold  processnodes(nm)  tupe_ram  \\\n",
              "456  1998-01    0.91000     289.264               250       1.0   \n",
              "457  1998-02    0.94000     297.743               250       1.0   \n",
              "458  1998-03    0.97000     295.870               250       1.0   \n",
              "459  1998-04    1.22000     308.558               250       1.0   \n",
              "460  1998-05    1.19000     298.971               250       1.0   \n",
              "..       ...        ...         ...               ...       ...   \n",
              "665  2015-06    0.00505    1182.248                14       4.0   \n",
              "666  2015-07    0.00450    1131.580                14       4.0   \n",
              "667  2015-08    0.00440    1117.525                14       4.0   \n",
              "668  2015-09    0.00430    1124.905                14       4.0   \n",
              "669  2015-10    0.00380    1157.123                14       4.0   \n",
              "\n",
              "     maks_desktop_gb  \n",
              "456              4.0  \n",
              "457              4.0  \n",
              "458              4.0  \n",
              "459              4.0  \n",
              "460              4.0  \n",
              "..               ...  \n",
              "665            128.0  \n",
              "666            128.0  \n",
              "667            128.0  \n",
              "668            128.0  \n",
              "669            128.0  \n",
              "\n",
              "[214 rows x 6 columns]"
            ]
          },
          "execution_count": 9,
          "metadata": {},
          "output_type": "execute_result"
        }
      ],
      "source": [
        "# 1\n",
        "data"
      ]
    },
    {
      "cell_type": "markdown",
      "id": "bf3187f3-d4f9-46be-9990-930e9c73e606",
      "metadata": {
        "id": "bf3187f3-d4f9-46be-9990-930e9c73e606"
      },
      "source": [
        "# Кореляция признаков"
      ]
    },
    {
      "cell_type": "markdown",
      "id": "70a0839f-451b-486e-848f-8dab4e28aaa3",
      "metadata": {
        "id": "70a0839f-451b-486e-848f-8dab4e28aaa3"
      },
      "source": [
        " матрицу с коэффициентами корреляции признаков"
      ]
    },
    {
      "cell_type": "code",
      "execution_count": null,
      "id": "a6768385-6d8f-4aae-83ec-dbc14e1a7d7f",
      "metadata": {
        "id": "a6768385-6d8f-4aae-83ec-dbc14e1a7d7f",
        "outputId": "2db8b5d9-100b-45ca-f516-b96790fcf9dc"
      },
      "outputs": [
        {
          "name": "stdout",
          "output_type": "stream",
          "text": [
            "                  price_ram  Price_gold  processnodes(nm)  tupe_ram  \\\n",
            "price_ram          1.000000   -0.575053          0.860848 -0.696808   \n",
            "Price_gold        -0.575053    1.000000         -0.777211  0.824453   \n",
            "processnodes(nm)   0.860848   -0.777211          1.000000 -0.888802   \n",
            "tupe_ram          -0.696808    0.824453         -0.888802  1.000000   \n",
            "maks_desktop_gb   -0.393579    0.577608         -0.578750  0.806236   \n",
            "\n",
            "                  maks_desktop_gb  \n",
            "price_ram               -0.393579  \n",
            "Price_gold               0.577608  \n",
            "processnodes(nm)        -0.578750  \n",
            "tupe_ram                 0.806236  \n",
            "maks_desktop_gb          1.000000  \n"
          ]
        },
        {
          "data": {
            "image/png": "[encoded data removed]",
            "text/plain": [
              "<Figure size 720x360 with 2 Axes>"
            ]
          },
          "metadata": {
            "needs_background": "light"
          },
          "output_type": "display_data"
        }
      ],
      "source": [
        "import seaborn as sns\n",
        "\n",
        "plt.figure(figsize=(10,5))\n",
        "CorrKoef = data.corr()\n",
        "sns.heatmap(CorrKoef,cmap=\"BrBG\",annot=True)\n",
        "print(CorrKoef)\n"
      ]
    },
    {
      "cell_type": "markdown",
      "id": "804c2fff-03ac-4c9d-bba4-b63ad52b0913",
      "metadata": {
        "id": "804c2fff-03ac-4c9d-bba4-b63ad52b0913"
      },
      "source": [
        "Следующим шагом мы найдем поля которые коррелируют между собой (у которых коэффициент корреляции больше 90%), используя нашу матрицу:\n"
      ]
    },
    {
      "cell_type": "code",
      "execution_count": null,
      "id": "25e030ab-1fa1-4be9-b0dd-80a68bf75ecf",
      "metadata": {
        "id": "25e030ab-1fa1-4be9-b0dd-80a68bf75ecf",
        "outputId": "435d11bf-9b02-4759-dd99-f51ac56d70c8"
      },
      "outputs": [
        {
          "name": "stdout",
          "output_type": "stream",
          "text": [
            "processnodes(nm)-->price_ram: r^2=0.860848\n",
            "tupe_ram-->Price_gold: r^2=0.824453\n",
            "tupe_ram-->maks_desktop_gb: r^2=0.806236\n"
          ]
        }
      ],
      "source": [
        "CorField = []\n",
        "for i in CorrKoef:\n",
        "    for j in CorrKoef.index[CorrKoef[i] > 0.8]:\n",
        "        if i > j and j not in CorField and i not in CorField:\n",
        "            CorField.append(j)\n",
        "            print (\"%s-->%s: r^2=%f\" % (i,j, CorrKoef[i][CorrKoef.index==j].values[0]))"
      ]
    },
    {
      "cell_type": "code",
      "execution_count": null,
      "id": "6bf7bf4e-b3e7-4de5-971b-d9351216867f",
      "metadata": {
        "colab": {
          "base_uri": "https://localhost:8080/",
          "height": 279
        },
        "id": "6bf7bf4e-b3e7-4de5-971b-d9351216867f",
        "outputId": "14717bd5-da76-4ca6-fd2b-fa6caac29748"
      },
      "outputs": [
        {
          "data": {
            "image/png": "[encoded data removed]",
            "text/plain": [
              "<Figure size 432x288 with 1 Axes>"
            ]
          },
          "metadata": {
            "needs_background": "light"
          },
          "output_type": "display_data"
        }
      ],
      "source": [
        "plt.semilogy(data.price_ram)\n",
        "plt.xlabel(\"Год\")\n",
        "plt.ylabel(\"Цена $/Мбайт\");"
      ]
    },
    {
      "cell_type": "markdown",
      "id": "2fb7debd-3420-49c9-afe7-5ceec9b105a3",
      "metadata": {
        "id": "2fb7debd-3420-49c9-afe7-5ceec9b105a3",
        "tags": []
      },
      "source": [
        "# Предобработка (Preprocessing)\n",
        "## Создание даты\n",
        "Здесь мы будем преобразовывать даты с нормальный формат, и логарифмировать цены"
      ]
    },
    {
      "cell_type": "code",
      "execution_count": null,
      "id": "QnK6Mur3oeb3",
      "metadata": {
        "colab": {
          "base_uri": "https://localhost:8080/",
          "height": 617
        },
        "id": "QnK6Mur3oeb3",
        "outputId": "54e25c90-8622-4640-b955-6f1c13737d75",
        "tags": []
      },
      "outputs": [
        {
          "data": {
            "text/html": [
              "<div>\n",
              "<style scoped>\n",
              "    .dataframe tbody tr th:only-of-type {\n",
              "        vertical-align: middle;\n",
              "    }\n",
              "\n",
              "    .dataframe tbody tr th {\n",
              "        vertical-align: top;\n",
              "    }\n",
              "\n",
              "    .dataframe thead th {\n",
              "        text-align: right;\n",
              "    }\n",
              "</style>\n",
              "<table border=\"1\" class=\"dataframe\">\n",
              "  <thead>\n",
              "    <tr style=\"text-align: right;\">\n",
              "      <th></th>\n",
              "      <th>Date</th>\n",
              "      <th>price_ram</th>\n",
              "      <th>Price_gold</th>\n",
              "      <th>processnodes(nm)</th>\n",
              "      <th>tupe_ram</th>\n",
              "      <th>maks_desktop_gb</th>\n",
              "    </tr>\n",
              "  </thead>\n",
              "  <tbody>\n",
              "    <tr>\n",
              "      <th>456</th>\n",
              "      <td>1998-01</td>\n",
              "      <td>0.647103</td>\n",
              "      <td>289.264</td>\n",
              "      <td>250</td>\n",
              "      <td>1.0</td>\n",
              "      <td>4.0</td>\n",
              "    </tr>\n",
              "    <tr>\n",
              "      <th>457</th>\n",
              "      <td>1998-02</td>\n",
              "      <td>0.662688</td>\n",
              "      <td>297.743</td>\n",
              "      <td>250</td>\n",
              "      <td>1.0</td>\n",
              "      <td>4.0</td>\n",
              "    </tr>\n",
              "    <tr>\n",
              "      <th>458</th>\n",
              "      <td>1998-03</td>\n",
              "      <td>0.678034</td>\n",
              "      <td>295.870</td>\n",
              "      <td>250</td>\n",
              "      <td>1.0</td>\n",
              "      <td>4.0</td>\n",
              "    </tr>\n",
              "    <tr>\n",
              "      <th>459</th>\n",
              "      <td>1998-04</td>\n",
              "      <td>0.797507</td>\n",
              "      <td>308.558</td>\n",
              "      <td>250</td>\n",
              "      <td>1.0</td>\n",
              "      <td>4.0</td>\n",
              "    </tr>\n",
              "    <tr>\n",
              "      <th>460</th>\n",
              "      <td>1998-05</td>\n",
              "      <td>0.783902</td>\n",
              "      <td>298.971</td>\n",
              "      <td>250</td>\n",
              "      <td>1.0</td>\n",
              "      <td>4.0</td>\n",
              "    </tr>\n",
              "    <tr>\n",
              "      <th>...</th>\n",
              "      <td>...</td>\n",
              "      <td>...</td>\n",
              "      <td>...</td>\n",
              "      <td>...</td>\n",
              "      <td>...</td>\n",
              "      <td>...</td>\n",
              "    </tr>\n",
              "    <tr>\n",
              "      <th>665</th>\n",
              "      <td>2015-06</td>\n",
              "      <td>0.005037</td>\n",
              "      <td>1182.248</td>\n",
              "      <td>14</td>\n",
              "      <td>4.0</td>\n",
              "      <td>128.0</td>\n",
              "    </tr>\n",
              "    <tr>\n",
              "      <th>666</th>\n",
              "      <td>2015-07</td>\n",
              "      <td>0.004490</td>\n",
              "      <td>1131.580</td>\n",
              "      <td>14</td>\n",
              "      <td>4.0</td>\n",
              "      <td>128.0</td>\n",
              "    </tr>\n",
              "    <tr>\n",
              "      <th>667</th>\n",
              "      <td>2015-08</td>\n",
              "      <td>0.004390</td>\n",
              "      <td>1117.525</td>\n",
              "      <td>14</td>\n",
              "      <td>4.0</td>\n",
              "      <td>128.0</td>\n",
              "    </tr>\n",
              "    <tr>\n",
              "      <th>668</th>\n",
              "      <td>2015-09</td>\n",
              "      <td>0.004291</td>\n",
              "      <td>1124.905</td>\n",
              "      <td>14</td>\n",
              "      <td>4.0</td>\n",
              "      <td>128.0</td>\n",
              "    </tr>\n",
              "    <tr>\n",
              "      <th>669</th>\n",
              "      <td>2015-10</td>\n",
              "      <td>0.003793</td>\n",
              "      <td>1157.123</td>\n",
              "      <td>14</td>\n",
              "      <td>4.0</td>\n",
              "      <td>128.0</td>\n",
              "    </tr>\n",
              "  </tbody>\n",
              "</table>\n",
              "<p>214 rows × 6 columns</p>\n",
              "</div>"
            ],
            "text/plain": [
              "        Date  price_ram  Price_gold  processnodes(nm)  tupe_ram  \\\n",
              "456  1998-01   0.647103     289.264               250       1.0   \n",
              "457  1998-02   0.662688     297.743               250       1.0   \n",
              "458  1998-03   0.678034     295.870               250       1.0   \n",
              "459  1998-04   0.797507     308.558               250       1.0   \n",
              "460  1998-05   0.783902     298.971               250       1.0   \n",
              "..       ...        ...         ...               ...       ...   \n",
              "665  2015-06   0.005037    1182.248                14       4.0   \n",
              "666  2015-07   0.004490    1131.580                14       4.0   \n",
              "667  2015-08   0.004390    1117.525                14       4.0   \n",
              "668  2015-09   0.004291    1124.905                14       4.0   \n",
              "669  2015-10   0.003793    1157.123                14       4.0   \n",
              "\n",
              "     maks_desktop_gb  \n",
              "456              4.0  \n",
              "457              4.0  \n",
              "458              4.0  \n",
              "459              4.0  \n",
              "460              4.0  \n",
              "..               ...  \n",
              "665            128.0  \n",
              "666            128.0  \n",
              "667            128.0  \n",
              "668            128.0  \n",
              "669            128.0  \n",
              "\n",
              "[214 rows x 6 columns]"
            ]
          },
          "execution_count": 13,
          "metadata": {},
          "output_type": "execute_result"
        }
      ],
      "source": [
        "df = data\n",
        "date_indexs = np.log(data.price_ram + 1)\n",
        "df['price_ram'] = pd.DataFrame(date_indexs)\n",
        "df"
      ]
    },
    {
      "cell_type": "code",
      "execution_count": null,
      "id": "rYSgS0RjULdx",
      "metadata": {
        "id": "rYSgS0RjULdx"
      },
      "outputs": [],
      "source": [
        "df['Date'] = pd.to_datetime(df['Date'])\n",
        "df = df.set_index(['Date'])\n",
        "df_1 = df"
      ]
    },
    {
      "cell_type": "code",
      "execution_count": null,
      "id": "CvTYyTGmwR8E",
      "metadata": {
        "colab": {
          "base_uri": "https://localhost:8080/",
          "height": 475
        },
        "id": "CvTYyTGmwR8E",
        "outputId": "999bff91-8554-4aec-84fa-a9b455262a6f"
      },
      "outputs": [
        {
          "data": {
            "text/html": [
              "<div>\n",
              "<style scoped>\n",
              "    .dataframe tbody tr th:only-of-type {\n",
              "        vertical-align: middle;\n",
              "    }\n",
              "\n",
              "    .dataframe tbody tr th {\n",
              "        vertical-align: top;\n",
              "    }\n",
              "\n",
              "    .dataframe thead th {\n",
              "        text-align: right;\n",
              "    }\n",
              "</style>\n",
              "<table border=\"1\" class=\"dataframe\">\n",
              "  <thead>\n",
              "    <tr style=\"text-align: right;\">\n",
              "      <th></th>\n",
              "      <th>price_ram</th>\n",
              "      <th>Price_gold</th>\n",
              "      <th>processnodes(nm)</th>\n",
              "      <th>tupe_ram</th>\n",
              "      <th>maks_desktop_gb</th>\n",
              "    </tr>\n",
              "    <tr>\n",
              "      <th>Date</th>\n",
              "      <th></th>\n",
              "      <th></th>\n",
              "      <th></th>\n",
              "      <th></th>\n",
              "      <th></th>\n",
              "    </tr>\n",
              "  </thead>\n",
              "  <tbody>\n",
              "    <tr>\n",
              "      <th>1998-01-01</th>\n",
              "      <td>0.647103</td>\n",
              "      <td>289.264</td>\n",
              "      <td>250</td>\n",
              "      <td>1.0</td>\n",
              "      <td>4.0</td>\n",
              "    </tr>\n",
              "    <tr>\n",
              "      <th>1998-02-01</th>\n",
              "      <td>0.662688</td>\n",
              "      <td>297.743</td>\n",
              "      <td>250</td>\n",
              "      <td>1.0</td>\n",
              "      <td>4.0</td>\n",
              "    </tr>\n",
              "    <tr>\n",
              "      <th>1998-03-01</th>\n",
              "      <td>0.678034</td>\n",
              "      <td>295.870</td>\n",
              "      <td>250</td>\n",
              "      <td>1.0</td>\n",
              "      <td>4.0</td>\n",
              "    </tr>\n",
              "    <tr>\n",
              "      <th>1998-04-01</th>\n",
              "      <td>0.797507</td>\n",
              "      <td>308.558</td>\n",
              "      <td>250</td>\n",
              "      <td>1.0</td>\n",
              "      <td>4.0</td>\n",
              "    </tr>\n",
              "    <tr>\n",
              "      <th>1998-05-01</th>\n",
              "      <td>0.783902</td>\n",
              "      <td>298.971</td>\n",
              "      <td>250</td>\n",
              "      <td>1.0</td>\n",
              "      <td>4.0</td>\n",
              "    </tr>\n",
              "    <tr>\n",
              "      <th>...</th>\n",
              "      <td>...</td>\n",
              "      <td>...</td>\n",
              "      <td>...</td>\n",
              "      <td>...</td>\n",
              "      <td>...</td>\n",
              "    </tr>\n",
              "    <tr>\n",
              "      <th>2015-06-01</th>\n",
              "      <td>0.005037</td>\n",
              "      <td>1182.248</td>\n",
              "      <td>14</td>\n",
              "      <td>4.0</td>\n",
              "      <td>128.0</td>\n",
              "    </tr>\n",
              "    <tr>\n",
              "      <th>2015-07-01</th>\n",
              "      <td>0.004490</td>\n",
              "      <td>1131.580</td>\n",
              "      <td>14</td>\n",
              "      <td>4.0</td>\n",
              "      <td>128.0</td>\n",
              "    </tr>\n",
              "    <tr>\n",
              "      <th>2015-08-01</th>\n",
              "      <td>0.004390</td>\n",
              "      <td>1117.525</td>\n",
              "      <td>14</td>\n",
              "      <td>4.0</td>\n",
              "      <td>128.0</td>\n",
              "    </tr>\n",
              "    <tr>\n",
              "      <th>2015-09-01</th>\n",
              "      <td>0.004291</td>\n",
              "      <td>1124.905</td>\n",
              "      <td>14</td>\n",
              "      <td>4.0</td>\n",
              "      <td>128.0</td>\n",
              "    </tr>\n",
              "    <tr>\n",
              "      <th>2015-10-01</th>\n",
              "      <td>0.003793</td>\n",
              "      <td>1157.123</td>\n",
              "      <td>14</td>\n",
              "      <td>4.0</td>\n",
              "      <td>128.0</td>\n",
              "    </tr>\n",
              "  </tbody>\n",
              "</table>\n",
              "<p>214 rows × 5 columns</p>\n",
              "</div>"
            ],
            "text/plain": [
              "            price_ram  Price_gold  processnodes(nm)  tupe_ram  maks_desktop_gb\n",
              "Date                                                                          \n",
              "1998-01-01   0.647103     289.264               250       1.0              4.0\n",
              "1998-02-01   0.662688     297.743               250       1.0              4.0\n",
              "1998-03-01   0.678034     295.870               250       1.0              4.0\n",
              "1998-04-01   0.797507     308.558               250       1.0              4.0\n",
              "1998-05-01   0.783902     298.971               250       1.0              4.0\n",
              "...               ...         ...               ...       ...              ...\n",
              "2015-06-01   0.005037    1182.248                14       4.0            128.0\n",
              "2015-07-01   0.004490    1131.580                14       4.0            128.0\n",
              "2015-08-01   0.004390    1117.525                14       4.0            128.0\n",
              "2015-09-01   0.004291    1124.905                14       4.0            128.0\n",
              "2015-10-01   0.003793    1157.123                14       4.0            128.0\n",
              "\n",
              "[214 rows x 5 columns]"
            ]
          },
          "execution_count": 15,
          "metadata": {},
          "output_type": "execute_result"
        }
      ],
      "source": [
        "df"
      ]
    },
    {
      "cell_type": "markdown",
      "id": "kRWV9lwiXFZp",
      "metadata": {
        "id": "kRWV9lwiXFZp",
        "tags": []
      },
      "source": [
        "Проверка на стационарность"
      ]
    },
    {
      "cell_type": "code",
      "execution_count": null,
      "id": "QrhIVQvCXEgZ",
      "metadata": {
        "colab": {
          "base_uri": "https://localhost:8080/"
        },
        "id": "QrhIVQvCXEgZ",
        "outputId": "515afe63-6985-48a4-f77e-199020fa69f3",
        "tags": []
      },
      "outputs": [
        {
          "name": "stdout",
          "output_type": "stream",
          "text": [
            "Временной ряд НЕ стационарный\n"
          ]
        }
      ],
      "source": [
        "from statsmodels.tsa.stattools import adfuller\n",
        "# Prepro_data_np = np.array(Prepro_data_pd.values)\n",
        "\n",
        "res = adfuller(df.price_ram, autolag='BIC') \n",
        "if res[1] > 0.05:          # 0.05 - гипотеза 5%\n",
        "        print('Временной ряд НЕ стационарный')  # сравнение с p-value\n",
        "else:\n",
        "        print('Временной ряд стационарный')"
      ]
    },
    {
      "cell_type": "markdown",
      "id": "fe4b40ac-f439-4b8d-811e-7932699778a5",
      "metadata": {
        "id": "fe4b40ac-f439-4b8d-811e-7932699778a5",
        "tags": []
      },
      "source": [
        "## Создаём первую обучающую выборку"
      ]
    },
    {
      "cell_type": "markdown",
      "id": "45b5bd06-d0be-404d-a4df-a4bd3671e0a6",
      "metadata": {
        "id": "45b5bd06-d0be-404d-a4df-a4bd3671e0a6",
        "tags": []
      },
      "source": [
        "Сделаем тетсовые и обучающие выборки:<br>\n",
        "    Обуч.: с 1990-2013гг.<br>\n",
        "    Тест.: с 2013-2015гг."
      ]
    },
    {
      "cell_type": "code",
      "execution_count": null,
      "id": "7752adfc-46d7-4c69-844f-185c8eeb05f7",
      "metadata": {
        "colab": {
          "base_uri": "https://localhost:8080/",
          "height": 428
        },
        "id": "7752adfc-46d7-4c69-844f-185c8eeb05f7",
        "outputId": "b57d26cd-2951-42a4-b893-fed95c464062",
        "tags": []
      },
      "outputs": [
        {
          "data": {
            "image/png": "[encoded data removed]",
            "text/plain": [
              "<Figure size 720x504 with 1 Axes>"
            ]
          },
          "metadata": {
            "needs_background": "light"
          },
          "output_type": "display_data"
        }
      ],
      "source": [
        "data_2 = df.loc[:'2014']\n",
        "data_3 = df.loc['2014':]\n",
        "\n",
        "fig, ax2 = plt.subplots(1,figsize=(10,7))\n",
        "ax2.plot(data_2.price_ram)\n",
        "ax2.plot(data_3.price_ram);"
      ]
    },
    {
      "cell_type": "code",
      "execution_count": null,
      "id": "d8ae3b94-d955-45ab-8292-449562b6e131",
      "metadata": {
        "tags": [],
        "id": "d8ae3b94-d955-45ab-8292-449562b6e131",
        "outputId": "0bbd8576-a7f4-4b0d-92fc-353067edba80"
      },
      "outputs": [
        {
          "data": {
            "text/plain": [
              "Date\n",
              "2014-01-01    0.009455\n",
              "2014-02-01    0.008662\n",
              "2014-03-01    0.007869\n",
              "2014-04-01    0.007273\n",
              "2014-05-01    0.007571\n",
              "2014-06-01    0.007869\n",
              "2014-07-01    0.008464\n",
              "2014-08-01    0.008266\n",
              "2014-09-01    0.008067\n",
              "2014-10-01    0.007869\n",
              "2014-11-01    0.007671\n",
              "2014-12-01    0.007472\n",
              "2015-01-01    0.007273\n",
              "2015-02-01    0.006876\n",
              "2015-03-01    0.006479\n",
              "2015-04-01    0.006081\n",
              "2015-05-01    0.005584\n",
              "2015-06-01    0.005037\n",
              "2015-07-01    0.004490\n",
              "2015-08-01    0.004390\n",
              "2015-09-01    0.004291\n",
              "2015-10-01    0.003793\n",
              "Name: price_ram, dtype: float64"
            ]
          },
          "execution_count": 18,
          "metadata": {},
          "output_type": "execute_result"
        }
      ],
      "source": [
        "data_3.price_ram"
      ]
    },
    {
      "cell_type": "markdown",
      "id": "2147baf3-6c4a-4b07-8a5e-fc60539eb45e",
      "metadata": {
        "id": "2147baf3-6c4a-4b07-8a5e-fc60539eb45e",
        "tags": []
      },
      "source": [
        "## Поквартальные точки"
      ]
    },
    {
      "cell_type": "code",
      "execution_count": null,
      "id": "e40a70fd-42e9-4b7d-8f53-9e193a6bf6ee",
      "metadata": {
        "colab": {
          "base_uri": "https://localhost:8080/"
        },
        "id": "e40a70fd-42e9-4b7d-8f53-9e193a6bf6ee",
        "outputId": "2795fccd-131b-4e03-b677-db73d22df664"
      },
      "outputs": [
        {
          "data": {
            "text/plain": [
              "DatetimeIndex(['1998-03-31', '1998-06-30', '1998-09-30', '1998-12-31',\n",
              "               '1999-03-31', '1999-06-30', '1999-09-30', '1999-12-31',\n",
              "               '2000-03-31', '2000-06-30', '2000-09-30', '2000-12-31',\n",
              "               '2001-03-31', '2001-06-30', '2001-09-30', '2001-12-31',\n",
              "               '2002-03-31', '2002-06-30', '2002-09-30', '2002-12-31',\n",
              "               '2003-03-31', '2003-06-30', '2003-09-30', '2003-12-31',\n",
              "               '2004-03-31', '2004-06-30', '2004-09-30', '2004-12-31',\n",
              "               '2005-03-31', '2005-06-30', '2005-09-30', '2005-12-31',\n",
              "               '2006-03-31', '2006-06-30', '2006-09-30', '2006-12-31',\n",
              "               '2007-03-31', '2007-06-30', '2007-09-30', '2007-12-31',\n",
              "               '2008-03-31', '2008-06-30', '2008-09-30', '2008-12-31',\n",
              "               '2009-03-31', '2009-06-30', '2009-09-30', '2009-12-31',\n",
              "               '2010-03-31', '2010-06-30', '2010-09-30', '2010-12-31',\n",
              "               '2011-03-31', '2011-06-30', '2011-09-30', '2011-12-31',\n",
              "               '2012-03-31', '2012-06-30', '2012-09-30', '2012-12-31',\n",
              "               '2013-03-31', '2013-06-30', '2013-09-30', '2013-12-31',\n",
              "               '2014-03-31', '2014-06-30', '2014-09-30', '2014-12-31',\n",
              "               '2015-03-31', '2015-06-30', '2015-09-30'],\n",
              "              dtype='datetime64[ns]', freq='Q-DEC')"
            ]
          },
          "execution_count": 19,
          "metadata": {},
          "output_type": "execute_result"
        }
      ],
      "source": [
        "xticks = pd.date_range(start=df.index.min(), end=df.index.max(), freq='Q')\n",
        "xticks"
      ]
    },
    {
      "cell_type": "markdown",
      "id": "62f4d375-1df2-466a-b1a7-01a22ef88b04",
      "metadata": {
        "id": "62f4d375-1df2-466a-b1a7-01a22ef88b04"
      },
      "source": [
        "Перевод в дат в posix формат\n",
        "\n",
        "UNIX time - числовое представление* дат в виде чисел в секундах (каждую дату мы переводим в секунды) <br>\n",
        "*Сделано для улучшения работы машины"
      ]
    },
    {
      "cell_type": "code",
      "execution_count": null,
      "id": "274b2887-679b-46b5-af7c-1ad517e32763",
      "metadata": {
        "colab": {
          "base_uri": "https://localhost:8080/"
        },
        "id": "274b2887-679b-46b5-af7c-1ad517e32763",
        "outputId": "85899266-9381-45df-fc4a-a9198f72723b"
      },
      "outputs": [
        {
          "data": {
            "text/plain": [
              "array([ 891302400,  899164800,  907113600,  915062400,  922838400,\n",
              "        930700800,  938649600,  946598400,  954460800,  962323200,\n",
              "        970272000,  978220800,  985996800,  993859200, 1001808000,\n",
              "       1009756800, 1017532800, 1025395200, 1033344000, 1041292800,\n",
              "       1049068800, 1056931200, 1064880000, 1072828800, 1080691200,\n",
              "       1088553600, 1096502400, 1104451200, 1112227200, 1120089600,\n",
              "       1128038400, 1135987200, 1143763200, 1151625600, 1159574400,\n",
              "       1167523200, 1175299200, 1183161600, 1191110400, 1199059200,\n",
              "       1206921600, 1214784000, 1222732800, 1230681600, 1238457600,\n",
              "       1246320000, 1254268800, 1262217600, 1269993600, 1277856000,\n",
              "       1285804800, 1293753600, 1301529600, 1309392000, 1317340800,\n",
              "       1325289600, 1333152000, 1341014400, 1348963200, 1356912000,\n",
              "       1364688000, 1372550400, 1380499200, 1388448000, 1396224000,\n",
              "       1404086400, 1412035200, 1419984000, 1427760000, 1435622400,\n",
              "       1443571200], dtype=int64)"
            ]
          },
          "execution_count": 20,
          "metadata": {},
          "output_type": "execute_result"
        }
      ],
      "source": [
        "xticks1 = xticks.astype('int64') // 10 ** 9\n",
        "xticks1 = np.array(xticks1)\n",
        "xticks1"
      ]
    },
    {
      "cell_type": "markdown",
      "id": "f858f374-0182-4685-aefb-0f2b3f10cdde",
      "metadata": {
        "id": "f858f374-0182-4685-aefb-0f2b3f10cdde"
      },
      "source": [
        "Перевод posix данных в Pandas-формат"
      ]
    },
    {
      "cell_type": "code",
      "execution_count": null,
      "id": "93f7655f-a757-4a8f-9bb6-103aed33a7bc",
      "metadata": {
        "colab": {
          "base_uri": "https://localhost:8080/"
        },
        "id": "93f7655f-a757-4a8f-9bb6-103aed33a7bc",
        "outputId": "62ea64e2-ec9a-4636-b7ac-d6e4af3280bf"
      },
      "outputs": [
        {
          "data": {
            "text/plain": [
              "Int64Index([ 883612800,  886291200,  888710400,  891388800,  893980800,\n",
              "             896659200,  899251200,  901929600,  904608000,  907200000,\n",
              "            ...\n",
              "            1420070400, 1422748800, 1425168000, 1427846400, 1430438400,\n",
              "            1433116800, 1435708800, 1438387200, 1441065600, 1443657600],\n",
              "           dtype='int64', name='Date', length=214)"
            ]
          },
          "execution_count": 21,
          "metadata": {},
          "output_type": "execute_result"
        }
      ],
      "source": [
        "df_1 = df.copy()\n",
        "df_1.index = pd.to_datetime(df.index).astype(\"int64\") // 10**9\n",
        "df_1.index"
      ]
    },
    {
      "cell_type": "code",
      "execution_count": null,
      "id": "7d6b50f8-ae6c-40c6-a083-c290c81b049a",
      "metadata": {
        "colab": {
          "base_uri": "https://localhost:8080/",
          "height": 475
        },
        "id": "7d6b50f8-ae6c-40c6-a083-c290c81b049a",
        "outputId": "4587cc72-71e4-4c11-fb31-d388d47bdb26"
      },
      "outputs": [
        {
          "data": {
            "text/html": [
              "<div>\n",
              "<style scoped>\n",
              "    .dataframe tbody tr th:only-of-type {\n",
              "        vertical-align: middle;\n",
              "    }\n",
              "\n",
              "    .dataframe tbody tr th {\n",
              "        vertical-align: top;\n",
              "    }\n",
              "\n",
              "    .dataframe thead th {\n",
              "        text-align: right;\n",
              "    }\n",
              "</style>\n",
              "<table border=\"1\" class=\"dataframe\">\n",
              "  <thead>\n",
              "    <tr style=\"text-align: right;\">\n",
              "      <th></th>\n",
              "      <th>price_ram</th>\n",
              "      <th>Price_gold</th>\n",
              "      <th>processnodes(nm)</th>\n",
              "      <th>tupe_ram</th>\n",
              "      <th>maks_desktop_gb</th>\n",
              "    </tr>\n",
              "    <tr>\n",
              "      <th>Date</th>\n",
              "      <th></th>\n",
              "      <th></th>\n",
              "      <th></th>\n",
              "      <th></th>\n",
              "      <th></th>\n",
              "    </tr>\n",
              "  </thead>\n",
              "  <tbody>\n",
              "    <tr>\n",
              "      <th>883612800</th>\n",
              "      <td>0.647103</td>\n",
              "      <td>289.264</td>\n",
              "      <td>250</td>\n",
              "      <td>1.0</td>\n",
              "      <td>4.0</td>\n",
              "    </tr>\n",
              "    <tr>\n",
              "      <th>886291200</th>\n",
              "      <td>0.662688</td>\n",
              "      <td>297.743</td>\n",
              "      <td>250</td>\n",
              "      <td>1.0</td>\n",
              "      <td>4.0</td>\n",
              "    </tr>\n",
              "    <tr>\n",
              "      <th>888710400</th>\n",
              "      <td>0.678034</td>\n",
              "      <td>295.870</td>\n",
              "      <td>250</td>\n",
              "      <td>1.0</td>\n",
              "      <td>4.0</td>\n",
              "    </tr>\n",
              "    <tr>\n",
              "      <th>891388800</th>\n",
              "      <td>0.797507</td>\n",
              "      <td>308.558</td>\n",
              "      <td>250</td>\n",
              "      <td>1.0</td>\n",
              "      <td>4.0</td>\n",
              "    </tr>\n",
              "    <tr>\n",
              "      <th>893980800</th>\n",
              "      <td>0.783902</td>\n",
              "      <td>298.971</td>\n",
              "      <td>250</td>\n",
              "      <td>1.0</td>\n",
              "      <td>4.0</td>\n",
              "    </tr>\n",
              "    <tr>\n",
              "      <th>...</th>\n",
              "      <td>...</td>\n",
              "      <td>...</td>\n",
              "      <td>...</td>\n",
              "      <td>...</td>\n",
              "      <td>...</td>\n",
              "    </tr>\n",
              "    <tr>\n",
              "      <th>1433116800</th>\n",
              "      <td>0.005037</td>\n",
              "      <td>1182.248</td>\n",
              "      <td>14</td>\n",
              "      <td>4.0</td>\n",
              "      <td>128.0</td>\n",
              "    </tr>\n",
              "    <tr>\n",
              "      <th>1435708800</th>\n",
              "      <td>0.004490</td>\n",
              "      <td>1131.580</td>\n",
              "      <td>14</td>\n",
              "      <td>4.0</td>\n",
              "      <td>128.0</td>\n",
              "    </tr>\n",
              "    <tr>\n",
              "      <th>1438387200</th>\n",
              "      <td>0.004390</td>\n",
              "      <td>1117.525</td>\n",
              "      <td>14</td>\n",
              "      <td>4.0</td>\n",
              "      <td>128.0</td>\n",
              "    </tr>\n",
              "    <tr>\n",
              "      <th>1441065600</th>\n",
              "      <td>0.004291</td>\n",
              "      <td>1124.905</td>\n",
              "      <td>14</td>\n",
              "      <td>4.0</td>\n",
              "      <td>128.0</td>\n",
              "    </tr>\n",
              "    <tr>\n",
              "      <th>1443657600</th>\n",
              "      <td>0.003793</td>\n",
              "      <td>1157.123</td>\n",
              "      <td>14</td>\n",
              "      <td>4.0</td>\n",
              "      <td>128.0</td>\n",
              "    </tr>\n",
              "  </tbody>\n",
              "</table>\n",
              "<p>214 rows × 5 columns</p>\n",
              "</div>"
            ],
            "text/plain": [
              "            price_ram  Price_gold  processnodes(nm)  tupe_ram  maks_desktop_gb\n",
              "Date                                                                          \n",
              "883612800    0.647103     289.264               250       1.0              4.0\n",
              "886291200    0.662688     297.743               250       1.0              4.0\n",
              "888710400    0.678034     295.870               250       1.0              4.0\n",
              "891388800    0.797507     308.558               250       1.0              4.0\n",
              "893980800    0.783902     298.971               250       1.0              4.0\n",
              "...               ...         ...               ...       ...              ...\n",
              "1433116800   0.005037    1182.248                14       4.0            128.0\n",
              "1435708800   0.004490    1131.580                14       4.0            128.0\n",
              "1438387200   0.004390    1117.525                14       4.0            128.0\n",
              "1441065600   0.004291    1124.905                14       4.0            128.0\n",
              "1443657600   0.003793    1157.123                14       4.0            128.0\n",
              "\n",
              "[214 rows x 5 columns]"
            ]
          },
          "execution_count": 22,
          "metadata": {},
          "output_type": "execute_result"
        }
      ],
      "source": [
        "df_1"
      ]
    },
    {
      "cell_type": "markdown",
      "id": "7029a7e1-664f-444f-93e6-73d4d910da57",
      "metadata": {
        "id": "7029a7e1-664f-444f-93e6-73d4d910da57",
        "tags": []
      },
      "source": [
        "## Создаём массив X с посикс данными"
      ]
    },
    {
      "cell_type": "code",
      "execution_count": null,
      "id": "5c54bb07-6bde-4d83-b2eb-202d89b35964",
      "metadata": {
        "colab": {
          "base_uri": "https://localhost:8080/"
        },
        "id": "5c54bb07-6bde-4d83-b2eb-202d89b35964",
        "outputId": "147b7e20-f660-40a0-a7c1-840c37c7b06f",
        "tags": []
      },
      "outputs": [
        {
          "data": {
            "text/plain": [
              "array([[883612800],\n",
              "       [886291200],\n",
              "       [888710400],\n",
              "       [891388800],\n",
              "       [893980800]], dtype=int64)"
            ]
          },
          "execution_count": 23,
          "metadata": {},
          "output_type": "execute_result"
        }
      ],
      "source": [
        "X = np.array(df_1.index)\n",
        "X = X.reshape(-1,1)\n",
        "X[:5]"
      ]
    },
    {
      "cell_type": "markdown",
      "id": "c5048a70-03bf-48a3-be2d-e4f248a82bc5",
      "metadata": {
        "id": "c5048a70-03bf-48a3-be2d-e4f248a82bc5",
        "tags": []
      },
      "source": [
        "# Создание датафрейма\n",
        "\n",
        "Создаём данные из восстановленных с помощью регрессии данных"
      ]
    },
    {
      "cell_type": "code",
      "execution_count": null,
      "id": "2517eeac-3d13-4573-aaf2-d3dfc17b3d3b",
      "metadata": {
        "id": "2517eeac-3d13-4573-aaf2-d3dfc17b3d3b",
        "tags": []
      },
      "outputs": [],
      "source": [
        "# Prepro_data_pd_1 = pd.Series(\n",
        "#         data = RFReg_1,\n",
        "#         index = xticks,\n",
        "#         name = ('log_price')\n",
        "# )"
      ]
    },
    {
      "cell_type": "code",
      "execution_count": null,
      "id": "ebb094ec-4139-4085-bfba-e55f13db081b",
      "metadata": {
        "id": "ebb094ec-4139-4085-bfba-e55f13db081b",
        "tags": []
      },
      "outputs": [],
      "source": [
        "# Prepro_data_pd_1"
      ]
    },
    {
      "cell_type": "markdown",
      "id": "59713ed0-4d9a-455a-bc2e-4409b9a02d92",
      "metadata": {
        "id": "59713ed0-4d9a-455a-bc2e-4409b9a02d92",
        "tags": []
      },
      "source": [
        "# Создание даты"
      ]
    },
    {
      "cell_type": "markdown",
      "id": "e635e88b-11f7-4270-bc8b-6aa9683d9534",
      "metadata": {
        "id": "e635e88b-11f7-4270-bc8b-6aa9683d9534",
        "tags": []
      },
      "source": [
        "Проверим ряд на стационарность"
      ]
    },
    {
      "cell_type": "code",
      "execution_count": null,
      "id": "9b881820-9e4a-4f0c-b176-d99f4f8cc8de",
      "metadata": {
        "colab": {
          "base_uri": "https://localhost:8080/"
        },
        "id": "9b881820-9e4a-4f0c-b176-d99f4f8cc8de",
        "outputId": "9881b8cf-1e41-42cb-bc9c-36ac261397b5",
        "tags": []
      },
      "outputs": [
        {
          "name": "stdout",
          "output_type": "stream",
          "text": [
            "Временной ряд НЕ стационарный\n"
          ]
        }
      ],
      "source": [
        "from statsmodels.tsa.stattools import adfuller\n",
        "# Prepro_data_np = np.array(Prepro_data_pd.values)\n",
        "\n",
        "res = adfuller(df_1.price_ram, autolag='t-stat') \n",
        "if res[1] > 0.05:          # 0.05 - гипотеза 5%\n",
        "        print('Временной ряд НЕ стационарный')  # сравнение с p-value\n",
        "else:\n",
        "        print('Временной ряд стационарный')"
      ]
    },
    {
      "cell_type": "markdown",
      "id": "2ad80d29-9d71-4d2a-b11c-670178a8b82b",
      "metadata": {
        "id": "2ad80d29-9d71-4d2a-b11c-670178a8b82b"
      },
      "source": [
        "## Разделение данных на тест и обуч выборки в формате Pandas\n"
      ]
    },
    {
      "cell_type": "code",
      "execution_count": null,
      "id": "ea3da9f5-2da6-4fa2-9d2d-2c3e963b61b0",
      "metadata": {
        "id": "ea3da9f5-2da6-4fa2-9d2d-2c3e963b61b0"
      },
      "outputs": [],
      "source": [
        "from pandas import read_csv, DataFrame\n",
        "from sklearn.neighbors import KNeighborsRegressor\n",
        "from sklearn.linear_model import LinearRegression, LogisticRegression\n",
        "from sklearn.svm import SVR\n",
        "from sklearn.ensemble import RandomForestRegressor\n",
        "from sklearn.metrics import r2_score\n",
        "from sklearn.model_selection import train_test_split"
      ]
    },
    {
      "cell_type": "code",
      "execution_count": null,
      "id": "6f8e5be6-4c07-4763-983a-3b7b45a18cda",
      "metadata": {
        "id": "6f8e5be6-4c07-4763-983a-3b7b45a18cda",
        "outputId": "28d98284-3a13-490d-f96b-a3e89fd0cb8b"
      },
      "outputs": [
        {
          "name": "stdout",
          "output_type": "stream",
          "text": [
            "            price_ram\n",
            "Date                 \n",
            "883612800    0.647103\n",
            "886291200    0.662688\n",
            "888710400    0.678034\n",
            "891388800    0.797507\n",
            "893980800    0.783902\n",
            "...               ...\n",
            "1433116800   0.005037\n",
            "1435708800   0.004490\n",
            "1438387200   0.004390\n",
            "1441065600   0.004291\n",
            "1443657600   0.003793\n",
            "\n",
            "[214 rows x 1 columns]\n",
            "            Price_gold  processnodes(nm)  tupe_ram  maks_desktop_gb\n",
            "Date                                                               \n",
            "883612800      289.264               250       1.0              4.0\n",
            "886291200      297.743               250       1.0              4.0\n",
            "888710400      295.870               250       1.0              4.0\n",
            "891388800      308.558               250       1.0              4.0\n",
            "893980800      298.971               250       1.0              4.0\n",
            "...                ...               ...       ...              ...\n",
            "1433116800    1182.248                14       4.0            128.0\n",
            "1435708800    1131.580                14       4.0            128.0\n",
            "1438387200    1117.525                14       4.0            128.0\n",
            "1441065600    1124.905                14       4.0            128.0\n",
            "1443657600    1157.123                14       4.0            128.0\n",
            "\n",
            "[214 rows x 4 columns]\n"
          ]
        }
      ],
      "source": [
        "y_stolb = df_1[['price_ram']]\n",
        "X_stolb = df_1.drop(['price_ram'], axis=1)\n",
        "\n",
        "\n",
        "print(y_stolb)\n",
        "print(X_stolb)"
      ]
    },
    {
      "cell_type": "code",
      "execution_count": null,
      "id": "07049974-c10f-4c33-9a11-80c3287abad1",
      "metadata": {
        "tags": [],
        "id": "07049974-c10f-4c33-9a11-80c3287abad1",
        "outputId": "c4865ade-e405-4048-ca9f-b5ea21cc828e"
      },
      "outputs": [
        {
          "data": {
            "text/html": [
              "<div>\n",
              "<style scoped>\n",
              "    .dataframe tbody tr th:only-of-type {\n",
              "        vertical-align: middle;\n",
              "    }\n",
              "\n",
              "    .dataframe tbody tr th {\n",
              "        vertical-align: top;\n",
              "    }\n",
              "\n",
              "    .dataframe thead th {\n",
              "        text-align: right;\n",
              "    }\n",
              "</style>\n",
              "<table border=\"1\" class=\"dataframe\">\n",
              "  <thead>\n",
              "    <tr style=\"text-align: right;\">\n",
              "      <th></th>\n",
              "      <th>price_ram</th>\n",
              "    </tr>\n",
              "    <tr>\n",
              "      <th>Data</th>\n",
              "      <th></th>\n",
              "    </tr>\n",
              "  </thead>\n",
              "  <tbody>\n",
              "    <tr>\n",
              "      <th>1998-01-01</th>\n",
              "      <td>0.647103</td>\n",
              "    </tr>\n",
              "    <tr>\n",
              "      <th>1998-02-01</th>\n",
              "      <td>0.662688</td>\n",
              "    </tr>\n",
              "    <tr>\n",
              "      <th>1998-03-01</th>\n",
              "      <td>0.678034</td>\n",
              "    </tr>\n",
              "    <tr>\n",
              "      <th>1998-04-01</th>\n",
              "      <td>0.797507</td>\n",
              "    </tr>\n",
              "    <tr>\n",
              "      <th>1998-05-01</th>\n",
              "      <td>0.783902</td>\n",
              "    </tr>\n",
              "    <tr>\n",
              "      <th>...</th>\n",
              "      <td>...</td>\n",
              "    </tr>\n",
              "    <tr>\n",
              "      <th>2015-06-01</th>\n",
              "      <td>0.005037</td>\n",
              "    </tr>\n",
              "    <tr>\n",
              "      <th>2015-07-01</th>\n",
              "      <td>0.004490</td>\n",
              "    </tr>\n",
              "    <tr>\n",
              "      <th>2015-08-01</th>\n",
              "      <td>0.004390</td>\n",
              "    </tr>\n",
              "    <tr>\n",
              "      <th>2015-09-01</th>\n",
              "      <td>0.004291</td>\n",
              "    </tr>\n",
              "    <tr>\n",
              "      <th>2015-10-01</th>\n",
              "      <td>0.003793</td>\n",
              "    </tr>\n",
              "  </tbody>\n",
              "</table>\n",
              "<p>214 rows × 1 columns</p>\n",
              "</div>"
            ],
            "text/plain": [
              "            price_ram\n",
              "Data                 \n",
              "1998-01-01   0.647103\n",
              "1998-02-01   0.662688\n",
              "1998-03-01   0.678034\n",
              "1998-04-01   0.797507\n",
              "1998-05-01   0.783902\n",
              "...               ...\n",
              "2015-06-01   0.005037\n",
              "2015-07-01   0.004490\n",
              "2015-08-01   0.004390\n",
              "2015-09-01   0.004291\n",
              "2015-10-01   0.003793\n",
              "\n",
              "[214 rows x 1 columns]"
            ]
          },
          "execution_count": 29,
          "metadata": {},
          "output_type": "execute_result"
        }
      ],
      "source": [
        "y_stolb_ind = pd.to_datetime(y_stolb.index, unit='s')\n",
        "\n",
        "y_stolb['Data'] = y_stolb_ind\n",
        "\n",
        "y_stolb = y_stolb.set_index('Data')\n",
        "\n",
        "y_stolb"
      ]
    },
    {
      "cell_type": "code",
      "execution_count": null,
      "id": "5d750058-8422-40ab-b21e-03654bcb3f8f",
      "metadata": {
        "tags": [],
        "id": "5d750058-8422-40ab-b21e-03654bcb3f8f",
        "outputId": "399c712c-0c91-4b50-917e-0d565984afa7"
      },
      "outputs": [
        {
          "data": {
            "text/html": [
              "<div>\n",
              "<style scoped>\n",
              "    .dataframe tbody tr th:only-of-type {\n",
              "        vertical-align: middle;\n",
              "    }\n",
              "\n",
              "    .dataframe tbody tr th {\n",
              "        vertical-align: top;\n",
              "    }\n",
              "\n",
              "    .dataframe thead th {\n",
              "        text-align: right;\n",
              "    }\n",
              "</style>\n",
              "<table border=\"1\" class=\"dataframe\">\n",
              "  <thead>\n",
              "    <tr style=\"text-align: right;\">\n",
              "      <th></th>\n",
              "      <th>Price_gold</th>\n",
              "      <th>processnodes(nm)</th>\n",
              "      <th>tupe_ram</th>\n",
              "      <th>maks_desktop_gb</th>\n",
              "    </tr>\n",
              "    <tr>\n",
              "      <th>Data</th>\n",
              "      <th></th>\n",
              "      <th></th>\n",
              "      <th></th>\n",
              "      <th></th>\n",
              "    </tr>\n",
              "  </thead>\n",
              "  <tbody>\n",
              "    <tr>\n",
              "      <th>1998-01-01</th>\n",
              "      <td>289.264</td>\n",
              "      <td>250</td>\n",
              "      <td>1.0</td>\n",
              "      <td>4.0</td>\n",
              "    </tr>\n",
              "    <tr>\n",
              "      <th>1998-02-01</th>\n",
              "      <td>297.743</td>\n",
              "      <td>250</td>\n",
              "      <td>1.0</td>\n",
              "      <td>4.0</td>\n",
              "    </tr>\n",
              "    <tr>\n",
              "      <th>1998-03-01</th>\n",
              "      <td>295.870</td>\n",
              "      <td>250</td>\n",
              "      <td>1.0</td>\n",
              "      <td>4.0</td>\n",
              "    </tr>\n",
              "    <tr>\n",
              "      <th>1998-04-01</th>\n",
              "      <td>308.558</td>\n",
              "      <td>250</td>\n",
              "      <td>1.0</td>\n",
              "      <td>4.0</td>\n",
              "    </tr>\n",
              "    <tr>\n",
              "      <th>1998-05-01</th>\n",
              "      <td>298.971</td>\n",
              "      <td>250</td>\n",
              "      <td>1.0</td>\n",
              "      <td>4.0</td>\n",
              "    </tr>\n",
              "    <tr>\n",
              "      <th>...</th>\n",
              "      <td>...</td>\n",
              "      <td>...</td>\n",
              "      <td>...</td>\n",
              "      <td>...</td>\n",
              "    </tr>\n",
              "    <tr>\n",
              "      <th>2015-06-01</th>\n",
              "      <td>1182.248</td>\n",
              "      <td>14</td>\n",
              "      <td>4.0</td>\n",
              "      <td>128.0</td>\n",
              "    </tr>\n",
              "    <tr>\n",
              "      <th>2015-07-01</th>\n",
              "      <td>1131.580</td>\n",
              "      <td>14</td>\n",
              "      <td>4.0</td>\n",
              "      <td>128.0</td>\n",
              "    </tr>\n",
              "    <tr>\n",
              "      <th>2015-08-01</th>\n",
              "      <td>1117.525</td>\n",
              "      <td>14</td>\n",
              "      <td>4.0</td>\n",
              "      <td>128.0</td>\n",
              "    </tr>\n",
              "    <tr>\n",
              "      <th>2015-09-01</th>\n",
              "      <td>1124.905</td>\n",
              "      <td>14</td>\n",
              "      <td>4.0</td>\n",
              "      <td>128.0</td>\n",
              "    </tr>\n",
              "    <tr>\n",
              "      <th>2015-10-01</th>\n",
              "      <td>1157.123</td>\n",
              "      <td>14</td>\n",
              "      <td>4.0</td>\n",
              "      <td>128.0</td>\n",
              "    </tr>\n",
              "  </tbody>\n",
              "</table>\n",
              "<p>214 rows × 4 columns</p>\n",
              "</div>"
            ],
            "text/plain": [
              "            Price_gold  processnodes(nm)  tupe_ram  maks_desktop_gb\n",
              "Data                                                               \n",
              "1998-01-01     289.264               250       1.0              4.0\n",
              "1998-02-01     297.743               250       1.0              4.0\n",
              "1998-03-01     295.870               250       1.0              4.0\n",
              "1998-04-01     308.558               250       1.0              4.0\n",
              "1998-05-01     298.971               250       1.0              4.0\n",
              "...                ...               ...       ...              ...\n",
              "2015-06-01    1182.248                14       4.0            128.0\n",
              "2015-07-01    1131.580                14       4.0            128.0\n",
              "2015-08-01    1117.525                14       4.0            128.0\n",
              "2015-09-01    1124.905                14       4.0            128.0\n",
              "2015-10-01    1157.123                14       4.0            128.0\n",
              "\n",
              "[214 rows x 4 columns]"
            ]
          },
          "execution_count": 30,
          "metadata": {},
          "output_type": "execute_result"
        }
      ],
      "source": [
        "X_stolb_ind = pd.to_datetime(X_stolb.index, unit='s')\n",
        "\n",
        "X_stolb['Data'] = X_stolb_ind\n",
        "\n",
        "X_stolb = X_stolb.set_index('Data')\n",
        "\n",
        "X_stolb"
      ]
    },
    {
      "cell_type": "code",
      "execution_count": null,
      "id": "c4b4318a-e426-4f1a-9f0a-7cc79d7e971c",
      "metadata": {
        "id": "c4b4318a-e426-4f1a-9f0a-7cc79d7e971c"
      },
      "outputs": [],
      "source": [
        "Xtrn = X_stolb.loc[:'2014']\n",
        "Xtest = X_stolb.loc['2014':]\n",
        "\n",
        "\n",
        "Ytrn = y_stolb.loc[:'2014']\n",
        "Ytest = y_stolb.loc['2014':]"
      ]
    },
    {
      "cell_type": "code",
      "execution_count": null,
      "id": "b355c0bf-8535-4003-8485-07843a7a383b",
      "metadata": {
        "id": "b355c0bf-8535-4003-8485-07843a7a383b",
        "outputId": "a63fd625-86bb-4332-dff2-3ede05fb16e0"
      },
      "outputs": [
        {
          "data": {
            "image/png": "[encoded data removed]",
            "text/plain": [
              "<Figure size 720x504 with 1 Axes>"
            ]
          },
          "metadata": {
            "needs_background": "light"
          },
          "output_type": "display_data"
        }
      ],
      "source": [
        "fig, ax2 = plt.subplots(1,figsize=(10,7))\n",
        "ax2.plot(Ytrn)\n",
        "ax2.plot(Ytest);"
      ]
    },
    {
      "cell_type": "markdown",
      "id": "c5cb36e4-01a6-49b2-9c75-60a35d01a2d9",
      "metadata": {
        "id": "c5cb36e4-01a6-49b2-9c75-60a35d01a2d9"
      },
      "source": [
        "##Колдуем с предсказаниями "
      ]
    },
    {
      "cell_type": "code",
      "execution_count": null,
      "id": "4371a116-2d77-48f0-8bb3-77579985d272",
      "metadata": {
        "id": "4371a116-2d77-48f0-8bb3-77579985d272"
      },
      "outputs": [],
      "source": [
        "models = [LinearRegression(), \n",
        "          RandomForestRegressor(n_estimators=100, max_features ='sqrt'), # случайный лес\n",
        "          KNeighborsRegressor(n_neighbors=6), # метод ближайших соседей\n",
        "          ]"
      ]
    },
    {
      "cell_type": "code",
      "execution_count": null,
      "id": "d34950e7-d7c8-4b49-8fc2-05142d78b083",
      "metadata": {
        "id": "d34950e7-d7c8-4b49-8fc2-05142d78b083",
        "outputId": "b1c1ebfd-e54f-4dbb-da10-3021272292fa"
      },
      "outputs": [
        {
          "name": "stdout",
          "output_type": "stream",
          "text": [
            "(204, 1)\n",
            "(22, 1)\n",
            "(204, 4)\n",
            "(22, 4)\n"
          ]
        }
      ],
      "source": [
        "Xtrn = np.array(Xtrn)\n",
        "Xtest = np.array(Xtest)\n",
        "Ytrn = np.array(Ytrn)\n",
        "Ytest = np.array(Ytest)\n",
        "print(Ytrn.shape)\n",
        "print(Ytest.shape)\n",
        "print(Xtrn.shape)\n",
        "print(Xtest.shape)"
      ]
    },
    {
      "cell_type": "code",
      "execution_count": null,
      "id": "561d6466-ec71-4fb6-8020-c0c63a03f919",
      "metadata": {
        "id": "561d6466-ec71-4fb6-8020-c0c63a03f919"
      },
      "outputs": [],
      "source": [
        "#создаем временные структуры\n",
        "TestModels = DataFrame()\n",
        "TestModelsPred = DataFrame()\n",
        "tmp = {}\n",
        "\n",
        "#для каждой модели из списка\n",
        "for model in models:\n",
        "    #получаем имя модели\n",
        "    m = str(model)\n",
        "    tmp['Model'] = m[:m.index('(')]    \n",
        "    #для каждого столбцам результирующего набора\n",
        "    for i in range(Ytrn.shape[1]):\n",
        "        #обучаем модель\n",
        "        model.fit(Xtrn, Ytrn) \n",
        "        #вычисляем коэффициент детерминации\n",
        "        tmp['R2_Y%s'%str(i+1)] = r2_score(Ytest, model.predict(Xtest))\n",
        "        pred = model.predict(Xtest)\n",
        "    #записываем данные и итоговый DataFrame\n",
        "    pred = model.predict(Xtest)\n",
        "    TestModels = TestModels.append([tmp])\n",
        "#делаем индекс по названию модели\n",
        "TestModels.set_index('Model', inplace=True)"
      ]
    },
    {
      "cell_type": "code",
      "execution_count": null,
      "id": "7c4ef236-1399-47c4-9dcb-1c32b8bdda4a",
      "metadata": {
        "id": "7c4ef236-1399-47c4-9dcb-1c32b8bdda4a",
        "outputId": "f72986fd-4871-4e11-ef0f-ed30ed16f600"
      },
      "outputs": [
        {
          "data": {
            "image/png": "[encoded data removed]",
            "text/plain": [
              "<Figure size 720x288 with 1 Axes>"
            ]
          },
          "metadata": {
            "needs_background": "light"
          },
          "output_type": "display_data"
        }
      ],
      "source": [
        "fig, axes = plt.subplots(1, 1, figsize=(10,4))\n",
        "TestModels.R2_Y1.plot(kind='bar', title='R2_Y1');"
      ]
    },
    {
      "cell_type": "code",
      "execution_count": null,
      "id": "e9a82554-38de-42a0-a938-c37fb63614fa",
      "metadata": {
        "id": "e9a82554-38de-42a0-a938-c37fb63614fa",
        "outputId": "d79a40f5-f3bd-4a21-d416-786651f62475"
      },
      "outputs": [
        {
          "name": "stdout",
          "output_type": "stream",
          "text": [
            "[0.35291266 0.511889   0.06864402 0.06655432]\n"
          ]
        }
      ],
      "source": [
        "model = models[1].fit(Xtrn, Ytrn).feature_importances_\n",
        "\n",
        "print(model)"
      ]
    },
    {
      "cell_type": "code",
      "execution_count": null,
      "id": "eb734aa7-eb93-4ceb-bcc4-246770e308d9",
      "metadata": {
        "id": "eb734aa7-eb93-4ceb-bcc4-246770e308d9",
        "outputId": "43fb6874-9aee-46e8-db7c-4676f55ce385"
      },
      "outputs": [
        {
          "data": {
            "image/png": "[encoded data removed]",
            "text/plain": [
              "<Figure size 432x288 with 1 Axes>"
            ]
          },
          "metadata": {
            "needs_background": "light"
          },
          "output_type": "display_data"
        }
      ],
      "source": [
        "from sklearn import datasets\n",
        "from sklearn.model_selection import cross_val_predict\n",
        "from sklearn import linear_model\n",
        "import matplotlib.pyplot as plt\n",
        "\n",
        "mod = models[1].fit(Xtrn, Ytrn)\n",
        "y = df_1[['price_ram']]\n",
        "# cross_val_predict returns an array of the same size as `y` where each entry\n",
        "# is a prediction obtained by cross validated:\n",
        "predicted = cross_val_predict(mod, df_1, y, cv=10)\n",
        "\n",
        "fig, ax = plt.subplots()\n",
        "ax.scatter(y, predicted)\n",
        "ax.plot([y.min(), y.max()], [y.min(), y.max()], 'k--', lw=4)\n",
        "ax.set_xlabel('Measured')\n",
        "ax.set_ylabel('Predicted')\n",
        "plt.show()\n"
      ]
    },
    {
      "cell_type": "markdown",
      "id": "863beca9-6a4a-4eee-8937-8bdffd51273c",
      "metadata": {
        "id": "863beca9-6a4a-4eee-8937-8bdffd51273c"
      },
      "source": [
        "# Высчитывание тренда\n",
        "\n",
        "Складываем обучающие массива"
      ]
    },
    {
      "cell_type": "code",
      "execution_count": null,
      "id": "bf611ce6-9c25-4ab9-8930-00b463ab0d4f",
      "metadata": {
        "tags": [],
        "id": "bf611ce6-9c25-4ab9-8930-00b463ab0d4f",
        "outputId": "f5cc1911-ba58-4ffb-b7ad-3196da76b2a4"
      },
      "outputs": [
        {
          "name": "stdout",
          "output_type": "stream",
          "text": [
            "(226, 4) \n",
            " [[289.264 250.      1.      4.   ]\n",
            " [297.743 250.      1.      4.   ]\n",
            " [295.87  250.      1.      4.   ]\n",
            " [308.558 250.      1.      4.   ]\n",
            " [298.971 250.      1.      4.   ]] \n",
            "\n",
            " (226, 1) \n",
            " [[0.64710324]\n",
            " [0.66268797]\n",
            " [0.67803354]\n",
            " [0.7975072 ]\n",
            " [0.78390154]]\n"
          ]
        }
      ],
      "source": [
        "X_2 = np.vstack((Xtrn, Xtest))\n",
        "y_2 = np.vstack((Ytrn, Ytest))\n",
        "print(X_2.shape, '\\n', X_2[:5], '\\n\\n',\n",
        "      y_2.shape, '\\n', y_2[:5])"
      ]
    },
    {
      "cell_type": "code",
      "execution_count": null,
      "id": "a1443dbb-e37c-4539-8045-b15a71b32693",
      "metadata": {
        "id": "a1443dbb-e37c-4539-8045-b15a71b32693",
        "outputId": "c6354b9b-b040-4b95-864e-9cf164ab6967"
      },
      "outputs": [
        {
          "name": "stdout",
          "output_type": "stream",
          "text": [
            "[ 0.01558473  0.01534557  0.11947365 -0.01360565 -0.105868    0.03000225\n",
            " -0.01488861 -0.01511364 -0.06826797  0.10318424]\n",
            "\n",
            " (225,)\n"
          ]
        }
      ],
      "source": [
        "# Находим дифференциа\n",
        "y_der = np.diff(y_2.ravel())\n",
        "\n",
        "print(y_der[:10])\n",
        "print('\\n', y_der.shape)"
      ]
    },
    {
      "cell_type": "code",
      "execution_count": null,
      "id": "fa1bdbd6-56e0-458b-b93f-5ff66ed099a9",
      "metadata": {
        "tags": [],
        "id": "fa1bdbd6-56e0-458b-b93f-5ff66ed099a9"
      },
      "outputs": [],
      "source": [
        "# y_reduced = y_2[:-1].ravel() - y_der.ravel()\n",
        "# print(y_reduced.shape)\n",
        "\n",
        "# fig = plt.figure(figsize = (30, 20))\n",
        "# plt.plot(X_2, y_2, label = \"original\")\n",
        "# plt.plot(X_2[:-1], y_der, label = \"derivative\") # Производная\n",
        "\n",
        "# plt.legend();"
      ]
    },
    {
      "cell_type": "markdown",
      "id": "6b762910-ea78-4576-be4a-dac51ae5765c",
      "metadata": {
        "tags": [],
        "id": "6b762910-ea78-4576-be4a-dac51ae5765c"
      },
      "source": [
        "## Сезонная декомпозиция"
      ]
    },
    {
      "cell_type": "code",
      "execution_count": null,
      "id": "e993eebc",
      "metadata": {
        "tags": [],
        "id": "e993eebc"
      },
      "outputs": [],
      "source": [
        "from statsmodels.tsa.seasonal import seasonal_decompose\n",
        "\n",
        "def decomposition_plot(ts):\n",
        "\n",
        "    decomposition = seasonal_decompose(ts)  # логарифмируем исх. данные!!!\n",
        "\n",
        "# разложение исх. данных на тренд, сезонность и остатки\n",
        "    trend = decomposition.trend\n",
        "    seasonal = decomposition.seasonal\n",
        "    residual = decomposition.resid\n",
        "\n",
        "    return ts - trend\n",
        "\n",
        "def decomposition_plot2(ts):\n",
        "# используем seasonal_decompose из statsmodels.tsa.seasonal\n",
        "\n",
        "    decomposition = seasonal_decompose(ts)  # логарифмируем исх. данные!!!\n",
        "\n",
        "# разложение исх. данных на тренд, сезонность и остатки\n",
        "    trend = decomposition.trend\n",
        "    seasonal = decomposition.seasonal\n",
        "    residual = decomposition.resid\n",
        "\n",
        "# Plotting\n",
        "    plt.figure(figsize=(12,8))\n",
        "    plt.subplot(411)\n",
        "    plt.plot(ts, label='Исх. данные НЕ логарифмир.', color='blue')\n",
        "    plt.legend(loc='best')\n",
        "    plt.subplot(412)\n",
        "    plt.plot(trend, label='Тренд', color='blue')\n",
        "    plt.legend(loc='best')\n",
        "    plt.subplot(413)\n",
        "    plt.plot(seasonal,label='Сезонность', color='blue')\n",
        "    plt.legend(loc='best')\n",
        "    plt.subplot(414)\n",
        "    plt.plot(residual, label='Остатки', color='blue')\n",
        "    plt.legend(loc='best')\n",
        "    plt.tight_layout()\n",
        "    plt.show()\n",
        "    return trend"
      ]
    },
    {
      "cell_type": "markdown",
      "id": "36102504-2219-4bd9-92bc-2f6fe9c395b1",
      "metadata": {
        "id": "36102504-2219-4bd9-92bc-2f6fe9c395b1"
      },
      "source": [
        "Размер массивов"
      ]
    },
    {
      "cell_type": "code",
      "execution_count": null,
      "id": "e56dd44b",
      "metadata": {
        "id": "e56dd44b",
        "outputId": "f571748a-607e-4ad5-da63-ed781ef82c68"
      },
      "outputs": [
        {
          "name": "stdout",
          "output_type": "stream",
          "text": [
            "(226, 4) (226, 1)\n",
            "(226, 4) (226, 1)\n"
          ]
        }
      ],
      "source": [
        "X_train_2 = X_2\n",
        "y_train_2 = y_2\n",
        "print(X_train_2.shape, y_train_2.shape)\n",
        "\n",
        "X_test_2 = X_2\n",
        "y_test_2 = y_2\n",
        "print(X_test_2.shape, y_test_2.shape)"
      ]
    },
    {
      "cell_type": "markdown",
      "id": "54d4569e-3162-4335-9d44-5d767a462566",
      "metadata": {
        "id": "54d4569e-3162-4335-9d44-5d767a462566"
      },
      "source": [
        "Функция экспоненциального скользящего окна"
      ]
    },
    {
      "cell_type": "code",
      "execution_count": null,
      "id": "e262d2d2",
      "metadata": {
        "tags": [],
        "id": "e262d2d2"
      },
      "outputs": [],
      "source": [
        "def numpy_ewma_vectorized(data, window):\n",
        "\n",
        "    alpha = 2 /(window + 1.0)\n",
        "    alpha_rev = 1-alpha\n",
        "\n",
        "    scale = 1/alpha_rev\n",
        "    n = data.shape[0]\n",
        "\n",
        "    r = np.arange(n)\n",
        "    scale_arr = scale**r\n",
        "    offset = data[0]*alpha_rev**(r+1)\n",
        "    pw0 = alpha*alpha_rev**(n-1)\n",
        "\n",
        "    mult = data*pw0*scale_arr\n",
        "    cumsums = mult.cumsum()\n",
        "    out = offset + cumsums*scale_arr[::-1]\n",
        "    return out"
      ]
    },
    {
      "cell_type": "code",
      "execution_count": null,
      "id": "c4591b57-2f80-4981-ba50-0a76ab8e19ed",
      "metadata": {
        "tags": [],
        "id": "c4591b57-2f80-4981-ba50-0a76ab8e19ed",
        "outputId": "fcbeb55f-0c0c-46b3-a43c-102cdc4ac335"
      },
      "outputs": [
        {
          "data": {
            "image/png": "[encoded data removed]",
            "text/plain": [
              "<Figure size 864x576 with 4 Axes>"
            ]
          },
          "metadata": {
            "needs_background": "light"
          },
          "output_type": "display_data"
        },
        {
          "name": "stdout",
          "output_type": "stream",
          "text": [
            "(225,)\n"
          ]
        }
      ],
      "source": [
        "ema = numpy_ewma_vectorized(df[\"price_ram\"], 3)\n",
        "trend = decomposition_plot2(df[\"price_ram\"]).fillna(method = \"bfill\").fillna(method = \"ffill\").to_numpy()\n",
        "print(y_der.shape)"
      ]
    },
    {
      "cell_type": "code",
      "execution_count": null,
      "id": "f8edd723-686f-4ded-80fd-3b337f93f5b6",
      "metadata": {
        "id": "f8edd723-686f-4ded-80fd-3b337f93f5b6",
        "outputId": "de50f56c-88de-4027-9b74-31055eb5f9ac"
      },
      "outputs": [
        {
          "name": "stdout",
          "output_type": "stream",
          "text": [
            "(214,)\n",
            "(226, 1)\n"
          ]
        }
      ],
      "source": [
        "print(trend.shape)\n",
        "print(y_2.shape)\n"
      ]
    },
    {
      "cell_type": "markdown",
      "id": "690cfd96-a9eb-4def-9901-cae093a08fd2",
      "metadata": {
        "id": "690cfd96-a9eb-4def-9901-cae093a08fd2"
      },
      "source": [
        "График данных с трендом и без тренда"
      ]
    },
    {
      "cell_type": "code",
      "execution_count": null,
      "id": "d72a10c3-d40a-42e2-9769-68951f4da925",
      "metadata": {
        "id": "d72a10c3-d40a-42e2-9769-68951f4da925",
        "outputId": "403ffcb5-5583-4f7b-a072-29a3867ba852"
      },
      "outputs": [
        {
          "data": {
            "image/png": "[encoded data removed]",
            "text/plain": [
              "<Figure size 1152x288 with 1 Axes>"
            ]
          },
          "metadata": {
            "needs_background": "light"
          },
          "output_type": "display_data"
        }
      ],
      "source": [
        "fig = plt.figure(figsize=(16, 4))\n",
        "plt.plot(y_der.flatten(), c=\"g\", label = \"derivative\")\n",
        "plt.plot(trend.flatten(), c=\"b\", label = \"trend\")\n",
        "plt.legend()\n",
        "plt.show()"
      ]
    },
    {
      "cell_type": "code",
      "execution_count": null,
      "id": "f1cbf009-0aa5-4691-9352-3e05013f3739",
      "metadata": {
        "id": "f1cbf009-0aa5-4691-9352-3e05013f3739",
        "outputId": "9b5b984e-ab89-40cb-ae7b-20d6e0c3eede"
      },
      "outputs": [
        {
          "name": "stdout",
          "output_type": "stream",
          "text": [
            "(204, 4)\n",
            "(21, 4)\n",
            "(204,)\n",
            "(21,)\n"
          ]
        }
      ],
      "source": [
        "Xtrn \n",
        "Xtest = Xtest[:-1,:]\n",
        "print(Xtrn.shape)\n",
        "print(Xtest.shape)\n",
        "\n",
        "Ytrn = y_der[:204]\n",
        "Ytest = y_der[204:]\n",
        "print(Ytrn.shape)\n",
        "print(Ytest.shape)"
      ]
    },
    {
      "cell_type": "code",
      "execution_count": null,
      "id": "f6ad27bf-c25c-4991-89b1-5637a5f52124",
      "metadata": {
        "id": "f6ad27bf-c25c-4991-89b1-5637a5f52124"
      },
      "outputs": [],
      "source": [
        "#создаем временные структуры\n",
        "TestModels = DataFrame()\n",
        "TestModelsPred = DataFrame()\n",
        "tmp = {}\n",
        "\n",
        "#для каждой модели из списка\n",
        "for model in models:\n",
        "    #получаем имя модели\n",
        "    m = str(model)\n",
        "    tmp['Model'] = m[:m.index('(')]    \n",
        "    #для каждого столбцам результирующего набора\n",
        "    for i in range(Ytrn.shape[0]):\n",
        "        #обучаем модель\n",
        "        model.fit(Xtrn, Ytrn) \n",
        "        #вычисляем коэффициент детерминации\n",
        "        tmp['R2_Y%s'%str(i+1)] = r2_score(Ytest, model.predict(Xtest))\n",
        "        pred = model.predict(Xtest)\n",
        "    #записываем данные и итоговый DataFrame\n",
        "    pred = model.predict(Xtest)\n",
        "    TestModels = TestModels.append([tmp])\n",
        "#делаем индекс по названию модели\n",
        "TestModels.set_index('Model', inplace=True)"
      ]
    },
    {
      "cell_type": "code",
      "execution_count": null,
      "id": "5d812093-5de2-4e1d-b23f-34b3f8126b04",
      "metadata": {
        "id": "5d812093-5de2-4e1d-b23f-34b3f8126b04",
        "outputId": "e219b57b-c692-4b4a-9f82-61091f20484c"
      },
      "outputs": [
        {
          "data": {
            "image/png": "[encoded data removed]",
            "text/plain": [
              "<Figure size 720x288 with 1 Axes>"
            ]
          },
          "metadata": {
            "needs_background": "light"
          },
          "output_type": "display_data"
        }
      ],
      "source": [
        "fig, axes = plt.subplots(1, 1, figsize=(10,4))\n",
        "TestModels.R2_Y1.plot(kind='bar', title='R2_Y1');"
      ]
    },
    {
      "cell_type": "markdown",
      "id": "670ae04c-13b2-4678-b62c-14e60a418e51",
      "metadata": {
        "id": "670ae04c-13b2-4678-b62c-14e60a418e51"
      },
      "source": [
        "## Инициализация моделей регрессий"
      ]
    },
    {
      "cell_type": "code",
      "execution_count": null,
      "id": "5353660f-12e5-4a94-8710-431484f95a1d",
      "metadata": {
        "id": "5353660f-12e5-4a94-8710-431484f95a1d"
      },
      "outputs": [],
      "source": [
        "from sklearn.svm import NuSVR\n",
        "from sklearn.linear_model import LinearRegression\n",
        "\n",
        "def few_regressors(Xtrn, Ytrn, Xtest, Ytest):\n",
        "    forest_data = RandomForestRegressor().fit(Xtrn, Ytrn)\n",
        "    print(forest_data.score(Xtest, Ytest))\n",
        "\n",
        "\n",
        "\n",
        "    knn = KNeighborsRegressor().fit(Xtrn, Ytrn)\n",
        "    print(knn.score(Xtest, Ytest))\n",
        "\n",
        "    ln = LinearRegression().fit(Xtrn, Ytrn)\n",
        "    print(ln.score(Xtest, Ytest))\n",
        "\n",
        "   \n",
        "    \n",
        "    return forest_data, knn, ln"
      ]
    },
    {
      "cell_type": "code",
      "execution_count": null,
      "id": "f1430716-1bff-4850-881e-cd8a1ea5474f",
      "metadata": {
        "id": "f1430716-1bff-4850-881e-cd8a1ea5474f",
        "outputId": "bf200353-39e1-4915-ea57-c14689d93e91"
      },
      "outputs": [
        {
          "name": "stdout",
          "output_type": "stream",
          "text": [
            "-3.473715676296923\n",
            "-2.477049805684823\n",
            "-4.7001444723890655\n"
          ]
        }
      ],
      "source": [
        "forest_data,  knn, ln = few_regressors(Xtrn, Ytrn, Xtest, Ytest)"
      ]
    },
    {
      "cell_type": "code",
      "execution_count": null,
      "id": "b595b880-db5e-4766-b6fc-4f11ea7e0de3",
      "metadata": {
        "id": "b595b880-db5e-4766-b6fc-4f11ea7e0de3",
        "outputId": "a19f6202-4099-4de1-cef0-96da131a295a"
      },
      "outputs": [
        {
          "name": "stdout",
          "output_type": "stream",
          "text": [
            "   Price_gold  processnodes(nm)  tupe_ram  maks_desktop_gb\n",
            "0     289.264             250.0       1.0              4.0\n",
            "1     297.743             250.0       1.0              4.0\n",
            "2     295.870             250.0       1.0              4.0 \n",
            "\n",
            "   Price_gold  processnodes(nm)  tupe_ram  maks_desktop_gb\n",
            "0    1243.068              22.0       4.0            128.0\n",
            "1    1298.713              14.0       4.0            128.0\n",
            "2    1336.560              14.0       4.0            128.0 \n",
            "\n",
            "   price_ram\n",
            "0   0.015585\n",
            "1   0.015346\n",
            "2   0.119474\n",
            "   price_ram\n",
            "0  -0.000793\n",
            "1  -0.000793\n",
            "2  -0.000595\n"
          ]
        }
      ],
      "source": [
        "Xtrn_1 = pd.DataFrame(Xtrn, columns=['Price_gold', 'processnodes(nm)', 'tupe_ram', \"maks_desktop_gb\"])\n",
        "Xtest_1 = pd.DataFrame(Xtest, columns=['Price_gold', 'processnodes(nm)', 'tupe_ram', \"maks_desktop_gb\"])\n",
        "Ytrn_1 = pd.DataFrame(Ytrn, columns=['price_ram'])\n",
        "Ytest_1 = pd.DataFrame(Ytest, columns=['price_ram'])\n",
        "\n",
        "\n",
        "X_train_2_pd = Xtrn_1\n",
        "X_test_2_pd = Xtest_1\n",
        "X_train_3 = X_train_2_pd \n",
        "X_test_3 = X_test_2_pd\n",
        "\n",
        "y_train_3 = Ytrn_1\n",
        "y_test_3 = Ytest_1\n",
        "print(X_train_3.head(3), \"\\n\")\n",
        "print(X_test_3.head(3), \"\\n\")\n",
        "print(y_train_3.head(3))\n",
        "print(y_test_3.head(3))"
      ]
    },
    {
      "cell_type": "code",
      "execution_count": null,
      "id": "a984d509-15dd-49dd-b1f0-334296f9300f",
      "metadata": {
        "id": "a984d509-15dd-49dd-b1f0-334296f9300f",
        "outputId": "b7bd8fd9-e6de-4e71-ec1d-015446e166fd"
      },
      "outputs": [
        {
          "name": "stdout",
          "output_type": "stream",
          "text": [
            "-3.893936264724899\n",
            "-2.477049805684823\n",
            "-4.7001444723890655\n"
          ]
        }
      ],
      "source": [
        "forest_data,  knn, lnn = few_regressors(X_train_3, y_train_3, X_test_3, y_test_3)"
      ]
    },
    {
      "cell_type": "code",
      "execution_count": null,
      "id": "53901ad7-cd22-4e09-9854-7deaf30b7501",
      "metadata": {
        "id": "53901ad7-cd22-4e09-9854-7deaf30b7501",
        "outputId": "b52939e5-b05e-424e-99de-f3ee08e30412"
      },
      "outputs": [
        {
          "data": {
            "image/png": "[encoded data removed]",
            "text/plain": [
              "<Figure size 1080x720 with 1 Axes>"
            ]
          },
          "metadata": {
            "needs_background": "light"
          },
          "output_type": "display_data"
        }
      ],
      "source": [
        "fig = plt.figure(figsize = (15, 10))\n",
        "# plt.plot(X_train_3.index, y_train_3, label='Train')\n",
        "plt.plot(X_test_3.index, forest_data.predict(X_test_3), label=\"forest\")\n",
        "\n",
        "plt.plot(X_test_3.index, knn.predict(X_test_3), label=\"knn\")\n",
        "\n",
        "# plt.plot(X_test_3.index, ln.predict(X_test_3), label=\"lr\")\n",
        "plt.plot(X_test_3.index, y_test_3, label=\"Test\")\n",
        "plt.legend()\n",
        "plt.show()"
      ]
    },
    {
      "cell_type": "code",
      "execution_count": null,
      "id": "dc29363f-4ffe-4d02-9088-74b5477cc72d",
      "metadata": {
        "id": "dc29363f-4ffe-4d02-9088-74b5477cc72d",
        "outputId": "5937d04a-c47b-4dc8-9813-5ae1219b6bb1"
      },
      "outputs": [
        {
          "name": "stdout",
          "output_type": "stream",
          "text": [
            "   Price_gold  processnodes(nm)  tupe_ram  maks_desktop_gb\n",
            "0     289.264             250.0       1.0              4.0\n",
            "1     297.743             250.0       1.0              4.0\n",
            "2     295.870             250.0       1.0              4.0\n",
            "\n",
            "   price_ram\n",
            "0   0.015585\n",
            "1   0.015346\n",
            "2   0.119474\n"
          ]
        }
      ],
      "source": [
        "X_train_4 = X_train_3 # Производная\n",
        "X_test_4 = X_test_3\n",
        "\n",
        "y_train_4 = Ytrn_1\n",
        "y_test_4 = Ytest_1\n",
        "\n",
        "print(X_train_3.head(3))\n",
        "print()\n",
        "print(y_train_3.head(3))"
      ]
    },
    {
      "cell_type": "markdown",
      "id": "d444eaae-54e9-498c-a4e6-42986f89dcc9",
      "metadata": {
        "id": "d444eaae-54e9-498c-a4e6-42986f89dcc9"
      },
      "source": [
        "## График квадратичной ошибки"
      ]
    },
    {
      "cell_type": "code",
      "execution_count": null,
      "id": "887ed88b-0274-4541-b633-545e91a53c43",
      "metadata": {
        "id": "887ed88b-0274-4541-b633-545e91a53c43",
        "outputId": "a7bbb4fe-3840-4cdc-84a9-894082a62e3b"
      },
      "outputs": [
        {
          "name": "stdout",
          "output_type": "stream",
          "text": [
            "predicted=0.094077, expected=-0.282232\n",
            "predicted=0.146496, expected=0.165156\n",
            "predicted=0.028565, expected=0.023867\n",
            "predicted=-0.049821, expected=-0.008432\n",
            "predicted=0.014721, expected=0.052877\n",
            "predicted=-0.001802, expected=-0.088868\n",
            "predicted=-0.003466, expected=-0.000871\n",
            "predicted=0.000849, expected=0.000847\n",
            "predicted=-0.007259, expected=-0.007365\n",
            "predicted=-0.003219, expected=0.004150\n",
            "predicted=-0.008057, expected=-0.003734\n",
            "predicted=-0.000740, expected=-0.000719\n",
            "predicted=-0.000099, expected=-0.000066\n",
            "predicted=0.001584, expected=0.001078\n",
            "predicted=-0.002781, expected=0.000000\n",
            "predicted=-0.000862, expected=-0.001027\n",
            "predicted=-0.000011, expected=-0.000050\n",
            "predicted=0.000403, expected=0.000323\n",
            "predicted=0.000330, expected=-0.000793\n",
            "predicted=-0.000198, expected=-0.000198\n",
            "Test MSE: 0.004\n"
          ]
        },
        {
          "data": {
            "image/png": "[encoded data removed]",
            "text/plain": [
              "<Figure size 2160x1080 with 1 Axes>"
            ]
          },
          "metadata": {
            "needs_background": "light"
          },
          "output_type": "display_data"
        }
      ],
      "source": [
        "from numpy import mean\n",
        "from sklearn.metrics import mean_squared_error\n",
        "from matplotlib import pyplot\n",
        "\n",
        "# prepare situation\n",
        "X = y_train_4.values\n",
        "window = 3\n",
        "history = [X[i] for i in range(window)]\n",
        "test = [X[i] for i in range(window, len(X))] # Тестовые данные\n",
        "predictions = list()\n",
        "\n",
        "# walk forward over time steps in test\n",
        "for t in range(len(test)):\n",
        "    length = len(history)\n",
        "    yhat = mean([history[i] for i in range(length-window,length)])\n",
        "    obs = test[t]\n",
        "    predictions.append(yhat)\n",
        "    history.append(obs)\n",
        "    if len(predictions) % 10 == 0:\n",
        "        print('predicted=%f, expected=%f' % (yhat, obs))\n",
        "\n",
        "# Квадратичная ошибка\n",
        "error = mean_squared_error(test, predictions)\n",
        "print('Test MSE: %.3f' % error)\n",
        "\n",
        "fig = plt.figure(figsize = (30, 15))\n",
        "\n",
        "plt.plot(test, label='Test')\n",
        "plt.plot(predictions, color='red', label = 'MSE')\n",
        "plt.title('График квадратичной ошибки')\n",
        "plt.xlabel('')\n",
        "plt.ylabel('Price Log')\n",
        "plt.legend();\n",
        "\n",
        "# Приближение на графике\n",
        "# zoom plot\n",
        "# plt.plot(test[40:60])\n",
        "# plt.plot(predictions[40:60], color='red')\n",
        "# plt.title('')\n",
        "# plt.show();"
      ]
    },
    {
      "cell_type": "markdown",
      "id": "9ee3bcb3-83e2-4e2e-8909-2a3c6688d780",
      "metadata": {
        "id": "9ee3bcb3-83e2-4e2e-8909-2a3c6688d780"
      },
      "source": [
        "# Дифф. признаков"
      ]
    },
    {
      "cell_type": "code",
      "execution_count": null,
      "id": "6693f107-9a91-4cf9-baa7-83ec39b6438b",
      "metadata": {
        "id": "6693f107-9a91-4cf9-baa7-83ec39b6438b"
      },
      "outputs": [],
      "source": [
        "X_train_3_diff, y_train_3_diff, X_test_3_diff, y_test_3_diff = X_train_3.diff(), y_train_3.diff(), X_test_3.diff(), y_test_3.diff()\n",
        "X_train_3_diff, y_train_3_diff, X_test_3_diff, y_test_3_diff = X_train_3_diff.dropna(), y_train_3_diff.dropna(), X_test_3_diff.dropna(), y_test_3_diff.dropna()"
      ]
    },
    {
      "cell_type": "code",
      "execution_count": null,
      "id": "23ab6f98-ac0a-48d0-bd55-66195b7c0e69",
      "metadata": {
        "id": "23ab6f98-ac0a-48d0-bd55-66195b7c0e69",
        "outputId": "edd849a4-6dc5-4ae4-9f36-756aa68fd805"
      },
      "outputs": [
        {
          "name": "stdout",
          "output_type": "stream",
          "text": [
            "-11066.005823867175\n",
            "-11337.371393790967\n",
            "-648.7344761927131\n"
          ]
        },
        {
          "data": {
            "image/png": "[encoded data removed]",
            "text/plain": [
              "<Figure size 1080x720 with 1 Axes>"
            ]
          },
          "metadata": {
            "needs_background": "light"
          },
          "output_type": "display_data"
        }
      ],
      "source": [
        "forest_data,  knn, lnn = few_regressors(X_train_3_diff, y_train_3_diff, X_test_3_diff, y_test_3_diff)\n",
        "\n",
        "fig = plt.figure(figsize = (15, 10))\n",
        "# plt.plot(X_train_3.index, y_train_3, label='Train')\n",
        "plt.plot(X_test_3.index, forest_data.predict(X_test_3), label=\"forest\")\n",
        "\n",
        "plt.plot(X_test_3.index, knn.predict(X_test_3), label=\"knn\")\n",
        "\n",
        "plt.plot(X_test_3.index, ln.predict(X_test_3), label=\"lr\")\n",
        "plt.plot(X_test_3.index, y_test_3, label=\"Test\")\n",
        "plt.legend()\n",
        "plt.show()"
      ]
    },
    {
      "cell_type": "code",
      "execution_count": null,
      "id": "a07adce6-466f-4d6a-accb-212435247f9b",
      "metadata": {
        "id": "a07adce6-466f-4d6a-accb-212435247f9b"
      },
      "outputs": [],
      "source": [
        "# <div class='alert class-block alert-warning'>\n",
        "  \n",
        "# </div>"
      ]
    },
    {
      "cell_type": "code",
      "execution_count": null,
      "id": "975b2da7-58e8-461d-8b94-8e3d8d6a5a80",
      "metadata": {
        "id": "975b2da7-58e8-461d-8b94-8e3d8d6a5a80",
        "outputId": "0adae7c9-f39f-4cfb-b7a3-38d24ef534d3"
      },
      "outputs": [
        {
          "data": {
            "text/html": [
              "<div>\n",
              "<style scoped>\n",
              "    .dataframe tbody tr th:only-of-type {\n",
              "        vertical-align: middle;\n",
              "    }\n",
              "\n",
              "    .dataframe tbody tr th {\n",
              "        vertical-align: top;\n",
              "    }\n",
              "\n",
              "    .dataframe thead th {\n",
              "        text-align: right;\n",
              "    }\n",
              "</style>\n",
              "<table border=\"1\" class=\"dataframe\">\n",
              "  <thead>\n",
              "    <tr style=\"text-align: right;\">\n",
              "      <th></th>\n",
              "      <th>Price_gold</th>\n",
              "      <th>processnodes(nm)</th>\n",
              "      <th>tupe_ram</th>\n",
              "      <th>maks_desktop_gb</th>\n",
              "    </tr>\n",
              "  </thead>\n",
              "  <tbody>\n",
              "    <tr>\n",
              "      <th>0</th>\n",
              "      <td>289.264</td>\n",
              "      <td>250.0</td>\n",
              "      <td>1.0</td>\n",
              "      <td>4.0</td>\n",
              "    </tr>\n",
              "    <tr>\n",
              "      <th>1</th>\n",
              "      <td>297.743</td>\n",
              "      <td>250.0</td>\n",
              "      <td>1.0</td>\n",
              "      <td>4.0</td>\n",
              "    </tr>\n",
              "    <tr>\n",
              "      <th>2</th>\n",
              "      <td>295.870</td>\n",
              "      <td>250.0</td>\n",
              "      <td>1.0</td>\n",
              "      <td>4.0</td>\n",
              "    </tr>\n",
              "    <tr>\n",
              "      <th>3</th>\n",
              "      <td>308.558</td>\n",
              "      <td>250.0</td>\n",
              "      <td>1.0</td>\n",
              "      <td>4.0</td>\n",
              "    </tr>\n",
              "    <tr>\n",
              "      <th>4</th>\n",
              "      <td>298.971</td>\n",
              "      <td>250.0</td>\n",
              "      <td>1.0</td>\n",
              "      <td>4.0</td>\n",
              "    </tr>\n",
              "    <tr>\n",
              "      <th>...</th>\n",
              "      <td>...</td>\n",
              "      <td>...</td>\n",
              "      <td>...</td>\n",
              "      <td>...</td>\n",
              "    </tr>\n",
              "    <tr>\n",
              "      <th>209</th>\n",
              "      <td>1182.248</td>\n",
              "      <td>14.0</td>\n",
              "      <td>4.0</td>\n",
              "      <td>128.0</td>\n",
              "    </tr>\n",
              "    <tr>\n",
              "      <th>210</th>\n",
              "      <td>1131.580</td>\n",
              "      <td>14.0</td>\n",
              "      <td>4.0</td>\n",
              "      <td>128.0</td>\n",
              "    </tr>\n",
              "    <tr>\n",
              "      <th>211</th>\n",
              "      <td>1117.525</td>\n",
              "      <td>14.0</td>\n",
              "      <td>4.0</td>\n",
              "      <td>128.0</td>\n",
              "    </tr>\n",
              "    <tr>\n",
              "      <th>212</th>\n",
              "      <td>1124.905</td>\n",
              "      <td>14.0</td>\n",
              "      <td>4.0</td>\n",
              "      <td>128.0</td>\n",
              "    </tr>\n",
              "    <tr>\n",
              "      <th>213</th>\n",
              "      <td>1157.123</td>\n",
              "      <td>14.0</td>\n",
              "      <td>4.0</td>\n",
              "      <td>128.0</td>\n",
              "    </tr>\n",
              "  </tbody>\n",
              "</table>\n",
              "<p>214 rows × 4 columns</p>\n",
              "</div>"
            ],
            "text/plain": [
              "     Price_gold  processnodes(nm)  tupe_ram  maks_desktop_gb\n",
              "0       289.264             250.0       1.0              4.0\n",
              "1       297.743             250.0       1.0              4.0\n",
              "2       295.870             250.0       1.0              4.0\n",
              "3       308.558             250.0       1.0              4.0\n",
              "4       298.971             250.0       1.0              4.0\n",
              "..          ...               ...       ...              ...\n",
              "209    1182.248              14.0       4.0            128.0\n",
              "210    1131.580              14.0       4.0            128.0\n",
              "211    1117.525              14.0       4.0            128.0\n",
              "212    1124.905              14.0       4.0            128.0\n",
              "213    1157.123              14.0       4.0            128.0\n",
              "\n",
              "[214 rows x 4 columns]"
            ]
          },
          "execution_count": 61,
          "metadata": {},
          "output_type": "execute_result"
        }
      ],
      "source": [
        "data = pd.read_csv('BigRamPrice2.csv', sep=';')\n",
        "data = data.drop(['max_stick'], axis=1)\n",
        "#, 'tupe_ram', 'max_stick', 'maks_desktop_gb']\n",
        "data_1 = data.loc[:,'Date':'processnodes(nm)'].copy()\n",
        "data_2 = data.loc[:,'tupe_ram':'maks_desktop_gb'].copy()\n",
        "\n",
        "data = pd.concat([data_1, data_2], axis=1).dropna().drop(['Date'], axis=1).astype('float')\n",
        "data_test = data['price_ram'].reset_index().drop(['index'], axis=1)\n",
        "data = data.drop(['price_ram'], axis=1)\n",
        "data = data.reset_index().drop(['index'], axis=1)\n",
        "data"
      ]
    },
    {
      "cell_type": "code",
      "execution_count": null,
      "id": "0e669fe1-7b1c-4eb0-9fa5-34d02bdf2420",
      "metadata": {
        "id": "0e669fe1-7b1c-4eb0-9fa5-34d02bdf2420"
      },
      "outputs": [],
      "source": [
        "data_final_train = data.loc[:190]\n",
        "data_final_test = data.loc[190:]\n",
        "\n",
        "test_final_train = data_test.loc[:190]\n",
        "test_final_test = data_test.loc[190:] "
      ]
    },
    {
      "cell_type": "code",
      "execution_count": null,
      "id": "f54a1391-b820-4cf5-9914-0819fb88fd07",
      "metadata": {
        "id": "f54a1391-b820-4cf5-9914-0819fb88fd07",
        "outputId": "2dc71134-bda0-40ee-b72a-d8e5c2b527fd"
      },
      "outputs": [
        {
          "data": {
            "text/html": [
              "<div>\n",
              "<style scoped>\n",
              "    .dataframe tbody tr th:only-of-type {\n",
              "        vertical-align: middle;\n",
              "    }\n",
              "\n",
              "    .dataframe tbody tr th {\n",
              "        vertical-align: top;\n",
              "    }\n",
              "\n",
              "    .dataframe thead th {\n",
              "        text-align: right;\n",
              "    }\n",
              "</style>\n",
              "<table border=\"1\" class=\"dataframe\">\n",
              "  <thead>\n",
              "    <tr style=\"text-align: right;\">\n",
              "      <th></th>\n",
              "      <th>price_ram</th>\n",
              "    </tr>\n",
              "  </thead>\n",
              "  <tbody>\n",
              "    <tr>\n",
              "      <th>0</th>\n",
              "      <td>0.91000</td>\n",
              "    </tr>\n",
              "    <tr>\n",
              "      <th>1</th>\n",
              "      <td>0.94000</td>\n",
              "    </tr>\n",
              "    <tr>\n",
              "      <th>2</th>\n",
              "      <td>0.97000</td>\n",
              "    </tr>\n",
              "    <tr>\n",
              "      <th>3</th>\n",
              "      <td>1.22000</td>\n",
              "    </tr>\n",
              "    <tr>\n",
              "      <th>4</th>\n",
              "      <td>1.19000</td>\n",
              "    </tr>\n",
              "    <tr>\n",
              "      <th>...</th>\n",
              "      <td>...</td>\n",
              "    </tr>\n",
              "    <tr>\n",
              "      <th>209</th>\n",
              "      <td>0.00505</td>\n",
              "    </tr>\n",
              "    <tr>\n",
              "      <th>210</th>\n",
              "      <td>0.00450</td>\n",
              "    </tr>\n",
              "    <tr>\n",
              "      <th>211</th>\n",
              "      <td>0.00440</td>\n",
              "    </tr>\n",
              "    <tr>\n",
              "      <th>212</th>\n",
              "      <td>0.00430</td>\n",
              "    </tr>\n",
              "    <tr>\n",
              "      <th>213</th>\n",
              "      <td>0.00380</td>\n",
              "    </tr>\n",
              "  </tbody>\n",
              "</table>\n",
              "<p>214 rows × 1 columns</p>\n",
              "</div>"
            ],
            "text/plain": [
              "     price_ram\n",
              "0      0.91000\n",
              "1      0.94000\n",
              "2      0.97000\n",
              "3      1.22000\n",
              "4      1.19000\n",
              "..         ...\n",
              "209    0.00505\n",
              "210    0.00450\n",
              "211    0.00440\n",
              "212    0.00430\n",
              "213    0.00380\n",
              "\n",
              "[214 rows x 1 columns]"
            ]
          },
          "execution_count": 63,
          "metadata": {},
          "output_type": "execute_result"
        }
      ],
      "source": [
        "data_test"
      ]
    },
    {
      "cell_type": "code",
      "execution_count": null,
      "id": "f1b1d720-3486-4d72-878c-5820fd995a2d",
      "metadata": {
        "id": "f1b1d720-3486-4d72-878c-5820fd995a2d",
        "outputId": "151316df-463b-468d-ffe0-6126853c46bb"
      },
      "outputs": [
        {
          "data": {
            "image/png": "[encoded data removed]",
            "text/plain": [
              "<Figure size 1080x720 with 1 Axes>"
            ]
          },
          "metadata": {
            "needs_background": "light"
          },
          "output_type": "display_data"
        }
      ],
      "source": [
        "forest_pred = forest_data.predict(data_final_test)  \n",
        "knn_pred = knn.predict(data_final_test)  \n",
        "lnn_pred = lnn.predict(data_final_test)  \n",
        "\n",
        "ax = fig.add_subplot(122)\n",
        "fig = plt.figure(figsize = (15, 10))\n",
        "\n",
        "# plt.plot(X_train_3.index, y_train_3, label='Train')\n",
        "plt.plot(data_final_test.index, forest_data.predict(data_final_test), label=\"forest\")\n",
        "plt.plot(data_final_test.index, knn.predict(data_final_test), label=\"knn\")\n",
        "plt.plot(data_final_test.index, ln.predict(data_final_test), label=\"lr\")\n",
        "plt.plot(test_final_test.index, test_final_test, label=\"Data\", marker='o', linewidth='2')\n",
        "# plt.xlim(150, 200)\n",
        "# plt.ylim(-0.01, 0.05)\n",
        "plt.legend()\n",
        "plt.show()"
      ]
    },
    {
      "cell_type": "code",
      "execution_count": null,
      "id": "6e6c089a-f9f2-407c-ab99-0780c37138a0",
      "metadata": {
        "id": "6e6c089a-f9f2-407c-ab99-0780c37138a0"
      },
      "outputs": [],
      "source": [
        "#создаем временные структуры\n",
        "TestModels = DataFrame()\n",
        "TestModelsPred = DataFrame()\n",
        "tmp = {}\n",
        "\n",
        "#для каждой модели из списка\n",
        "for model in models:\n",
        "    #получаем имя модели\n",
        "    m = str(model)\n",
        "    tmp['Model'] = m[:m.index('(')]    \n",
        "    #для каждого столбцам результирующего набора\n",
        "    for i in range(test_final_train.shape[0]):\n",
        "        #обучаем модель\n",
        "        model.fit(data_final_train, test_final_train) \n",
        "        #вычисляем коэффициент детерминации\n",
        "        tmp['R2_Y%s'%str(i+1)] = r2_score(test_final_test, model.predict(data_final_test))\n",
        "        pred = model.predict(data_final_test)\n",
        "    #записываем данные и итоговый DataFrame\n",
        "    pred = model.predict(data_final_test)\n",
        "    TestModels = TestModels.append([tmp])\n",
        "#делаем индекс по названию модели\n",
        "TestModels.set_index('Model', inplace=True)"
      ]
    },
    {
      "cell_type": "code",
      "execution_count": null,
      "id": "cc15cdd6-8ceb-4504-86f7-9784a97ad2bd",
      "metadata": {
        "id": "cc15cdd6-8ceb-4504-86f7-9784a97ad2bd",
        "outputId": "95a3b832-3117-4a03-ff46-8dc9e761fdad"
      },
      "outputs": [
        {
          "data": {
            "image/png": "[encoded data removed]",
            "text/plain": [
              "<Figure size 720x288 with 1 Axes>"
            ]
          },
          "metadata": {
            "needs_background": "light"
          },
          "output_type": "display_data"
        }
      ],
      "source": [
        "fig, axes = plt.subplots(1, 1, figsize=(10,4))\n",
        "plt.ylim(0, -105)\n",
        "TestModels.R2_Y1.plot(kind='bar', title='R2_Y1');"
      ]
    },
    {
      "cell_type": "code",
      "execution_count": null,
      "id": "650f5e7e-e95b-4ca2-abad-29cddd374c2d",
      "metadata": {
        "id": "650f5e7e-e95b-4ca2-abad-29cddd374c2d"
      },
      "outputs": [],
      "source": []
    }
  ],
  "metadata": {
    "colab": {
      "collapsed_sections": [
        "f4c4fe5b-b49c-45ef-bd13-3ce2fcaed4db",
        "1d5155c1-d33c-4428-80c3-d8aaa6798b34",
        "f2ebe0d6-475d-46c0-954a-e6648b25ac49",
        "61b98b93-3bbc-4142-a0e5-cd1dbefef047",
        "48a36db5-ce9e-49bd-a58e-93b3108d28ca",
        "2f724038-3343-4392-aeb5-17a983d92a98",
        "799a48c0-d5ef-4f55-a517-a71be3549b52",
        "69254c11-d3d0-48b3-99cb-79bf7e371866",
        "41549a29-9643-446f-b6b3-9fcfd3239867"
      ],
      "provenance": []
    },
    "kernelspec": {
      "display_name": "Python 3 (ipykernel)",
      "language": "python",
      "name": "python3"
    },
    "language_info": {
      "codemirror_mode": {
        "name": "ipython",
        "version": 3
      },
      "file_extension": ".py",
      "mimetype": "text/x-python",
      "name": "python",
      "nbconvert_exporter": "python",
      "pygments_lexer": "ipython3",
      "version": "3.9.7"
    }
  },
  "nbformat": 4,
  "nbformat_minor": 5
}